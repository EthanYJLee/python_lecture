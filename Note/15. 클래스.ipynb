{
 "cells": [
  {
   "cell_type": "code",
   "execution_count": 88,
   "metadata": {},
   "outputs": [],
   "source": [
    "class Services:\n",
    "    secret = \"임금님 귀는 당나귀 귀다!\"\n",
    "    # 파이썬 클래스에서 함수를 만들때 주의 *self*\n",
    "    def setName(self, name):\n",
    "        self.name = name\n",
    "\n",
    "\n",
    "    def sum(self, num1, num2):\n",
    "        result = num1 + num2\n",
    "        print(\"%s님! %d + %d = %d입니다.\"%(self.name,num1,num2,result))\n"
   ]
  },
  {
   "cell_type": "code",
   "execution_count": 89,
   "metadata": {},
   "outputs": [],
   "source": [
    "instance01 = Services()"
   ]
  },
  {
   "cell_type": "code",
   "execution_count": 90,
   "metadata": {},
   "outputs": [
    {
     "name": "stdout",
     "output_type": "stream",
     "text": [
      "임금님 귀는 당나귀 귀다!\n",
      "유비님! 1 + 2 = 3입니다.\n"
     ]
    }
   ],
   "source": [
    "print(instance01.secret)\n",
    "instance01.setName('유비')\n",
    "instance01.sum(1,2)"
   ]
  },
  {
   "cell_type": "code",
   "execution_count": 91,
   "metadata": {},
   "outputs": [],
   "source": [
    "class Services:\n",
    "    secret = \"임금님 귀는 당나귀 귀다!\"\n",
    "    # 파이썬 클래스에서 함수를 만들때 주의 *self*\n",
    "    def __init__(self, name):\n",
    "        self.name = name\n",
    "\n",
    "\n",
    "    def sum(self, num1, num2):\n",
    "        result = num1 + num2\n",
    "        print(\"%s님! %d + %d = %d입니다.\"%(self.name,num1,num2,result))"
   ]
  },
  {
   "cell_type": "code",
   "execution_count": 92,
   "metadata": {},
   "outputs": [
    {
     "name": "stdout",
     "output_type": "stream",
     "text": [
      "관우님! 2 + 3 = 5입니다.\n"
     ]
    }
   ],
   "source": [
    "instance01 = Services(\"관우\")\n",
    "instance01.secret\n",
    "instance01.sum(2,3)"
   ]
  },
  {
   "cell_type": "code",
   "execution_count": 93,
   "metadata": {},
   "outputs": [],
   "source": [
    "class Calc:\n",
    "    # 전역변수\n",
    "    def setdata(self,num1,num2):\n",
    "        self.num1 = num1\n",
    "        self.num2 = num2\n",
    "\n",
    "    def sum(self):\n",
    "        return self.num1 + self.num2\n",
    "\n",
    "    def sub(self):\n",
    "        return self.num1 - self.num2\n",
    "\n",
    "    def mul(self):\n",
    "        return self.num1 * self.num2\n",
    "\n",
    "    def div(self):\n",
    "        return self.num1 / self.num2\n",
    "        \n"
   ]
  },
  {
   "cell_type": "code",
   "execution_count": 94,
   "metadata": {},
   "outputs": [
    {
     "name": "stdout",
     "output_type": "stream",
     "text": [
      "덧셈: 6\n",
      "뺄셈: 2\n",
      "곱셈: 8\n",
      "나눗셈: 2.0\n"
     ]
    }
   ],
   "source": [
    "calc01 = Calc()\n",
    "calc01.setdata(4,2)\n",
    "print('덧셈:',calc01.sum())\n",
    "print('뺄셈:',calc01.sub())\n",
    "print('곱셈:',calc01.mul())\n",
    "print('나눗셈:',calc01.div())"
   ]
  },
  {
   "cell_type": "code",
   "execution_count": 95,
   "metadata": {},
   "outputs": [],
   "source": [
    "# 주의: 리스트/딕셔너리 등 가변객체는 클래스 변수로 사용X (공유됨)\n",
    "class Dog:\n",
    "    # tricks = []\n",
    "\n",
    "    def __init__(self,name):\n",
    "        self.name = name\n",
    "        self.tricks = []\n",
    "\n",
    "    def add_trick(self, trick):\n",
    "        self.tricks.append(trick)\n"
   ]
  },
  {
   "cell_type": "code",
   "execution_count": 96,
   "metadata": {},
   "outputs": [
    {
     "name": "stdout",
     "output_type": "stream",
     "text": [
      "푸들\n",
      "['원반']\n",
      "댕댕이\n",
      "['산책', '낮잠']\n"
     ]
    }
   ],
   "source": [
    "dog01 = Dog('푸들')\n",
    "dog01.add_trick('원반')\n",
    "dog02 = Dog('댕댕이')\n",
    "dog02.add_trick('산책')\n",
    "dog02.add_trick('낮잠')\n",
    "print(dog01.name)\n",
    "print(dog01.tricks)\n",
    "print(dog02.name)\n",
    "print(dog02.tricks)"
   ]
  },
  {
   "cell_type": "code",
   "execution_count": null,
   "metadata": {},
   "outputs": [],
   "source": []
  }
 ],
 "metadata": {
  "kernelspec": {
   "display_name": "tensorflow",
   "language": "python",
   "name": "python3"
  },
  "language_info": {
   "codemirror_mode": {
    "name": "ipython",
    "version": 3
   },
   "file_extension": ".py",
   "mimetype": "text/x-python",
   "name": "python",
   "nbconvert_exporter": "python",
   "pygments_lexer": "ipython3",
   "version": "3.9.13"
  },
  "orig_nbformat": 4,
  "vscode": {
   "interpreter": {
    "hash": "4d8b91bcbdb701e289b6a1d8c1277d30f7379cfd7af8489c64a2b22bf47c961d"
   }
  }
 },
 "nbformat": 4,
 "nbformat_minor": 2
}
