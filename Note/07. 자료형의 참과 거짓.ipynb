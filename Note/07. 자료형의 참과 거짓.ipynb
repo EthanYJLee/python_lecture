{
 "cells": [
  {
   "attachments": {},
   "cell_type": "markdown",
   "metadata": {},
   "source": [
    "### 자료형의 참과 거짓\n",
    "- 문자열인 경우 \"\"안에 데이터가 없으면 거짓, 있으면 참\n",
    "- 리스트인 경우 []안에 데이터가 없으면 거짓, 있으면 참\n",
    "- 튜플인 경우 ()안에 데이터가 없으면 거짓, 있으면 참\n",
    "- 딕셔너리인 경우 {}안에 데이터가 없으면 거짓, 있으면 참\n",
    "- 숫자인 경우 0이면 거짓, 0이 아닌 숫자인 경우는 참"
   ]
  },
  {
   "cell_type": "code",
   "execution_count": 9,
   "metadata": {},
   "outputs": [
    {
     "name": "stdout",
     "output_type": "stream",
     "text": [
      "4\n",
      "[1, 2, 3]\n",
      "3\n",
      "[1, 2]\n",
      "2\n",
      "[1]\n",
      "1\n",
      "[]\n"
     ]
    }
   ],
   "source": [
    "# 리스트형에서 자료 출력하면서 자료 지우기 (pop 사용)\n",
    "var = [1,2,3,4]\n",
    "while(var):\n",
    "    print(var.pop())\n",
    "    print(var)\n"
   ]
  },
  {
   "cell_type": "code",
   "execution_count": 13,
   "metadata": {},
   "outputs": [
    {
     "name": "stdout",
     "output_type": "stream",
     "text": [
      "1\n",
      "2\n",
      "False\n"
     ]
    }
   ],
   "source": [
    "# Tuple을 이용한 변수 생성\n",
    "var01, var02 = 1, 2\n",
    "print(var01)\n",
    "print(var02)\n",
    "print(var01 is var02)"
   ]
  },
  {
   "cell_type": "code",
   "execution_count": 17,
   "metadata": {},
   "outputs": [
    {
     "name": "stdout",
     "output_type": "stream",
     "text": [
      "1\n",
      "Lee\n",
      "False\n",
      "False\n"
     ]
    }
   ],
   "source": [
    "(var01, var02) = 1, 'Lee'\n",
    "print(var01)\n",
    "print(var02)\n",
    "print(var01 is var02)\n",
    "print(var01 == var02)"
   ]
  },
  {
   "cell_type": "code",
   "execution_count": 20,
   "metadata": {},
   "outputs": [
    {
     "name": "stdout",
     "output_type": "stream",
     "text": [
      "Lee Lee\n"
     ]
    }
   ],
   "source": [
    "var01 = var02 = 'Lee'\n",
    "print(var01, var02)"
   ]
  },
  {
   "cell_type": "code",
   "execution_count": 23,
   "metadata": {},
   "outputs": [
    {
     "name": "stdout",
     "output_type": "stream",
     "text": [
      "5 3\n"
     ]
    }
   ],
   "source": [
    "# 변수 값 교환\n",
    "var01 = 3\n",
    "var02 = 5\n",
    "var01, var02 = var02, var01\n",
    "print(var01, var02)"
   ]
  },
  {
   "cell_type": "code",
   "execution_count": 29,
   "metadata": {},
   "outputs": [
    {
     "name": "stdout",
     "output_type": "stream",
     "text": [
      "[1, 2, 6]\n",
      "[1, 2, 6]\n",
      "True\n"
     ]
    }
   ],
   "source": [
    "# 자주 실수하는 문제: 리스트의 복사\n",
    "var01 = [1,2,3]\n",
    "var02 = var01\n",
    "var02[2] = 6\n",
    "# var01도 바뀜 (== call by reference라 pointer가 동일한 위치를 가리킨다.)\n",
    "print(var01)\n",
    "print(var02)\n",
    "print(var01 is var02)"
   ]
  },
  {
   "cell_type": "code",
   "execution_count": 33,
   "metadata": {},
   "outputs": [
    {
     "name": "stdout",
     "output_type": "stream",
     "text": [
      "[1, 2, 3] [1, 2, 3]\n",
      "False\n",
      "[1, 4, 3] [1, 2, 3]\n",
      "False\n"
     ]
    }
   ],
   "source": [
    "# Slicing을 이용한 리스트 복사 (== call by value)\n",
    "var01 = [1,2,3]\n",
    "var02 = var01[:]\n",
    "print(var01, var02)\n",
    "print(var01 is var02)\n",
    "var01[1] = 4\n",
    "print(var01, var02)\n",
    "print(var01 is var02)"
   ]
  },
  {
   "cell_type": "code",
   "execution_count": 36,
   "metadata": {},
   "outputs": [
    {
     "name": "stdout",
     "output_type": "stream",
     "text": [
      "[1, 2, 3] [1, 2, 3]\n",
      "False\n",
      "[1, 4, 3] [1, 2, 3]\n",
      "False\n"
     ]
    }
   ],
   "source": [
    "# Module을 이용한 리스트의 복사\n",
    "# var01[:] = copy(var01)\n",
    "from copy import copy\n",
    "var01 = [1,2,3]\n",
    "var02 = copy(var01)\n",
    "print(var01, var02)\n",
    "print(var01 is var02)\n",
    "var01[1] = 4\n",
    "print(var01, var02)\n",
    "print(var01 is var02)\n",
    "# code ( function ( package"
   ]
  },
  {
   "cell_type": "code",
   "execution_count": 38,
   "metadata": {},
   "outputs": [
    {
     "name": "stdout",
     "output_type": "stream",
     "text": [
      "True\n",
      "False\n"
     ]
    }
   ],
   "source": [
    "print(4 in var01)\n",
    "print(10 in var01)\n",
    "# 값이 있는지 없는지 판단하고 if문 사용"
   ]
  },
  {
   "cell_type": "code",
   "execution_count": null,
   "metadata": {},
   "outputs": [],
   "source": []
  }
 ],
 "metadata": {
  "kernelspec": {
   "display_name": "Python 3",
   "language": "python",
   "name": "python3"
  },
  "language_info": {
   "codemirror_mode": {
    "name": "ipython",
    "version": 3
   },
   "file_extension": ".py",
   "mimetype": "text/x-python",
   "name": "python",
   "nbconvert_exporter": "python",
   "pygments_lexer": "ipython3",
   "version": "3.9.6"
  },
  "orig_nbformat": 4,
  "vscode": {
   "interpreter": {
    "hash": "31f2aee4e71d21fbe5cf8b01ff0e069b9275f58929596ceb00d14d90e3e16cd6"
   }
  }
 },
 "nbformat": 4,
 "nbformat_minor": 2
}
