{
 "cells": [
  {
   "attachments": {},
   "cell_type": "markdown",
   "metadata": {},
   "source": [
    "# 내장함수\n",
    "- 파이썬 내장함수\n",
    "- 웬만하면 numpy 쓰자"
   ]
  },
  {
   "cell_type": "code",
   "execution_count": 5,
   "metadata": {},
   "outputs": [
    {
     "name": "stdout",
     "output_type": "stream",
     "text": [
      "3\n",
      "True\n",
      "False\n"
     ]
    }
   ],
   "source": [
    "print(abs(-3))\n",
    "\n",
    "print(all([1,2,3]))\n",
    "print(all([1,2,0]))\n",
    "# == and 연산자"
   ]
  },
  {
   "cell_type": "code",
   "execution_count": 6,
   "metadata": {},
   "outputs": [
    {
     "name": "stdout",
     "output_type": "stream",
     "text": [
      "True\n",
      "True\n"
     ]
    }
   ],
   "source": [
    "print(any([0,0,1]))\n",
    "print(any([1,2,1]))\n",
    "# == or 연산자"
   ]
  },
  {
   "cell_type": "code",
   "execution_count": 8,
   "metadata": {},
   "outputs": [
    {
     "name": "stdout",
     "output_type": "stream",
     "text": [
      "a\n",
      "Ϩ\n"
     ]
    }
   ],
   "source": [
    "# chr : ASCII code값을 문자로 출력\n",
    "print(chr(97))"
   ]
  },
  {
   "cell_type": "code",
   "execution_count": 9,
   "metadata": {},
   "outputs": [
    {
     "data": {
      "text/plain": [
       "(2, 1)"
      ]
     },
     "execution_count": 9,
     "metadata": {},
     "output_type": "execute_result"
    }
   ],
   "source": [
    "divmod(7,3)\n",
    "# (몫, 나머지)"
   ]
  },
  {
   "cell_type": "code",
   "execution_count": 11,
   "metadata": {},
   "outputs": [
    {
     "name": "stdout",
     "output_type": "stream",
     "text": [
      "0 aa\n",
      "1 bb\n",
      "2 cc\n"
     ]
    }
   ],
   "source": [
    "# enumerate : 순서가 있는 자료형 (=list)을 index가 있는 enumerate 객체로 변환\n",
    "for i, name in enumerate(['aa','bb','cc']):\n",
    "    print(i,name)"
   ]
  },
  {
   "cell_type": "code",
   "execution_count": 14,
   "metadata": {},
   "outputs": [
    {
     "name": "stdout",
     "output_type": "stream",
     "text": [
      "[(1, 4), (2, 5), (3, 6)]\n",
      "[('a', 'd'), ('b', 'e'), ('c', 'f')]\n"
     ]
    }
   ],
   "source": [
    "# zip : '동일'한 개수로 이루어진 자료형을 묶어주는 역할\n",
    "num1 = [1,2,3]\n",
    "num2 = [4,5,6]\n",
    "print(list(zip(num1,num2)))\n",
    "print(list(zip(\"abc\",\"def\")))\n"
   ]
  },
  {
   "cell_type": "code",
   "execution_count": null,
   "metadata": {},
   "outputs": [],
   "source": []
  }
 ],
 "metadata": {
  "kernelspec": {
   "display_name": "tensorflow",
   "language": "python",
   "name": "python3"
  },
  "language_info": {
   "codemirror_mode": {
    "name": "ipython",
    "version": 3
   },
   "file_extension": ".py",
   "mimetype": "text/x-python",
   "name": "python",
   "nbconvert_exporter": "python",
   "pygments_lexer": "ipython3",
   "version": "3.9.13"
  },
  "orig_nbformat": 4,
  "vscode": {
   "interpreter": {
    "hash": "4d8b91bcbdb701e289b6a1d8c1277d30f7379cfd7af8489c64a2b22bf47c961d"
   }
  }
 },
 "nbformat": 4,
 "nbformat_minor": 2
}
