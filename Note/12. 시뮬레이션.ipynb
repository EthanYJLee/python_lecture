{
 "cells": [
  {
   "attachments": {},
   "cell_type": "markdown",
   "metadata": {},
   "source": [
    "### 시뮬레이션 (몬테카를로 시뮬레이션)\n",
    ": 자료가 없을 경우 난수를 통해 가설 증명\n"
   ]
  },
  {
   "cell_type": "code",
   "execution_count": 1,
   "metadata": {},
   "outputs": [],
   "source": [
    "import random"
   ]
  },
  {
   "cell_type": "code",
   "execution_count": 2,
   "metadata": {},
   "outputs": [
    {
     "data": {
      "text/plain": [
       "3"
      ]
     },
     "execution_count": 2,
     "metadata": {},
     "output_type": "execute_result"
    }
   ],
   "source": [
    "random.randint(1,10)"
   ]
  },
  {
   "cell_type": "code",
   "execution_count": 3,
   "metadata": {},
   "outputs": [],
   "source": [
    "def coinF(n):\n",
    "    coinFront = coinRear = 0\n",
    "    for i in range(1,n+1):\n",
    "        x = random.randint(1,2)\n",
    "        if x == 1:\n",
    "            coinFront += 1\n",
    "        else:\n",
    "            coinRear += 1\n",
    "    print(n,'번 시도시 동전의 앞면은',coinFront,'이고 동전의 뒷면은',coinRear,'번 입니다.')"
   ]
  },
  {
   "cell_type": "code",
   "execution_count": 4,
   "metadata": {},
   "outputs": [
    {
     "name": "stdout",
     "output_type": "stream",
     "text": [
      "10 번 시도시 동전의 앞면은 6 이고 동전의 뒷면은 4 번 입니다.\n",
      "100 번 시도시 동전의 앞면은 58 이고 동전의 뒷면은 42 번 입니다.\n",
      "1000 번 시도시 동전의 앞면은 490 이고 동전의 뒷면은 510 번 입니다.\n",
      "10000 번 시도시 동전의 앞면은 4955 이고 동전의 뒷면은 5045 번 입니다.\n",
      "100000 번 시도시 동전의 앞면은 50006 이고 동전의 뒷면은 49994 번 입니다.\n",
      "1000000 번 시도시 동전의 앞면은 499837 이고 동전의 뒷면은 500163 번 입니다.\n"
     ]
    }
   ],
   "source": [
    "coinF(10)\n",
    "coinF(100)\n",
    "coinF(1000)\n",
    "coinF(10000)\n",
    "coinF(100000)\n",
    "coinF(1000000)\n",
    "\n"
   ]
  },
  {
   "cell_type": "code",
   "execution_count": 10,
   "metadata": {},
   "outputs": [],
   "source": [
    "# 가위, 바위, 보 게임이 이길 확률이 같다는 것을 증명\n",
    "def rsp(n):\n",
    "    rock = scissors = paper = 0\n",
    "    for i in range(1,n+1):\n",
    "        x = random.randint(1,3)\n",
    "        if x == 1:\n",
    "            rock += 1\n",
    "        elif x == 2:\n",
    "            scissors += 1\n",
    "        else:\n",
    "            paper += 1\n",
    "    print('가위',scissors,'번','바위',rock,'번','보',paper,'번')"
   ]
  },
  {
   "cell_type": "code",
   "execution_count": 12,
   "metadata": {},
   "outputs": [
    {
     "name": "stdout",
     "output_type": "stream",
     "text": [
      "가위 5 번 바위 2 번 보 3 번\n",
      "가위 39 번 바위 35 번 보 26 번\n",
      "가위 334 번 바위 340 번 보 326 번\n",
      "가위 3317 번 바위 3326 번 보 3357 번\n",
      "가위 33464 번 바위 33240 번 보 33296 번\n",
      "가위 333678 번 바위 332825 번 보 333497 번\n"
     ]
    }
   ],
   "source": [
    "rsp(10)\n",
    "rsp(100)\n",
    "rsp(1000)\n",
    "rsp(10000)\n",
    "rsp(100000)\n",
    "rsp(1000000)\n"
   ]
  },
  {
   "cell_type": "code",
   "execution_count": null,
   "metadata": {},
   "outputs": [],
   "source": []
  }
 ],
 "metadata": {
  "kernelspec": {
   "display_name": "tensorflow",
   "language": "python",
   "name": "python3"
  },
  "language_info": {
   "codemirror_mode": {
    "name": "ipython",
    "version": 3
   },
   "file_extension": ".py",
   "mimetype": "text/x-python",
   "name": "python",
   "nbconvert_exporter": "python",
   "pygments_lexer": "ipython3",
   "version": "3.9.13 | packaged by conda-forge | (main, May 27 2022, 17:01:00) \n[Clang 13.0.1 ]"
  },
  "orig_nbformat": 4,
  "vscode": {
   "interpreter": {
    "hash": "4d8b91bcbdb701e289b6a1d8c1277d30f7379cfd7af8489c64a2b22bf47c961d"
   }
  }
 },
 "nbformat": 4,
 "nbformat_minor": 2
}
