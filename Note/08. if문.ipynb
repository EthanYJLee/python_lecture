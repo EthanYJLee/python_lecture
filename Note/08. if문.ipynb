{
 "cells": [
  {
   "cell_type": "code",
   "execution_count": 2,
   "metadata": {},
   "outputs": [],
   "source": [
    "from random import randint"
   ]
  },
  {
   "cell_type": "code",
   "execution_count": 20,
   "metadata": {},
   "outputs": [
    {
     "name": "stdout",
     "output_type": "stream",
     "text": [
      "x is less or equal than 50\n",
      "---End---\n"
     ]
    }
   ],
   "source": [
    "x = randint(1,100)\n",
    "\n",
    "if x > 50:\n",
    "    print('x is greater than 50')\n",
    "else:\n",
    "    print('x is less or equal than 50')\n",
    "print('---End---')"
   ]
  },
  {
   "cell_type": "code",
   "execution_count": 24,
   "metadata": {},
   "outputs": [
    {
     "name": "stdout",
     "output_type": "stream",
     "text": [
      "45\n",
      "x는 홀수\n"
     ]
    }
   ],
   "source": [
    "# 홀짝수 구분\n",
    "x = randint(1,100)\n",
    "\n",
    "print(x)\n",
    "if x%2==0:\n",
    "    print('x는 짝수')\n",
    "else:\n",
    "    print('x는 홀수')"
   ]
  },
  {
   "cell_type": "code",
   "execution_count": 26,
   "metadata": {},
   "outputs": [
    {
     "name": "stdout",
     "output_type": "stream",
     "text": [
      "9\n",
      "x는 홀수\n"
     ]
    }
   ],
   "source": [
    "# 홀짝수 구분\n",
    "x = randint(1,100)\n",
    "print(x)\n",
    "print('x는 짝수') if x % 2 == 0 else print('x는 홀수')"
   ]
  },
  {
   "cell_type": "code",
   "execution_count": 29,
   "metadata": {},
   "outputs": [
    {
     "name": "stdout",
     "output_type": "stream",
     "text": [
      "x는 짝수\n"
     ]
    }
   ],
   "source": [
    "x = int(input(\"숫자를 입력하세요: \"))\n",
    "print('x는 짝수') if x % 2 == 0 else print('x는 홀수')"
   ]
  },
  {
   "cell_type": "code",
   "execution_count": 30,
   "metadata": {},
   "outputs": [
    {
     "name": "stdout",
     "output_type": "stream",
     "text": [
      "x는 50보다 작음\n"
     ]
    }
   ],
   "source": [
    "x = int(input(\"숫자를 입력하세요: \"))\n",
    "print('x는 50보다 큼') if x > 50 else print('x는 50보다 작음') if x < 50 else print('x는 50')"
   ]
  },
  {
   "cell_type": "code",
   "execution_count": 41,
   "metadata": {},
   "outputs": [
    {
     "name": "stdout",
     "output_type": "stream",
     "text": [
      "점수는 100이고 A학점입니다.\n"
     ]
    }
   ],
   "source": [
    "# 사용자로부터 점수를 입력받아 학점 계산하기\n",
    "x = int(input(\"점수를 입력하세요: \"))\n",
    "grade = ['A','B','C','D','E','F']\n",
    "\n",
    "grade = grade[0] if x >=90 else grade[1] if x >= 80 else grade[2] if x >= 70 else grade[3] if x >= 60 else grade[4] if x >= 50 else grade[5]\n",
    "print(f'점수는 {x}이고 {grade}학점입니다.')"
   ]
  },
  {
   "cell_type": "code",
   "execution_count": null,
   "metadata": {},
   "outputs": [],
   "source": [
    "from math import sqrt"
   ]
  },
  {
   "cell_type": "code",
   "execution_count": 51,
   "metadata": {},
   "outputs": [
    {
     "name": "stdout",
     "output_type": "stream",
     "text": [
      "8\n"
     ]
    }
   ],
   "source": [
    "# 사용자로부터 숫자를 입력받아 5의 배수이면 제곱근을 구하고 아니면 입력한 수를 출력하기\n",
    "num = int(input(\"숫자를 입력하세요: \"))\n",
    "print(sqrt(num)) if num % 5 == 0 else print(num)\n"
   ]
  },
  {
   "cell_type": "markdown",
   "metadata": {},
   "source": [
    "### listed for문"
   ]
  },
  {
   "cell_type": "code",
   "execution_count": 52,
   "metadata": {},
   "outputs": [
    {
     "name": "stdout",
     "output_type": "stream",
     "text": [
      "[5, 10, 15, 20]\n"
     ]
    }
   ],
   "source": [
    "var01 = [1,2,3,4]\n",
    "var02 = [i * 5 for i in var01]\n",
    "print(var02)"
   ]
  },
  {
   "cell_type": "code",
   "execution_count": 53,
   "metadata": {},
   "outputs": [
    {
     "name": "stdout",
     "output_type": "stream",
     "text": [
      "[1, 10, 3, 20]\n"
     ]
    }
   ],
   "source": [
    "# var01 중 짝수인 경우에만 5를 곱하여 리스트 만들기\n",
    "var01 = [1,2,3,4]\n",
    "var02 = [i * 5 if i % 2 == 0 else i for i in var01]\n",
    "print(var02)"
   ]
  },
  {
   "cell_type": "code",
   "execution_count": 54,
   "metadata": {},
   "outputs": [
    {
     "name": "stdout",
     "output_type": "stream",
     "text": [
      "신용카드를 사용한 택시타기\n"
     ]
    }
   ],
   "source": [
    "pocket = ['paper','smartphone']\n",
    "card = 1\n",
    "if 'money' in pocket:\n",
    "    print(\"현금으로 택시타기\")\n",
    "elif card:\n",
    "    print(\"신용카드를 사용한 택시타기\")\n",
    "else:\n",
    "    print(\"튼튼한 다리를 사용\")"
   ]
  },
  {
   "cell_type": "code",
   "execution_count": 55,
   "metadata": {},
   "outputs": [
    {
     "name": "stdout",
     "output_type": "stream",
     "text": [
      "신용카드를 사용한 택시타기\n"
     ]
    }
   ],
   "source": [
    "pocket = ['paper','smartphone']\n",
    "card = 1\n",
    "print(\"현금으로 택시타기\") if 'money' in pocket else print(\"신용카드를 사용한 택시타기\") if card else print(\"튼튼한 다리를 사용\")"
   ]
  },
  {
   "cell_type": "code",
   "execution_count": 59,
   "metadata": {},
   "outputs": [
    {
     "name": "stdout",
     "output_type": "stream",
     "text": [
      "택시를 타자\n"
     ]
    }
   ],
   "source": [
    "money = 2000\n",
    "card = True\n",
    "print('택시를 타자') if money >= 3000 or card else print('걸어가자')"
   ]
  }
 ],
 "metadata": {
  "kernelspec": {
   "display_name": "Python 3",
   "language": "python",
   "name": "python3"
  },
  "language_info": {
   "codemirror_mode": {
    "name": "ipython",
    "version": 3
   },
   "file_extension": ".py",
   "mimetype": "text/x-python",
   "name": "python",
   "nbconvert_exporter": "python",
   "pygments_lexer": "ipython3",
   "version": "3.9.6"
  },
  "orig_nbformat": 4,
  "vscode": {
   "interpreter": {
    "hash": "31f2aee4e71d21fbe5cf8b01ff0e069b9275f58929596ceb00d14d90e3e16cd6"
   }
  }
 },
 "nbformat": 4,
 "nbformat_minor": 2
}
