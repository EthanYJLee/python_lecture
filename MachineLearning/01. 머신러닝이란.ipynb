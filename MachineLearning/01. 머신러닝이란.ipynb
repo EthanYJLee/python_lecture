{
 "cells": [
  {
   "attachments": {},
   "cell_type": "markdown",
   "metadata": {},
   "source": [
    "# 머신러닝 (Machine Learning)이란?  \n",
    "수 많은 데이터를 학습시켜 거기에 있는 패턴 (Y=aX+b)을 찾아내고 이를 기반으로 데이터를 분류하거나 예측.\n",
    "- 일반 소프트웨어 (결정론적 소프트웨어)는 언제나 똑같은 과정을 거쳐 똑같은 결과를 낸다.\n",
    "- 머신러닝 (비결정론적 소프트웨어)기반 소프트웨어는 데이터와 알고리즘에 따라 때로는 다른 결과를 추론해냅니다.\n",
    "  - (추론: 이미 알고 있는 것으로부터 논리적 결론을 도출하는 과정, hat ^ 사용)\n",
    "  - hat이 있으면 머신러닝 소프트웨어\n",
    "- ex. 지문인식, 홍채인식기: 결정론적 소프트웨어인 경우 등록할 때와 인식할 때가 정확히 같아야 한다."
   ]
  },
  {
   "attachments": {},
   "cell_type": "markdown",
   "metadata": {},
   "source": [
    "## 머신러닝 개요    \n",
    "머신러닝이란 인공지능 연구과제중의 하나로 인간의 뇌가 자연스럽게 수행하는 학습이라는 능력을 컴퓨터로 구현하는 방법.\n",
    "- 어느 정도 규모가 있는 양질의 샘플 데이터를 입력으로 넣어 분석시킨다.\n",
    "- 그리고 이 때 데이터에서 일정한 규칙을 찾아냅니다.\n",
    "- 그리고 찾아낸 규칙을 기반으로 다른 데이터로 분류 (Classification)하거나 예측 (Regression)하는 것."
   ]
  },
  {
   "attachments": {},
   "cell_type": "markdown",
   "metadata": {},
   "source": [
    "## 머신러닝의 종류\n",
    "1) 지도학습 (Supervised Learning)   \n",
    ": 학습 시 데이터와 답을 같이 학습한 후 다른 데이터의 값을 예측 (데이터가 무조건 많아야 함)\n",
    "딥러닝과의 차이점: 분석가가 관여하므로 결과가 달라짐.\n",
    "   1) k-최근접 이웃k-Nearest Neighbors \n",
    "   2) 선형 회귀Linear Regression \n",
    "   3) 로지스틱 회귀Logistic Regression \n",
    "   4) 서포트 벡터 머신Support Vector Machines (SVM)   \n",
    "   5) 결정 트리Decision Tree와 랜덤 포레스트Random Forests  \n",
    "   6) 신경망Neural networks   \n",
    "- 딥러닝 (Deep Learning)   \n",
    "   : 지도학습과 비지도학습의 관련이 있으나 특이성은 학습자료에 대한 인간의 개입을 받지 않는다.\n",
    "2) 비지도학습 (Unsupervised Learning)  \n",
    ": 학습 시 데이터만 학습한 후 (답이 없으므로) 다른 데이터의 규칙성을 찾는다.   \n",
    "본질적인 구조를 확인할 때 사용. (ex. 데이터가 너무 많거나 컬럼이 너무 많은 경우 줄이기 위해 사용)\n",
    "   1) 군집clustering \n",
    "   2) k-평균k-Means  \n",
    "   3) 계층 군집 분석Hierarchical Cluster Analysis (HCA)  \n",
    "   4) 기댓값 최대화Expectation Maximization  \n",
    "   5) 시각화visualization와 차원 축소dimensionality reduction  \n",
    "   6) 주성분 분석Principal Component Analysis (PCA)   \n",
    "   7) 커널kernel PCA \n",
    "   8) 지역적 선형 임베딩Locally-Linear Embedding (LLE)   \n",
    "   9) t-SNEt-distributed Stochastic Neighbor Embedding   \n",
    "   10) 연관 규칙 학습Association rule learning  \n",
    "   11) 어프라이어리Apriori \n",
    "   12) 이클렛Eclat   \n",
    "3) 강화학습 (Reinforcement Learning)   \n",
    ": 부분적으로 답을 입력한 후 데이터를 기반으로 최적의 답을 찾아냄. (수많은 시행착오를 거쳐 답을 찾아냄.)  "
   ]
  },
  {
   "attachments": {},
   "cell_type": "markdown",
   "metadata": {},
   "source": [
    "## 머신러닝의 작업 흐름 \n",
    "1) 데이터 수집  \n",
    "2) 데이터 가공  \n",
    "3) 데이터 학습  \n",
    "   1) 학습방법 선택 (지도/비지도/강화, 예측/분류 등)    \n",
    "   2) 매개 변수 조정 (Hyper Parameter)  \n",
    "   3) 모델 학습 \n",
    "4) 모델 평가    \n",
    "5) 예측력이 좋은 경우 다음 단계 진행하고 아니면 (3)번부터 다시  \n",
    "6) 성공 "
   ]
  },
  {
   "attachments": {},
   "cell_type": "markdown",
   "metadata": {},
   "source": [
    "## 머신러닝 응용 분야   \n",
    "#### 클래스 분류 (Classification)   \n",
    "- 특정 데이터에 레이블 (정답)을 붙여 분류할 수 있음.     \n",
    "- 스팸메일 분류, 필기 인식, 증권 사기 방지 등   \n",
    "\n",
    "#### 클러스터링 (Clustering)    \n",
    "- 값의 '유사성'을 기반으로 데이터를 여러 그룹으로 나눌 수 있다.\n",
    "- 사용자의 취향을 그룹으로 묶어 사용자 취향에 맞는 광고를 제공. \n",
    "\n",
    "#### 추천 (Recommendation)  \n",
    "- 특정 데이터를 기반으로 다른 데이터를 추천하는 것  \n",
    "- 인터넷 서점에서 구매한 책들을 기반으로 다른 책을 추천.    \n",
    "\n",
    "#### 회귀 (Regression)  \n",
    "- 과거의 데이터를 기반으로 미래를 예측하는 것.  \n",
    "- 판매 예측, 주가 변동  \n",
    "\n",
    "#### 차원 축소 (Dimensionality Reduction)    \n",
    "- 데이터의 특성을 유지하면서 데이터의 양을 줄이는 것    \n",
    "- 데이터를 시각화하거나 구조를 추출해서 용량을 줄여 계산을 빠르게하거나 메모리를 절약할 때 사용.    "
   ]
  },
  {
   "attachments": {},
   "cell_type": "markdown",
   "metadata": {},
   "source": [
    "## 프로젝트 과정    \n",
    "머신러닝 프로젝트는 크게 문제정의, 데이터 획득, 모델구현, 검증, 테스트의 단계로 구현됨  \n",
    "\n",
    "#### 문제정의   \n",
    "- 프로젝트의 목표를 정의하고 그에 따른 계획을 세우는 단계   \n",
    "- 대략적으로 어떤 데이터를 수집해서 어떤 머신러닝 알고리즘으로 문제를 해결할 지 결정하는 단계   \n",
    "\n",
    "#### 데이터 획득    \n",
    "- 머신러닝 모델 학습에 필요한 데이터를 수집하는 단계    \n",
    "- 성공적인 머신러닝 프로젝트는 뛰어난 머신러닝 실력보다도 얼마나 충분히 데이터를 획득했느냐에 의해 결정된다.    \n",
    "- 획득한 데이터는 학습데이터, 검증데이터, 테스트데이터로 구분되어 사용됨.   \n",
    "  - 검증데이터: 일반화 성능을 향상시키기 위해 학습데이터에서 분리해서 사용 (모델 미세조정; fine tuning에 사용)  \n",
    "\n",
    "#### 모델 구현  \n",
    "- 학습 데이터를 기반으로 한 한 개 이상의 머신러닝 모델을 구현   \n",
    "\n",
    "#### 검증   \n",
    "- 검증 데이터를 사용해 구현된 머신러닝 모델들의 성능을 검증 \n",
    "- 최종적으로 검증 결과가 가장 높은 모델 하나를 선택 \n",
    "\n",
    "#### 테스트 \n",
    "- 검증 결과를 통해 선택된 모델의 성능을 테스트데이터로 측정 (일반화 성능 측정)  "
   ]
  },
  {
   "cell_type": "markdown",
   "metadata": {},
   "source": []
  }
 ],
 "metadata": {
  "kernelspec": {
   "display_name": "tensorflow",
   "language": "python",
   "name": "python3"
  },
  "language_info": {
   "codemirror_mode": {
    "name": "ipython",
    "version": 3
   },
   "file_extension": ".py",
   "mimetype": "text/x-python",
   "name": "python",
   "nbconvert_exporter": "python",
   "pygments_lexer": "ipython3",
   "version": "3.9.13"
  },
  "orig_nbformat": 4,
  "vscode": {
   "interpreter": {
    "hash": "4d8b91bcbdb701e289b6a1d8c1277d30f7379cfd7af8489c64a2b22bf47c961d"
   }
  }
 },
 "nbformat": 4,
 "nbformat_minor": 2
}
