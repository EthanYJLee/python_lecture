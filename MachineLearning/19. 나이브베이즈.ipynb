{
 "cells": [
  {
   "attachments": {},
   "cell_type": "markdown",
   "metadata": {},
   "source": [
    "### 나이브베이즈 (Naive Bayes)\n",
    "- 확률 기반 머신러닝 분류 알고리즘의 대표적\n",
    "- scikit-learn: GaussianNB, BernoulliNB, MultinomialNB\n",
    "- 나이브 베이즈 분류 알고리즘은 데이터를 (각 특성을) 나이브 (단순)하게 독립적인 사건으로 가정\n",
    "  - 이 독립 사건들을 베이즈 이론에 대입시켜 가장 높은 확률 레이블로 분류를 실행하는 알고리즘\n",
    "\n",
    "#### 베이즈 이론\n",
    "p(A|B) = p(B|A) * p(A) / p(B)\n",
    "p(A|B): 어떤 사건 B가 일어났을 때 사건 A가 일어날 확률\n",
    "p(B|A): 어떤 사건 A가 일어났을 때 사건 B가 일어날 확률\n",
    "p(A): 어떤 사건 A가 일어날 확률\n",
    "p(B): 어떤 사건 B가 일어날 확률"
   ]
  },
  {
   "cell_type": "code",
   "execution_count": 6,
   "metadata": {},
   "outputs": [
    {
     "data": {
      "text/plain": [
       "True"
      ]
     },
     "execution_count": 6,
     "metadata": {},
     "output_type": "execute_result"
    }
   ],
   "source": [
    "3/5==(3/10)*(10/12)/(5/12)"
   ]
  },
  {
   "attachments": {},
   "cell_type": "markdown",
   "metadata": {},
   "source": [
    "- 나이브 베이즈 알고리즘을 머신러닝에 응용하기  \n",
    "  p(L|F) = p(F|L) * p(L) / p(F)"
   ]
  },
  {
   "attachments": {},
   "cell_type": "markdown",
   "metadata": {},
   "source": [
    "p(주문|저녁) = p(저녁|주문) * p(주문) / p(저녁)"
   ]
  },
  {
   "cell_type": "code",
   "execution_count": 7,
   "metadata": {},
   "outputs": [
    {
     "data": {
      "text/plain": [
       "0.6000000000000001"
      ]
     },
     "execution_count": 7,
     "metadata": {},
     "output_type": "execute_result"
    }
   ],
   "source": [
    "(3/4) * (4/10) / (5/10)"
   ]
  }
 ],
 "metadata": {
  "kernelspec": {
   "display_name": "tensorflow",
   "language": "python",
   "name": "python3"
  },
  "language_info": {
   "codemirror_mode": {
    "name": "ipython",
    "version": 3
   },
   "file_extension": ".py",
   "mimetype": "text/x-python",
   "name": "python",
   "nbconvert_exporter": "python",
   "pygments_lexer": "ipython3",
   "version": "3.9.13"
  },
  "orig_nbformat": 4,
  "vscode": {
   "interpreter": {
    "hash": "4d8b91bcbdb701e289b6a1d8c1277d30f7379cfd7af8489c64a2b22bf47c961d"
   }
  }
 },
 "nbformat": 4,
 "nbformat_minor": 2
}
