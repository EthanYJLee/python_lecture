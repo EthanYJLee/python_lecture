{
 "cells": [
  {
   "cell_type": "code",
   "execution_count": 2,
   "metadata": {},
   "outputs": [],
   "source": [
    "import pandas as pd\n",
    "import numpy as np"
   ]
  },
  {
   "cell_type": "code",
   "execution_count": 3,
   "metadata": {},
   "outputs": [
    {
     "data": {
      "text/html": [
       "<div>\n",
       "<style scoped>\n",
       "    .dataframe tbody tr th:only-of-type {\n",
       "        vertical-align: middle;\n",
       "    }\n",
       "\n",
       "    .dataframe tbody tr th {\n",
       "        vertical-align: top;\n",
       "    }\n",
       "\n",
       "    .dataframe thead th {\n",
       "        text-align: right;\n",
       "    }\n",
       "</style>\n",
       "<table border=\"1\" class=\"dataframe\">\n",
       "  <thead>\n",
       "    <tr style=\"text-align: right;\">\n",
       "      <th></th>\n",
       "      <th>base_date</th>\n",
       "      <th>nationality</th>\n",
       "      <th>time_range</th>\n",
       "      <th>emd_name</th>\n",
       "      <th>visit_population_count</th>\n",
       "    </tr>\n",
       "  </thead>\n",
       "  <tbody>\n",
       "    <tr>\n",
       "      <th>0</th>\n",
       "      <td>201801</td>\n",
       "      <td>기타</td>\n",
       "      <td>1-2시</td>\n",
       "      <td>서귀포시 남원읍</td>\n",
       "      <td>401.92</td>\n",
       "    </tr>\n",
       "    <tr>\n",
       "      <th>1</th>\n",
       "      <td>201801</td>\n",
       "      <td>기타</td>\n",
       "      <td>1-2시</td>\n",
       "      <td>서귀포시 서홍동</td>\n",
       "      <td>42.31</td>\n",
       "    </tr>\n",
       "    <tr>\n",
       "      <th>2</th>\n",
       "      <td>201801</td>\n",
       "      <td>기타</td>\n",
       "      <td>1-2시</td>\n",
       "      <td>서귀포시 성산읍</td>\n",
       "      <td>317.31</td>\n",
       "    </tr>\n",
       "    <tr>\n",
       "      <th>3</th>\n",
       "      <td>201801</td>\n",
       "      <td>기타</td>\n",
       "      <td>1-2시</td>\n",
       "      <td>서귀포시 안덕면</td>\n",
       "      <td>423.08</td>\n",
       "    </tr>\n",
       "    <tr>\n",
       "      <th>4</th>\n",
       "      <td>201801</td>\n",
       "      <td>기타</td>\n",
       "      <td>1-2시</td>\n",
       "      <td>서귀포시 예래동</td>\n",
       "      <td>84.62</td>\n",
       "    </tr>\n",
       "    <tr>\n",
       "      <th>...</th>\n",
       "      <td>...</td>\n",
       "      <td>...</td>\n",
       "      <td>...</td>\n",
       "      <td>...</td>\n",
       "      <td>...</td>\n",
       "    </tr>\n",
       "    <tr>\n",
       "      <th>330818</th>\n",
       "      <td>202209</td>\n",
       "      <td>홍콩</td>\n",
       "      <td>23-24시</td>\n",
       "      <td>제주시 조천읍</td>\n",
       "      <td>16.45</td>\n",
       "    </tr>\n",
       "    <tr>\n",
       "      <th>330819</th>\n",
       "      <td>202209</td>\n",
       "      <td>홍콩</td>\n",
       "      <td>23-24시</td>\n",
       "      <td>제주시 추자면</td>\n",
       "      <td>27.00</td>\n",
       "    </tr>\n",
       "    <tr>\n",
       "      <th>330820</th>\n",
       "      <td>202209</td>\n",
       "      <td>홍콩</td>\n",
       "      <td>23-24시</td>\n",
       "      <td>제주시 한경면</td>\n",
       "      <td>9.39</td>\n",
       "    </tr>\n",
       "    <tr>\n",
       "      <th>330821</th>\n",
       "      <td>202209</td>\n",
       "      <td>홍콩</td>\n",
       "      <td>23-24시</td>\n",
       "      <td>제주시 한림읍</td>\n",
       "      <td>6.40</td>\n",
       "    </tr>\n",
       "    <tr>\n",
       "      <th>330822</th>\n",
       "      <td>202209</td>\n",
       "      <td>홍콩</td>\n",
       "      <td>23-24시</td>\n",
       "      <td>제주시 화북동</td>\n",
       "      <td>1.45</td>\n",
       "    </tr>\n",
       "  </tbody>\n",
       "</table>\n",
       "<p>330823 rows × 5 columns</p>\n",
       "</div>"
      ],
      "text/plain": [
       "        base_date nationality time_range  emd_name  visit_population_count\n",
       "0          201801          기타       1-2시  서귀포시 남원읍                  401.92\n",
       "1          201801          기타       1-2시  서귀포시 서홍동                   42.31\n",
       "2          201801          기타       1-2시  서귀포시 성산읍                  317.31\n",
       "3          201801          기타       1-2시  서귀포시 안덕면                  423.08\n",
       "4          201801          기타       1-2시  서귀포시 예래동                   84.62\n",
       "...           ...         ...        ...       ...                     ...\n",
       "330818     202209          홍콩     23-24시   제주시 조천읍                   16.45\n",
       "330819     202209          홍콩     23-24시   제주시 추자면                   27.00\n",
       "330820     202209          홍콩     23-24시   제주시 한경면                    9.39\n",
       "330821     202209          홍콩     23-24시   제주시 한림읍                    6.40\n",
       "330822     202209          홍콩     23-24시   제주시 화북동                    1.45\n",
       "\n",
       "[330823 rows x 5 columns]"
      ]
     },
     "execution_count": 3,
     "metadata": {},
     "output_type": "execute_result"
    }
   ],
   "source": [
    "df = pd.read_csv(\"./제주도 단기체류 방문 외국인 유동인구 추이.csv\",encoding='euc-kr')\n",
    "df"
   ]
  },
  {
   "cell_type": "code",
   "execution_count": 5,
   "metadata": {},
   "outputs": [
    {
     "data": {
      "text/plain": [
       "array(['기타', '말레이시아', '미국', '인도네시아', '일본', '중국', '태국', '베트남', '싱가포르',\n",
       "       '홍콩'], dtype=object)"
      ]
     },
     "execution_count": 5,
     "metadata": {},
     "output_type": "execute_result"
    }
   ],
   "source": [
    "df['nationality'].unique()"
   ]
  },
  {
   "cell_type": "code",
   "execution_count": 4,
   "metadata": {},
   "outputs": [
    {
     "data": {
      "text/html": [
       "<div>\n",
       "<style scoped>\n",
       "    .dataframe tbody tr th:only-of-type {\n",
       "        vertical-align: middle;\n",
       "    }\n",
       "\n",
       "    .dataframe tbody tr th {\n",
       "        vertical-align: top;\n",
       "    }\n",
       "\n",
       "    .dataframe thead th {\n",
       "        text-align: right;\n",
       "    }\n",
       "</style>\n",
       "<table border=\"1\" class=\"dataframe\">\n",
       "  <thead>\n",
       "    <tr style=\"text-align: right;\">\n",
       "      <th></th>\n",
       "      <th>읍면동명</th>\n",
       "      <th>업종명</th>\n",
       "      <th>매장수</th>\n",
       "    </tr>\n",
       "  </thead>\n",
       "  <tbody>\n",
       "    <tr>\n",
       "      <th>0</th>\n",
       "      <td>연동</td>\n",
       "      <td>한식</td>\n",
       "      <td>531</td>\n",
       "    </tr>\n",
       "    <tr>\n",
       "      <th>1</th>\n",
       "      <td>이도이동</td>\n",
       "      <td>한식</td>\n",
       "      <td>416</td>\n",
       "    </tr>\n",
       "    <tr>\n",
       "      <th>2</th>\n",
       "      <td>성산읍</td>\n",
       "      <td>한식</td>\n",
       "      <td>354</td>\n",
       "    </tr>\n",
       "    <tr>\n",
       "      <th>3</th>\n",
       "      <td>애월읍</td>\n",
       "      <td>한식</td>\n",
       "      <td>349</td>\n",
       "    </tr>\n",
       "    <tr>\n",
       "      <th>4</th>\n",
       "      <td>한림읍</td>\n",
       "      <td>한식</td>\n",
       "      <td>333</td>\n",
       "    </tr>\n",
       "  </tbody>\n",
       "</table>\n",
       "</div>"
      ],
      "text/plain": [
       "   읍면동명 업종명  매장수\n",
       "0    연동  한식  531\n",
       "1  이도이동  한식  416\n",
       "2   성산읍  한식  354\n",
       "3   애월읍  한식  349\n",
       "4   한림읍  한식  333"
      ]
     },
     "execution_count": 4,
     "metadata": {},
     "output_type": "execute_result"
    }
   ],
   "source": [
    "res_counts = pd.read_csv(\"./Data/res_counts.csv\")\n",
    "res_counts.head()"
   ]
  },
  {
   "cell_type": "code",
   "execution_count": null,
   "metadata": {},
   "outputs": [],
   "source": []
  }
 ],
 "metadata": {
  "kernelspec": {
   "display_name": "tensorflow",
   "language": "python",
   "name": "python3"
  },
  "language_info": {
   "codemirror_mode": {
    "name": "ipython",
    "version": 3
   },
   "file_extension": ".py",
   "mimetype": "text/x-python",
   "name": "python",
   "nbconvert_exporter": "python",
   "pygments_lexer": "ipython3",
   "version": "3.9.13"
  },
  "orig_nbformat": 4,
  "vscode": {
   "interpreter": {
    "hash": "4d8b91bcbdb701e289b6a1d8c1277d30f7379cfd7af8489c64a2b22bf47c961d"
   }
  }
 },
 "nbformat": 4,
 "nbformat_minor": 2
}
