{
 "cells": [
  {
   "attachments": {},
   "cell_type": "markdown",
   "metadata": {},
   "source": [
    "# 지도학습과 비지도학습 \n",
    "학습: 데이터를 특별한 알고리즘에 적용해 ML모델을 정의된 문제에 최적화 (Optimizing, 가장 근접한 답을 내놓는 것) 시키는 과정  "
   ]
  },
  {
   "attachments": {},
   "cell_type": "markdown",
   "metadata": {},
   "source": [
    "### 지도학습 (SL, Supervised Learning)  \n",
    "- 비지도학습을 제외하고는 모두 지도학습\n",
    "- 정답을 알려주면서 진행하는 학습\n",
    "- 데이터의 원래 값: 실제값, 정답-레이블(label), 타겟(target)-클래스, y값\n",
    "- ML 모델을 통해 예측한 값: 예측값, 분류값, y^(hat)\n",
    "- ex) 분류, 회귀"
   ]
  },
  {
   "attachments": {},
   "cell_type": "markdown",
   "metadata": {},
   "source": [
    "### 비지도학습 (UL, Unsupervised Learning)  \n",
    "- 정답(label) 없이 진행하는 학습\n",
    "- 데이터 자체에서 패턴을 찾아내야 할 때 사용\n",
    "- ex) 군집화, 차원축소 (주성분분석)"
   ]
  },
  {
   "attachments": {},
   "cell_type": "markdown",
   "metadata": {},
   "source": [
    "### 분류와 회귀\n",
    "- 범주형 데이터 vs 연속형 데이터 (객관 vs 주관)\n",
    "\n",
    "##### 분류 (Classification)\n",
    "- 데이터가 입력되었을 때 지도학습을 통해 학습된 Label중 하나 또는 여러개의 Label로 예측\n",
    "- 이진분류 (binary classification)  \n",
    "  :둘 중 하나의 값으로 분류하는 경우 (sigmoid함수) (titanic-survivied, spam mail)\n",
    "- 다중분류(multi classification)\n",
    "  :여러 개의 분류값 중 하나로 예측 (softmax함수) (iris)"
   ]
  },
  {
   "attachments": {},
   "cell_type": "markdown",
   "metadata": {},
   "source": [
    "## 과대적합 (overfitting) vs 과소적합 (underfitting)\n",
    "- 과대적합: 필요 이상의 특징으로 학습하는 경우 (Training 예측력 > Test 예측력)\n",
    "- 과소적합: 데이터에서 충분히 특징을 찾아 내지 못하고 ML모델을 학습할 경우 (Training 예측력 < Test 예측력)\n"
   ]
  },
  {
   "attachments": {},
   "cell_type": "markdown",
   "metadata": {},
   "source": [
    "#### 과대적합\n",
    "- 학습 데이터 외의 데이터에서 정확도가 낮게 나오는 모델 (배운 것은 잘하지만 실전에 약한 경우)   \n",
    "- 데이터 특징들의 수치값을 정규화 함으로써 특정 특징에 의한 편향 (bias)을 줄이는 것이 과대적합을 피하는 좋은 방법\n",
    "- 딥러닝의 경우 조기종료 (early stopping), 드롭아웃 (drop out)을 사용헤 과대적합을 피할 수 있다.\n",
    "  - 조기종료: 더 이상 개선의 여지가 없을 때 학습을 종료시키는 콜백함수\n",
    "  - 드롭아웃: 노드를 학습에서 무시함으로써 과적합 완화, 학습속도 향상"
   ]
  },
  {
   "attachments": {},
   "cell_type": "markdown",
   "metadata": {},
   "source": [
    "#### 과소적합\n",
    "- 보통 테스트 데이터뿐 만 아니라 학습 데이터에 대해서도 정확도가 낮게 나올경우, 과소적합 모델일 가능성이 높음   \n",
    "- 과소적합은 드문 일이고, 우연의 결과이므로 절대 사용하면 안 됨. 차라리 과대적합에서 맞춰가는 게 낫다."
   ]
  },
  {
   "attachments": {},
   "cell_type": "markdown",
   "metadata": {},
   "source": [
    "---\n",
    "### 혼동행렬 (confusion matrix)\n",
    "- 모델의 성능을 평가할 때 사용하는 지표 (예측값-실제값으로 정오표 테이블)\n",
    "- 실제값과 예측값을 비교하여 실제값에 예측값이 얼마나 일치하는지 파악\n",
    "- 모델의 성능은 혼동행렬에 기반한 단 하나의 수치로 표현 가능"
   ]
  },
  {
   "attachments": {},
   "cell_type": "markdown",
   "metadata": {},
   "source": [
    "### 머신러닝 모델의 성능 평가\n",
    "- TP (True Positive): 맞는 것을 올바르게 예측한 것\n",
    "- TN (True Negative): 틀린 것을 올바르게 예측한 것\n",
    "- FP (False Positive): 틀린 것을 맞다고 잘못 예측한 것\n",
    "- FN (False Negative): 맞는 것을 틀렸다고 잘못 에측한 것"
   ]
  },
  {
   "attachments": {},
   "cell_type": "markdown",
   "metadata": {},
   "source": [
    "### 정확도 (Accuracy)\n",
    "- 혼동행렬 상 TP를 전체 셀로 나눈 값 (TP/all)"
   ]
  },
  {
   "cell_type": "code",
   "execution_count": 1,
   "metadata": {},
   "outputs": [
    {
     "name": "stdout",
     "output_type": "stream",
     "text": [
      "정확도: 78.75\n"
     ]
    }
   ],
   "source": [
    "print(f'정확도: {(9+15+24+15)/80*100}')"
   ]
  },
  {
   "attachments": {},
   "cell_type": "markdown",
   "metadata": {},
   "source": [
    "### 정밀도 (Precision)\n",
    "- 각 모델의 예측값이 얼마나 정확하게 예측되었는가를 나타내는 지표\n",
    "- TP/(TP+FP)"
   ]
  },
  {
   "cell_type": "code",
   "execution_count": 15,
   "metadata": {},
   "outputs": [
    {
     "name": "stdout",
     "output_type": "stream",
     "text": [
      "암환자 정밀도A: 0.23076923076923078\n",
      "암환자 정밀도B: 0.047619047619047616\n"
     ]
    }
   ],
   "source": [
    "print(f'암환자 정밀도A: {9/(9+30)}')\n",
    "print(f'암환자 정밀도B: {1/(1+20)}')"
   ]
  },
  {
   "attachments": {},
   "cell_type": "markdown",
   "metadata": {},
   "source": [
    "### 재현율 (Recall)\n",
    "- 실제값 중에서 모델이 검출한 실제 값의 비율을 나타내는 지표\n",
    "- 실제 암환자 중에서 암환자로 예측한 값 TP/(TP+FN)"
   ]
  },
  {
   "cell_type": "code",
   "execution_count": 14,
   "metadata": {},
   "outputs": [
    {
     "name": "stdout",
     "output_type": "stream",
     "text": [
      "암환자 재현율A: 0.9\n",
      "암환자 재현율B: 0.1\n"
     ]
    }
   ],
   "source": [
    "print(f'암환자 재현율A: {9/(9+1)}')\n",
    "print(f'암환자 재현율B: {1/(1+9)}')"
   ]
  },
  {
   "attachments": {},
   "cell_type": "markdown",
   "metadata": {},
   "source": [
    "### F1 점수 (F1 Score)\n",
    "F1 Score = 2 * 재현율 * 정밀도 / (재현율 + 정밀도)"
   ]
  },
  {
   "cell_type": "code",
   "execution_count": 18,
   "metadata": {},
   "outputs": [
    {
     "name": "stdout",
     "output_type": "stream",
     "text": [
      "암환자 F1 A: 0.3663716814159292\n",
      "암환자 F1 B: 0.05714285714285714\n"
     ]
    }
   ],
   "source": [
    "print(f'암환자 F1 A: {2*0.9*0.23/(0.9+0.23)}')\n",
    "print(f'암환자 F1 B: {2*0.1*0.04/(0.1+0.04)}')"
   ]
  }
 ],
 "metadata": {
  "kernelspec": {
   "display_name": "tensorflow",
   "language": "python",
   "name": "python3"
  },
  "language_info": {
   "codemirror_mode": {
    "name": "ipython",
    "version": 3
   },
   "file_extension": ".py",
   "mimetype": "text/x-python",
   "name": "python",
   "nbconvert_exporter": "python",
   "pygments_lexer": "ipython3",
   "version": "3.9.13 | packaged by conda-forge | (main, May 27 2022, 17:01:00) \n[Clang 13.0.1 ]"
  },
  "orig_nbformat": 4,
  "vscode": {
   "interpreter": {
    "hash": "4d8b91bcbdb701e289b6a1d8c1277d30f7379cfd7af8489c64a2b22bf47c961d"
   }
  }
 },
 "nbformat": 4,
 "nbformat_minor": 2
}
