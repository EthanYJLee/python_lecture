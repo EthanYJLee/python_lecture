{
 "cells": [
  {
   "cell_type": "code",
   "execution_count": 17,
   "metadata": {},
   "outputs": [],
   "source": [
    "import numpy as np\n",
    "import glob\n",
    "import matplotlib.pyplot as plt\n",
    "from PIL import Image\n",
    "import pandas as pd\n",
    "from tensorflow import keras"
   ]
  },
  {
   "cell_type": "code",
   "execution_count": 18,
   "metadata": {},
   "outputs": [
    {
     "data": {
      "text/html": [
       "<div>\n",
       "<style scoped>\n",
       "    .dataframe tbody tr th:only-of-type {\n",
       "        vertical-align: middle;\n",
       "    }\n",
       "\n",
       "    .dataframe tbody tr th {\n",
       "        vertical-align: top;\n",
       "    }\n",
       "\n",
       "    .dataframe thead th {\n",
       "        text-align: right;\n",
       "    }\n",
       "</style>\n",
       "<table border=\"1\" class=\"dataframe\">\n",
       "  <thead>\n",
       "    <tr style=\"text-align: right;\">\n",
       "      <th></th>\n",
       "      <th>paragraph</th>\n",
       "      <th>category</th>\n",
       "    </tr>\n",
       "  </thead>\n",
       "  <tbody>\n",
       "    <tr>\n",
       "      <th>0</th>\n",
       "      <td>dishplace is located in sunnyvale downtown the...</td>\n",
       "      <td>food</td>\n",
       "    </tr>\n",
       "    <tr>\n",
       "      <th>1</th>\n",
       "      <td>service can be slower during busy hours but ou...</td>\n",
       "      <td>food</td>\n",
       "    </tr>\n",
       "    <tr>\n",
       "      <th>2</th>\n",
       "      <td>portions are huge both french toast and their ...</td>\n",
       "      <td>food</td>\n",
       "    </tr>\n",
       "    <tr>\n",
       "      <th>3</th>\n",
       "      <td>we started with apps going the chicken and waf...</td>\n",
       "      <td>food</td>\n",
       "    </tr>\n",
       "    <tr>\n",
       "      <th>4</th>\n",
       "      <td>the biscuits and gravy was too salty two peopl...</td>\n",
       "      <td>food</td>\n",
       "    </tr>\n",
       "  </tbody>\n",
       "</table>\n",
       "</div>"
      ],
      "text/plain": [
       "                                           paragraph category\n",
       "0  dishplace is located in sunnyvale downtown the...     food\n",
       "1  service can be slower during busy hours but ou...     food\n",
       "2  portions are huge both french toast and their ...     food\n",
       "3  we started with apps going the chicken and waf...     food\n",
       "4  the biscuits and gravy was too salty two peopl...     food"
      ]
     },
     "execution_count": 18,
     "metadata": {},
     "output_type": "execute_result"
    }
   ],
   "source": [
    "df = pd.read_csv(\"./Data/lstm.csv\")\n",
    "df.head()"
   ]
  },
  {
   "cell_type": "code",
   "execution_count": 19,
   "metadata": {},
   "outputs": [
    {
     "data": {
      "text/plain": [
       "'dishplace is located in sunnyvale downtown there is parking around the area but it can be difficult to find during peak business hours my sisters and i came to this place for dinner on a weekday they were really busy so i highly recommended making reservations unless you have the patience to wait'"
      ]
     },
     "execution_count": 19,
     "metadata": {},
     "output_type": "execute_result"
    }
   ],
   "source": [
    "df['paragraph'][0]"
   ]
  },
  {
   "cell_type": "code",
   "execution_count": 20,
   "metadata": {},
   "outputs": [
    {
     "data": {
      "text/plain": [
       "array(['food', 'sports'], dtype=object)"
      ]
     },
     "execution_count": 20,
     "metadata": {},
     "output_type": "execute_result"
    }
   ],
   "source": [
    "df['category'].unique()"
   ]
  },
  {
   "cell_type": "code",
   "execution_count": 21,
   "metadata": {},
   "outputs": [
    {
     "data": {
      "text/plain": [
       "536"
      ]
     },
     "execution_count": 21,
     "metadata": {},
     "output_type": "execute_result"
    }
   ],
   "source": [
    "# 데이터에 사용된 중복 없는 전체 단어 개수를 파악\n",
    "results = set()\n",
    "df['paragraph'].str.lower().str.split().apply(results.update)\n",
    "vocab_size = len(results)\n",
    "vocab_size"
   ]
  },
  {
   "cell_type": "code",
   "execution_count": 22,
   "metadata": {},
   "outputs": [
    {
     "data": {
      "text/plain": [
       "['dishplace is located in sunnyvale downtown there is parking around the area but it can be difficult to find during peak business hours my sisters and i came to this place for dinner on a weekday they were really busy so i highly recommended making reservations unless you have the patience to wait',\n",
       " 'service can be slower during busy hours but our waiter was courteous and help gave some great entree recommendations',\n",
       " 'portions are huge both french toast and their various omelettes are really good their french toast is probably 1.5x more than other brunch places great place to visit if you are hungry and dont want to wait 1 hour for a table',\n",
       " 'we started with apps going the chicken and waffle slides and chicken nachos the sliders were amazing and the nachos were good too maybe by themselves the nachos would have scored better but after those sliders they were up against some tough competition',\n",
       " 'the biscuits and gravy was too salty two people in my group had the gravy and all thought it was too salty my hubby ordered a side of double egg and it was served on two small plates who serves eggs to one person on separate plates we commented on that when it was delivered and even the server laughed and said she doesnt know why the kitchen does that presentation of food is important and they really missed on this one']"
      ]
     },
     "execution_count": 22,
     "metadata": {},
     "output_type": "execute_result"
    }
   ],
   "source": [
    "# 단어를 숫자로 인코딩\n",
    "paragraphs = df['paragraph'].to_list()\n",
    "paragraphs[0:5]"
   ]
  },
  {
   "cell_type": "code",
   "execution_count": 23,
   "metadata": {},
   "outputs": [],
   "source": [
    "keras.utils.set_random_seed(1)"
   ]
  },
  {
   "cell_type": "code",
   "execution_count": 28,
   "metadata": {},
   "outputs": [
    {
     "data": {
      "text/plain": [
       "[206,\n",
       " 419,\n",
       " 140,\n",
       " 284,\n",
       " 114,\n",
       " 196,\n",
       " 396,\n",
       " 419,\n",
       " 406,\n",
       " 409,\n",
       " 268,\n",
       " 308,\n",
       " 278,\n",
       " 256,\n",
       " 412,\n",
       " 145,\n",
       " 450,\n",
       " 158,\n",
       " 215,\n",
       " 176,\n",
       " 42,\n",
       " 201,\n",
       " 194,\n",
       " 506,\n",
       " 443,\n",
       " 191,\n",
       " 384,\n",
       " 186,\n",
       " 158,\n",
       " 301,\n",
       " 285,\n",
       " 483,\n",
       " 182,\n",
       " 291,\n",
       " 20,\n",
       " 148,\n",
       " 375,\n",
       " 77,\n",
       " 112,\n",
       " 395,\n",
       " 487,\n",
       " 384,\n",
       " 220,\n",
       " 243,\n",
       " 305,\n",
       " 180,\n",
       " 108,\n",
       " 52,\n",
       " 371,\n",
       " 268,\n",
       " 214,\n",
       " 158,\n",
       " 163]"
      ]
     },
     "execution_count": 28,
     "metadata": {},
     "output_type": "execute_result"
    }
   ],
   "source": [
    "# one-hot encoding\n",
    "encoded_paragraphs = [keras.preprocessing.text.one_hot(paragraph, vocab_size) for paragraph in paragraphs]\n",
    "encoded_paragraphs[0]"
   ]
  },
  {
   "cell_type": "code",
   "execution_count": 25,
   "metadata": {},
   "outputs": [
    {
     "name": "stdout",
     "output_type": "stream",
     "text": [
      "91\n"
     ]
    }
   ],
   "source": [
    "# 데이터에서 가장 긴 문장의 단어 개수를 확인\n",
    "max_length = 0\n",
    "\n",
    "for row in df['paragraph']:\n",
    "    if len(row.split(\" \")) > max_length:\n",
    "        max_length = len(row.split(\" \"))\n",
    "print(max_length)"
   ]
  },
  {
   "cell_type": "code",
   "execution_count": 29,
   "metadata": {},
   "outputs": [
    {
     "data": {
      "text/plain": [
       "array([[206, 419, 140, ...,   0,   0,   0],\n",
       "       [267, 412, 145, ...,   0,   0,   0],\n",
       "       [339, 231, 105, ...,   0,   0,   0],\n",
       "       ...,\n",
       "       [519, 209, 483, ...,   0,   0,   0],\n",
       "       [278, 268, 226, ...,   0,   0,   0],\n",
       "       [ 80, 186, 268, ...,   0,   0,   0]], dtype=int32)"
      ]
     },
     "execution_count": 29,
     "metadata": {},
     "output_type": "execute_result"
    }
   ],
   "source": [
    "# 문장마다 단어 개수가 다르므로 제로패딩을 넣어줘서 문장의 길이를 동일하게 만든다.\n",
    "padded_paragraphs_encoding = keras.preprocessing.sequence.pad_sequences(encoded_paragraphs,maxlen=max_length,padding='post')\n",
    "padded_paragraphs_encoding"
   ]
  },
  {
   "cell_type": "code",
   "execution_count": 31,
   "metadata": {},
   "outputs": [],
   "source": [
    "# 분류항목을 수치로 변경하기\n",
    "categories = df['category'].to_list()\n",
    "\n",
    "def category_encode(category):\n",
    "    if category == \"food\":\n",
    "        return [1,0]\n",
    "    else:\n",
    "        return [0,1]"
   ]
  },
  {
   "cell_type": "code",
   "execution_count": 32,
   "metadata": {},
   "outputs": [],
   "source": [
    "encoded_category = [category_encode(category) for category in categories]"
   ]
  },
  {
   "cell_type": "code",
   "execution_count": 33,
   "metadata": {},
   "outputs": [
    {
     "name": "stdout",
     "output_type": "stream",
     "text": [
      "[1, 0]\n",
      "[0, 1]\n"
     ]
    }
   ],
   "source": [
    "print(encoded_category[0])\n",
    "print(encoded_category[19])"
   ]
  },
  {
   "cell_type": "code",
   "execution_count": 35,
   "metadata": {},
   "outputs": [
    {
     "name": "stdout",
     "output_type": "stream",
     "text": [
      "[206, 419, 140, 284, 114, 196, 396, 419, 406, 409, 268, 308, 278, 256, 412, 145, 450, 158, 215, 176, 42, 201, 194, 506, 443, 191, 384, 186, 158, 301, 285, 483, 182, 291, 20, 148, 375, 77, 112, 395, 487, 384, 220, 243, 305, 180, 108, 52, 371, 268, 214, 158, 163]\n",
      "[80, 186, 268, 77, 487, 142, 264, 77, 10, 360, 378, 458, 483, 497, 284, 268, 503, 448, 396, 77, 105, 8, 190, 481, 474, 158, 268, 510, 481, 242, 19, 396, 255, 483, 56, 77, 507, 42, 442, 398, 30, 20, 137, 512, 191, 139, 257, 518, 158, 381, 268, 256, 521, 278, 256, 83, 264, 525, 366, 67, 210, 173, 474, 188, 436, 463, 215, 77, 483, 20, 252, 248, 24]\n"
     ]
    }
   ],
   "source": [
    "# Feature 확인\n",
    "print(encoded_paragraphs[0])\n",
    "print(encoded_paragraphs[19])"
   ]
  },
  {
   "attachments": {},
   "cell_type": "markdown",
   "metadata": {},
   "source": [
    "### 주제를 분류하는 모델 구현하기"
   ]
  },
  {
   "cell_type": "code",
   "execution_count": 41,
   "metadata": {},
   "outputs": [],
   "source": [
    "model = keras.Sequential()\n",
    "# 문맥 생성단계\n",
    "model.add(keras.layers.Embedding(vocab_size, 5, input_length=max_length))\n",
    "model.add(keras.layers.LSTM(64))\n",
    "# 분류 단계\n",
    "model.add(keras.layers.Dense(32,activation='relu'))\n",
    "model.add(keras.layers.Dense(2,activation='softmax'))\n",
    "# [0,1] or [1,0]이므로 softmax"
   ]
  },
  {
   "cell_type": "code",
   "execution_count": 42,
   "metadata": {},
   "outputs": [],
   "source": [
    "model.compile(loss='categorical_crossentropy',optimizer='adam',metrics='accuracy')"
   ]
  },
  {
   "cell_type": "code",
   "execution_count": 43,
   "metadata": {},
   "outputs": [],
   "source": [
    "train_X = np.array(padded_paragraphs_encoding)\n",
    "train_Y = np.array(encoded_category)"
   ]
  },
  {
   "cell_type": "code",
   "execution_count": 44,
   "metadata": {},
   "outputs": [
    {
     "name": "stdout",
     "output_type": "stream",
     "text": [
      "Epoch 1/50\n",
      "2/2 [==============================] - 1s 9ms/step - loss: 0.6943 - accuracy: 0.5000\n",
      "Epoch 2/50\n",
      "2/2 [==============================] - 0s 10ms/step - loss: 0.6929 - accuracy: 0.5000\n",
      "Epoch 3/50\n",
      "2/2 [==============================] - 0s 10ms/step - loss: 0.6931 - accuracy: 0.5000\n",
      "Epoch 4/50\n",
      "2/2 [==============================] - 0s 9ms/step - loss: 0.6928 - accuracy: 0.5000\n",
      "Epoch 5/50\n",
      "2/2 [==============================] - 0s 10ms/step - loss: 0.6927 - accuracy: 0.5500\n",
      "Epoch 6/50\n",
      "2/2 [==============================] - 0s 11ms/step - loss: 0.6924 - accuracy: 0.5500\n",
      "Epoch 7/50\n",
      "2/2 [==============================] - 0s 14ms/step - loss: 0.6923 - accuracy: 0.5500\n",
      "Epoch 8/50\n",
      "2/2 [==============================] - 0s 13ms/step - loss: 0.6919 - accuracy: 0.5500\n",
      "Epoch 9/50\n",
      "2/2 [==============================] - 0s 10ms/step - loss: 0.6916 - accuracy: 0.5500\n",
      "Epoch 10/50\n",
      "2/2 [==============================] - 0s 9ms/step - loss: 0.6915 - accuracy: 0.5500\n",
      "Epoch 11/50\n",
      "2/2 [==============================] - 0s 9ms/step - loss: 0.6913 - accuracy: 0.6000\n",
      "Epoch 12/50\n",
      "2/2 [==============================] - 0s 10ms/step - loss: 0.6907 - accuracy: 0.6000\n",
      "Epoch 13/50\n",
      "2/2 [==============================] - 0s 10ms/step - loss: 0.6895 - accuracy: 0.6000\n",
      "Epoch 14/50\n",
      "2/2 [==============================] - 0s 10ms/step - loss: 0.6893 - accuracy: 0.6000\n",
      "Epoch 15/50\n",
      "2/2 [==============================] - 0s 9ms/step - loss: 0.6876 - accuracy: 0.6000\n",
      "Epoch 16/50\n",
      "2/2 [==============================] - 0s 8ms/step - loss: 0.6877 - accuracy: 0.6000\n",
      "Epoch 17/50\n",
      "2/2 [==============================] - 0s 11ms/step - loss: 0.6817 - accuracy: 0.6000\n",
      "Epoch 18/50\n",
      "2/2 [==============================] - 0s 12ms/step - loss: 0.6746 - accuracy: 0.6000\n",
      "Epoch 19/50\n",
      "2/2 [==============================] - 0s 10ms/step - loss: 0.6680 - accuracy: 0.6000\n",
      "Epoch 20/50\n",
      "2/2 [==============================] - 0s 9ms/step - loss: 0.5914 - accuracy: 0.6500\n",
      "Epoch 21/50\n",
      "2/2 [==============================] - 0s 9ms/step - loss: 0.4341 - accuracy: 0.9500\n",
      "Epoch 22/50\n",
      "2/2 [==============================] - 0s 9ms/step - loss: 0.4157 - accuracy: 0.9500\n",
      "Epoch 23/50\n",
      "2/2 [==============================] - 0s 9ms/step - loss: 0.3035 - accuracy: 0.9000\n",
      "Epoch 24/50\n",
      "2/2 [==============================] - 0s 9ms/step - loss: 0.2885 - accuracy: 0.9000\n",
      "Epoch 25/50\n",
      "2/2 [==============================] - 0s 9ms/step - loss: 0.3765 - accuracy: 0.8500\n",
      "Epoch 26/50\n",
      "2/2 [==============================] - 0s 9ms/step - loss: 0.5851 - accuracy: 0.7500\n",
      "Epoch 27/50\n",
      "2/2 [==============================] - 0s 8ms/step - loss: 0.5618 - accuracy: 0.7500\n",
      "Epoch 28/50\n",
      "2/2 [==============================] - 0s 9ms/step - loss: 0.5169 - accuracy: 0.7500\n",
      "Epoch 29/50\n",
      "2/2 [==============================] - 0s 8ms/step - loss: 0.5621 - accuracy: 0.7000\n",
      "Epoch 30/50\n",
      "2/2 [==============================] - 0s 8ms/step - loss: 0.4943 - accuracy: 0.7500\n",
      "Epoch 31/50\n",
      "2/2 [==============================] - 0s 8ms/step - loss: 0.4838 - accuracy: 0.7500\n",
      "Epoch 32/50\n",
      "2/2 [==============================] - 0s 8ms/step - loss: 0.4896 - accuracy: 0.7500\n",
      "Epoch 33/50\n",
      "2/2 [==============================] - 0s 9ms/step - loss: 0.4919 - accuracy: 0.7500\n",
      "Epoch 34/50\n",
      "2/2 [==============================] - 0s 9ms/step - loss: 0.4488 - accuracy: 0.8000\n",
      "Epoch 35/50\n",
      "2/2 [==============================] - 0s 9ms/step - loss: 0.4434 - accuracy: 0.8000\n",
      "Epoch 36/50\n",
      "2/2 [==============================] - 0s 9ms/step - loss: 0.4353 - accuracy: 0.8000\n",
      "Epoch 37/50\n",
      "2/2 [==============================] - 0s 9ms/step - loss: 0.4302 - accuracy: 0.8000\n",
      "Epoch 38/50\n",
      "2/2 [==============================] - 0s 9ms/step - loss: 0.4255 - accuracy: 0.8000\n",
      "Epoch 39/50\n",
      "2/2 [==============================] - 0s 13ms/step - loss: 0.4188 - accuracy: 0.8000\n",
      "Epoch 40/50\n",
      "2/2 [==============================] - 0s 14ms/step - loss: 0.4177 - accuracy: 0.8000\n",
      "Epoch 41/50\n",
      "2/2 [==============================] - 0s 12ms/step - loss: 0.4172 - accuracy: 0.8000\n",
      "Epoch 42/50\n",
      "2/2 [==============================] - 0s 11ms/step - loss: 0.4185 - accuracy: 0.8000\n",
      "Epoch 43/50\n",
      "2/2 [==============================] - 0s 10ms/step - loss: 0.4202 - accuracy: 0.8000\n",
      "Epoch 44/50\n",
      "2/2 [==============================] - 0s 10ms/step - loss: 0.4195 - accuracy: 0.8000\n",
      "Epoch 45/50\n",
      "2/2 [==============================] - 0s 9ms/step - loss: 0.4202 - accuracy: 0.8000\n",
      "Epoch 46/50\n",
      "2/2 [==============================] - 0s 9ms/step - loss: 0.4196 - accuracy: 0.8000\n",
      "Epoch 47/50\n",
      "2/2 [==============================] - 0s 10ms/step - loss: 0.4196 - accuracy: 0.8000\n",
      "Epoch 48/50\n",
      "2/2 [==============================] - 0s 9ms/step - loss: 0.4211 - accuracy: 0.8000\n",
      "Epoch 49/50\n",
      "2/2 [==============================] - 0s 9ms/step - loss: 0.4184 - accuracy: 0.8000\n",
      "Epoch 50/50\n",
      "2/2 [==============================] - 0s 9ms/step - loss: 0.4181 - accuracy: 0.8000\n"
     ]
    },
    {
     "data": {
      "text/plain": [
       "<keras.callbacks.History at 0x152efcfd0>"
      ]
     },
     "execution_count": 44,
     "metadata": {},
     "output_type": "execute_result"
    }
   ],
   "source": [
    "model.fit(train_X,train_Y, batch_size=10,epochs=50)"
   ]
  },
  {
   "cell_type": "code",
   "execution_count": 45,
   "metadata": {},
   "outputs": [
    {
     "name": "stdout",
     "output_type": "stream",
     "text": [
      "1/1 [==============================] - 0s 221ms/step - loss: 0.4179 - accuracy: 0.8000\n"
     ]
    },
    {
     "data": {
      "text/plain": [
       "[0.4179399013519287, 0.800000011920929]"
      ]
     },
     "execution_count": 45,
     "metadata": {},
     "output_type": "execute_result"
    }
   ],
   "source": [
    "model.evaluate(train_X,train_Y)"
   ]
  }
 ],
 "metadata": {
  "kernelspec": {
   "display_name": "Python 3",
   "language": "python",
   "name": "python3"
  },
  "language_info": {
   "codemirror_mode": {
    "name": "ipython",
    "version": 3
   },
   "file_extension": ".py",
   "mimetype": "text/x-python",
   "name": "python",
   "nbconvert_exporter": "python",
   "pygments_lexer": "ipython3",
   "version": "3.9.6"
  },
  "orig_nbformat": 4,
  "vscode": {
   "interpreter": {
    "hash": "31f2aee4e71d21fbe5cf8b01ff0e069b9275f58929596ceb00d14d90e3e16cd6"
   }
  }
 },
 "nbformat": 4,
 "nbformat_minor": 2
}
