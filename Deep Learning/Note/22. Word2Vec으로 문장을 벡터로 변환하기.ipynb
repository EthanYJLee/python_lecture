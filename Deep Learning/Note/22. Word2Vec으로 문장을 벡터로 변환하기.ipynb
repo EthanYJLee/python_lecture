{
 "cells": [
  {
   "attachments": {},
   "cell_type": "markdown",
   "metadata": {},
   "source": [
    "### Word2Vec\n",
    "- 문장 내부의 단어를 벡터로 변환하는 도구\n",
    "- 단어간의 유사도를 파악 가능하다.\n",
    "- 단어의 의미를 선형으로 계산   \n",
    ": 아빠 - 남자 + 여자 = 엄마, 왕자 - 남성 + 여성 = 공주"
   ]
  },
  {
   "attachments": {},
   "cell_type": "markdown",
   "metadata": {},
   "source": [
    "### Gensim  \n",
    ": Word2Vec을 구현하는 도구 중 실행속도가 빠름"
   ]
  },
  {
   "cell_type": "code",
   "execution_count": 43,
   "metadata": {},
   "outputs": [],
   "source": [
    "# !pip install Gensim"
   ]
  },
  {
   "cell_type": "code",
   "execution_count": 44,
   "metadata": {},
   "outputs": [],
   "source": [
    "from konlpy.tag import Okt\n",
    "from gensim.models import word2vec"
   ]
  },
  {
   "cell_type": "code",
   "execution_count": 45,
   "metadata": {},
   "outputs": [],
   "source": [
    "file = open(\"./Data/홍길동전.txt\",\"r\")\n",
    "text = str(file.readlines())\n",
    "\n",
    "# text"
   ]
  },
  {
   "cell_type": "code",
   "execution_count": 46,
   "metadata": {},
   "outputs": [],
   "source": [
    "# 텍스트를 한 줄씩 처리하기\n",
    "twitter = Okt()\n",
    "results = []\n",
    "lines = text.split(\"\\n\")\n",
    "for line in lines:\n",
    "    # 형태소 분석하기\n",
    "    malist = twitter.pos(line,norm=True,stem=True) # 단어의 기본형 사용 (표준어로 변환 후 분석)\n",
    "    r = []\n",
    "    for word in malist:\n",
    "        # 어미/조사/구두점 등은 대상에서 제외\n",
    "        if not word[1] in [\"Josa\",\"Eomi\",\"Puctuation\"]:\n",
    "            if word[0] != '\\n':\n",
    "                r.append(word[0])\n",
    "\n",
    "    rl = (\" \".join(r)).strip()\n",
    "    results.append(rl)\n",
    "    # print(rl)\n"
   ]
  },
  {
   "cell_type": "code",
   "execution_count": 47,
   "metadata": {},
   "outputs": [],
   "source": [
    "# 파일로 출력하기\n",
    "wakati_file = \"./Data/홍길동전.wakati\"\n",
    "with open(wakati_file,'w',encoding='utf-8') as fp:\n",
    "    fp.write(\"\\n\".join(results))\n"
   ]
  },
  {
   "cell_type": "code",
   "execution_count": 48,
   "metadata": {},
   "outputs": [
    {
     "name": "stdout",
     "output_type": "stream",
     "text": [
      "OK\n"
     ]
    }
   ],
   "source": [
    "# Word2Vec 모델 만들기\n",
    "data = word2vec.LineSentence(wakati_file)\n",
    "model = word2vec.Word2Vec(data,window=10, hs=1, min_count=2, sg=1) # 0: CBOW, 2: Skip-gram\n",
    "model.save(\"./Data/홍길동전.model\") \n",
    "print(\"OK\")"
   ]
  },
  {
   "attachments": {},
   "cell_type": "markdown",
   "metadata": {},
   "source": [
    "> text -> wakati -> model"
   ]
  },
  {
   "cell_type": "code",
   "execution_count": 49,
   "metadata": {},
   "outputs": [],
   "source": [
    "# 모델 사용하기\n",
    "model = word2vec.Word2Vec.load(\"./Data/홍길동전.model\")"
   ]
  },
  {
   "cell_type": "code",
   "execution_count": 50,
   "metadata": {},
   "outputs": [
    {
     "data": {
      "text/plain": [
       "[('재물', 0.9683622121810913),\n",
       " ('앗', 0.9522897601127625),\n",
       " ('수령', 0.9513930082321167),\n",
       " ('먹다', 0.9483761191368103),\n",
       " ('불의', 0.9267802238464355),\n",
       " ('중이', 0.9224162697792053),\n",
       " ('세대', 0.9218072295188904),\n",
       " ('뇌물', 0.9211736917495728),\n",
       " ('진휼하', 0.9185745716094971),\n",
       " ('진동', 0.9166839718818665)]"
      ]
     },
     "execution_count": 50,
     "metadata": {},
     "output_type": "execute_result"
    }
   ],
   "source": [
    "model.wv.most_similar(positive='백성')"
   ]
  },
  {
   "cell_type": "code",
   "execution_count": null,
   "metadata": {},
   "outputs": [],
   "source": []
  }
 ],
 "metadata": {
  "kernelspec": {
   "display_name": "tensorflow",
   "language": "python",
   "name": "python3"
  },
  "language_info": {
   "codemirror_mode": {
    "name": "ipython",
    "version": 3
   },
   "file_extension": ".py",
   "mimetype": "text/x-python",
   "name": "python",
   "nbconvert_exporter": "python",
   "pygments_lexer": "ipython3",
   "version": "3.9.13"
  },
  "orig_nbformat": 4,
  "vscode": {
   "interpreter": {
    "hash": "4d8b91bcbdb701e289b6a1d8c1277d30f7379cfd7af8489c64a2b22bf47c961d"
   }
  }
 },
 "nbformat": 4,
 "nbformat_minor": 2
}
