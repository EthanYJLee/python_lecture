{
 "cells": [
  {
   "attachments": {},
   "cell_type": "markdown",
   "metadata": {},
   "source": [
    "### 문장 제작 과정"
   ]
  },
  {
   "cell_type": "code",
   "execution_count": 36,
   "metadata": {},
   "outputs": [],
   "source": [
    "from konlpy.tag import Okt\n",
    "import json\n",
    "import markov"
   ]
  },
  {
   "cell_type": "code",
   "execution_count": 37,
   "metadata": {},
   "outputs": [],
   "source": [
    "# 파일 정의하기\n",
    "file = open(\"./Data/hkd.txt\",\"r\")\n",
    "text = str(file.readlines())"
   ]
  },
  {
   "cell_type": "code",
   "execution_count": 38,
   "metadata": {},
   "outputs": [],
   "source": [
    "# 텍스트를 한 줄씩 처리하기\n",
    "twitter = Okt()\n",
    "lines = text.split(\"n\")\n",
    "\n",
    "for line in lines:\n",
    "    # 형태소 분석\n",
    "    malist = twitter.pos(line, norm=True, stem=True)\n",
    "    words = []\n",
    "    for word in malist:\n",
    "        if not word[1] in [\"Punctuation\"]:\n",
    "            words.append(word[0])\n",
    "        if word[0] == \".\":\n",
    "            words.append(word[0])\n",
    "            "
   ]
  },
  {
   "cell_type": "code",
   "execution_count": 39,
   "metadata": {},
   "outputs": [
    {
     "data": {
      "text/plain": [
       "['밉다',\n",
       " '재',\n",
       " '라',\n",
       " '길동',\n",
       " '의',\n",
       " '행',\n",
       " '어사',\n",
       " '여',\n",
       " '쾌달',\n",
       " '한',\n",
       " '장부',\n",
       " '로다',\n",
       " '.',\n",
       " '비록',\n",
       " '천생',\n",
       " '이나',\n",
       " '적원',\n",
       " '을',\n",
       " '풀다',\n",
       " '버리다',\n",
       " '효우',\n",
       " '를',\n",
       " '완전하다',\n",
       " '하다',\n",
       " '신수',\n",
       " '를',\n",
       " '쾌',\n",
       " '달다',\n",
       " '만고',\n",
       " '에',\n",
       " '희한하다',\n",
       " '일',\n",
       " '이기',\n",
       " '로',\n",
       " '후',\n",
       " '인',\n",
       " '이',\n",
       " '알',\n",
       " '게',\n",
       " '한',\n",
       " '바',\n",
       " '이르다']"
      ]
     },
     "execution_count": 39,
     "metadata": {},
     "output_type": "execute_result"
    }
   ],
   "source": [
    "words"
   ]
  },
  {
   "cell_type": "code",
   "execution_count": 52,
   "metadata": {},
   "outputs": [
    {
     "name": "stdout",
     "output_type": "stream",
     "text": [
      "['밉다',\n",
      " '재',\n",
      " '라',\n",
      " '길동',\n",
      " '의',\n",
      " '행',\n",
      " '어사',\n",
      " '여',\n",
      " '쾌달',\n",
      " '한',\n",
      " '장부',\n",
      " '로다',\n",
      " '.',\n",
      " '비록',\n",
      " '천생',\n",
      " '이나',\n",
      " '적원',\n",
      " '을',\n",
      " '풀다',\n",
      " '버리다',\n",
      " '효우',\n",
      " '를',\n",
      " '완전하다',\n",
      " '하다',\n",
      " '신수',\n",
      " '를',\n",
      " '쾌',\n",
      " '달다',\n",
      " '만고',\n",
      " '에',\n",
      " '희한하다',\n",
      " '일',\n",
      " '이기',\n",
      " '로',\n",
      " '후',\n",
      " '인',\n",
      " '이',\n",
      " '알',\n",
      " '게',\n",
      " '한',\n",
      " '바',\n",
      " '이르다']\n",
      "{'@': {'밉다': {'재': 1}, '비록': {'천생': 1}},\n",
      " '게': {'한': {'바': 1}},\n",
      " '길동': {'의': {'행': 1}},\n",
      " '달다': {'만고': {'에': 1}},\n",
      " '라': {'길동': {'의': 1}},\n",
      " '로': {'후': {'인': 1}},\n",
      " '를': {'완전하다': {'하다': 1}, '쾌': {'달다': 1}},\n",
      " '만고': {'에': {'희한하다': 1}},\n",
      " '밉다': {'재': {'라': 1}},\n",
      " '버리다': {'효우': {'를': 1}},\n",
      " '비록': {'천생': {'이나': 1}},\n",
      " '신수': {'를': {'쾌': 1}},\n",
      " '알': {'게': {'한': 1}},\n",
      " '어사': {'여': {'쾌달': 1}},\n",
      " '에': {'희한하다': {'일': 1}},\n",
      " '여': {'쾌달': {'한': 1}},\n",
      " '완전하다': {'하다': {'신수': 1}},\n",
      " '을': {'풀다': {'버리다': 1}},\n",
      " '의': {'행': {'어사': 1}},\n",
      " '이': {'알': {'게': 1}},\n",
      " '이기': {'로': {'후': 1}},\n",
      " '이나': {'적원': {'을': 1}},\n",
      " '인': {'이': {'알': 1}},\n",
      " '일': {'이기': {'로': 1}},\n",
      " '장부': {'로다': {'.': 1}},\n",
      " '재': {'라': {'길동': 1}},\n",
      " '적원': {'을': {'풀다': 1}},\n",
      " '천생': {'이나': {'적원': 1}},\n",
      " '쾌': {'달다': {'만고': 1}},\n",
      " '쾌달': {'한': {'장부': 1}},\n",
      " '풀다': {'버리다': {'효우': 1}},\n",
      " '하다': {'신수': {'를': 1}},\n",
      " '한': {'바': {'이르다': 1}, '장부': {'로다': 1}},\n",
      " '행': {'어사': {'여': 1}},\n",
      " '효우': {'를': {'완전하다': 1}},\n",
      " '후': {'인': {'이': 1}},\n",
      " '희한하다': {'일': {'이기': 1}}}\n"
     ]
    }
   ],
   "source": [
    "# 딕셔너리 생성\n",
    "from pprint import pprint\n",
    "\n",
    "\n",
    "dic = markov.make_dic(words)\n",
    "pprint(words)\n",
    "pprint(dic)"
   ]
  },
  {
   "cell_type": "code",
   "execution_count": 41,
   "metadata": {},
   "outputs": [],
   "source": [
    "dict_file = \"./Data/markov.json\"\n",
    "json.dump(dic, open(dict_file, \"w\", encoding='utf-8'))"
   ]
  },
  {
   "cell_type": "code",
   "execution_count": 42,
   "metadata": {},
   "outputs": [],
   "source": [
    "# 딕셔너리 불러오기\n",
    "dic = json.load(open(dict_file))"
   ]
  },
  {
   "cell_type": "code",
   "execution_count": 46,
   "metadata": {},
   "outputs": [
    {
     "data": {
      "text/plain": [
       "{'@': {'밉다': {'재': 1}, '비록': {'천생': 1}},\n",
       " '밉다': {'재': {'라': 1}},\n",
       " '재': {'라': {'길동': 1}},\n",
       " '라': {'길동': {'의': 1}},\n",
       " '길동': {'의': {'행': 1}},\n",
       " '의': {'행': {'어사': 1}},\n",
       " '행': {'어사': {'여': 1}},\n",
       " '어사': {'여': {'쾌달': 1}},\n",
       " '여': {'쾌달': {'한': 1}},\n",
       " '쾌달': {'한': {'장부': 1}},\n",
       " '한': {'장부': {'로다': 1}, '바': {'이르다': 1}},\n",
       " '장부': {'로다': {'.': 1}},\n",
       " '비록': {'천생': {'이나': 1}},\n",
       " '천생': {'이나': {'적원': 1}},\n",
       " '이나': {'적원': {'을': 1}},\n",
       " '적원': {'을': {'풀다': 1}},\n",
       " '을': {'풀다': {'버리다': 1}},\n",
       " '풀다': {'버리다': {'효우': 1}},\n",
       " '버리다': {'효우': {'를': 1}},\n",
       " '효우': {'를': {'완전하다': 1}},\n",
       " '를': {'완전하다': {'하다': 1}, '쾌': {'달다': 1}},\n",
       " '완전하다': {'하다': {'신수': 1}},\n",
       " '하다': {'신수': {'를': 1}},\n",
       " '신수': {'를': {'쾌': 1}},\n",
       " '쾌': {'달다': {'만고': 1}},\n",
       " '달다': {'만고': {'에': 1}},\n",
       " '만고': {'에': {'희한하다': 1}},\n",
       " '에': {'희한하다': {'일': 1}},\n",
       " '희한하다': {'일': {'이기': 1}},\n",
       " '일': {'이기': {'로': 1}},\n",
       " '이기': {'로': {'후': 1}},\n",
       " '로': {'후': {'인': 1}},\n",
       " '후': {'인': {'이': 1}},\n",
       " '인': {'이': {'알': 1}},\n",
       " '이': {'알': {'게': 1}},\n",
       " '알': {'게': {'한': 1}},\n",
       " '게': {'한': {'바': 1}}}"
      ]
     },
     "execution_count": 46,
     "metadata": {},
     "output_type": "execute_result"
    }
   ],
   "source": [
    "dic"
   ]
  },
  {
   "cell_type": "code",
   "execution_count": 55,
   "metadata": {},
   "outputs": [
    {
     "ename": "KeyError",
     "evalue": "0",
     "output_type": "error",
     "traceback": [
      "\u001b[0;31m---------------------------------------------------------------------------\u001b[0m",
      "\u001b[0;31mKeyError\u001b[0m                                  Traceback (most recent call last)",
      "Cell \u001b[0;32mIn[55], line 3\u001b[0m\n\u001b[1;32m      1\u001b[0m \u001b[39m# 문장 만들기\u001b[39;00m\n\u001b[1;32m      2\u001b[0m \u001b[39mfor\u001b[39;00m i \u001b[39min\u001b[39;00m \u001b[39mrange\u001b[39m(\u001b[39m3\u001b[39m):\n\u001b[0;32m----> 3\u001b[0m     s \u001b[39m=\u001b[39m markov\u001b[39m.\u001b[39mmake_sentence(dic[i])\n\u001b[1;32m      4\u001b[0m     \u001b[39mprint\u001b[39m(s)\n\u001b[1;32m      5\u001b[0m     \u001b[39mprint\u001b[39m(\u001b[39m\"\u001b[39m\u001b[39m-----------------\u001b[39m\u001b[39m\"\u001b[39m)\n",
      "\u001b[0;31mKeyError\u001b[0m: 0"
     ]
    }
   ],
   "source": [
    "# 문장 만들기\n",
    "for i in range(3):\n",
    "    s = markov.make_sentence(dic)\n",
    "    print(s)\n",
    "    print(\"-----------------\")"
   ]
  },
  {
   "cell_type": "code",
   "execution_count": null,
   "metadata": {},
   "outputs": [],
   "source": []
  }
 ],
 "metadata": {
  "kernelspec": {
   "display_name": "tensorflow",
   "language": "python",
   "name": "python3"
  },
  "language_info": {
   "codemirror_mode": {
    "name": "ipython",
    "version": 3
   },
   "file_extension": ".py",
   "mimetype": "text/x-python",
   "name": "python",
   "nbconvert_exporter": "python",
   "pygments_lexer": "ipython3",
   "version": "3.9.13"
  },
  "orig_nbformat": 4,
  "vscode": {
   "interpreter": {
    "hash": "4d8b91bcbdb701e289b6a1d8c1277d30f7379cfd7af8489c64a2b22bf47c961d"
   }
  }
 },
 "nbformat": 4,
 "nbformat_minor": 2
}
