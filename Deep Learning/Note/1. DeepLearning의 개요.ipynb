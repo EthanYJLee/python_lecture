{
 "cells": [
  {
   "attachments": {},
   "cell_type": "markdown",
   "metadata": {},
   "source": [
    "# Deep Learning\n",
    "- Machine Learning의 한 종류.\n",
    "- 여러 층을 가진 신경망을 사용해 머신러닝을 수행하는 것.\n",
    "- 이미지 처리, 음성 인식, 자연어 처리에 중점.\n",
    "- 1980년대부터 있었지만 현대에 와서 컴퓨팅 성능 향상으로 각광받음.\n",
    "\n"
   ]
  },
  {
   "attachments": {},
   "cell_type": "markdown",
   "metadata": {},
   "source": [
    "### Deep Learning과 Machine Learning의 차이점\n",
    "- 가장 큰 차이점은 특징량 (Features) 추출.\n",
    "\n"
   ]
  }
 ],
 "metadata": {
  "kernelspec": {
   "display_name": "tensorflow",
   "language": "python",
   "name": "python3"
  },
  "language_info": {
   "name": "python",
   "version": "3.9.13"
  },
  "orig_nbformat": 4,
  "vscode": {
   "interpreter": {
    "hash": "4d8b91bcbdb701e289b6a1d8c1277d30f7379cfd7af8489c64a2b22bf47c961d"
   }
  }
 },
 "nbformat": 4,
 "nbformat_minor": 2
}
