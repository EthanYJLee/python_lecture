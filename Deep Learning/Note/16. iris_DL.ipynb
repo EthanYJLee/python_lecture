{
 "cells": [
  {
   "cell_type": "code",
   "execution_count": 21,
   "metadata": {},
   "outputs": [],
   "source": [
    "import numpy as np\n",
    "from tensorflow import keras\n",
    "import glob\n",
    "import matplotlib.pyplot as plt\n",
    "from PIL import Image\n",
    "import pandas as pd"
   ]
  },
  {
   "cell_type": "code",
   "execution_count": 22,
   "metadata": {},
   "outputs": [
    {
     "data": {
      "text/html": [
       "<div>\n",
       "<style scoped>\n",
       "    .dataframe tbody tr th:only-of-type {\n",
       "        vertical-align: middle;\n",
       "    }\n",
       "\n",
       "    .dataframe tbody tr th {\n",
       "        vertical-align: top;\n",
       "    }\n",
       "\n",
       "    .dataframe thead th {\n",
       "        text-align: right;\n",
       "    }\n",
       "</style>\n",
       "<table border=\"1\" class=\"dataframe\">\n",
       "  <thead>\n",
       "    <tr style=\"text-align: right;\">\n",
       "      <th></th>\n",
       "      <th>SepalLength</th>\n",
       "      <th>SepalWidth</th>\n",
       "      <th>PetalLength</th>\n",
       "      <th>PetalWidth</th>\n",
       "      <th>Name</th>\n",
       "    </tr>\n",
       "  </thead>\n",
       "  <tbody>\n",
       "    <tr>\n",
       "      <th>0</th>\n",
       "      <td>5.1</td>\n",
       "      <td>3.5</td>\n",
       "      <td>1.4</td>\n",
       "      <td>0.2</td>\n",
       "      <td>Iris-setosa</td>\n",
       "    </tr>\n",
       "    <tr>\n",
       "      <th>1</th>\n",
       "      <td>4.9</td>\n",
       "      <td>3.0</td>\n",
       "      <td>1.4</td>\n",
       "      <td>0.2</td>\n",
       "      <td>Iris-setosa</td>\n",
       "    </tr>\n",
       "    <tr>\n",
       "      <th>2</th>\n",
       "      <td>4.7</td>\n",
       "      <td>3.2</td>\n",
       "      <td>1.3</td>\n",
       "      <td>0.2</td>\n",
       "      <td>Iris-setosa</td>\n",
       "    </tr>\n",
       "    <tr>\n",
       "      <th>3</th>\n",
       "      <td>4.6</td>\n",
       "      <td>3.1</td>\n",
       "      <td>1.5</td>\n",
       "      <td>0.2</td>\n",
       "      <td>Iris-setosa</td>\n",
       "    </tr>\n",
       "    <tr>\n",
       "      <th>4</th>\n",
       "      <td>5.0</td>\n",
       "      <td>3.6</td>\n",
       "      <td>1.4</td>\n",
       "      <td>0.2</td>\n",
       "      <td>Iris-setosa</td>\n",
       "    </tr>\n",
       "  </tbody>\n",
       "</table>\n",
       "</div>"
      ],
      "text/plain": [
       "   SepalLength  SepalWidth  PetalLength  PetalWidth         Name\n",
       "0          5.1         3.5          1.4         0.2  Iris-setosa\n",
       "1          4.9         3.0          1.4         0.2  Iris-setosa\n",
       "2          4.7         3.2          1.3         0.2  Iris-setosa\n",
       "3          4.6         3.1          1.5         0.2  Iris-setosa\n",
       "4          5.0         3.6          1.4         0.2  Iris-setosa"
      ]
     },
     "execution_count": 22,
     "metadata": {},
     "output_type": "execute_result"
    }
   ],
   "source": [
    "iris = pd.read_csv(\"./Data/iris.csv\")\n",
    "iris.head()"
   ]
  },
  {
   "cell_type": "code",
   "execution_count": 23,
   "metadata": {},
   "outputs": [],
   "source": [
    "# data가 적을 때는 이런 식으로도 가능\n",
    "bclass = {\"Iris-setosa\":[1,0,0],\"Iris-versicolor\":[0,1,0],\"Iris-virginica\":[0,0,1]}\n",
    "y = []\n",
    "# enumerate: index, data\n",
    "for _,v in enumerate(iris['Name']):\n",
    "    y.append(bclass[v])"
   ]
  },
  {
   "cell_type": "code",
   "execution_count": 24,
   "metadata": {},
   "outputs": [
    {
     "data": {
      "text/plain": [
       "[[1, 0, 0],\n",
       " [1, 0, 0],\n",
       " [1, 0, 0],\n",
       " [1, 0, 0],\n",
       " [1, 0, 0],\n",
       " [1, 0, 0],\n",
       " [1, 0, 0],\n",
       " [1, 0, 0],\n",
       " [1, 0, 0],\n",
       " [1, 0, 0],\n",
       " [1, 0, 0],\n",
       " [1, 0, 0],\n",
       " [1, 0, 0],\n",
       " [1, 0, 0],\n",
       " [1, 0, 0],\n",
       " [1, 0, 0],\n",
       " [1, 0, 0],\n",
       " [1, 0, 0],\n",
       " [1, 0, 0],\n",
       " [1, 0, 0],\n",
       " [1, 0, 0],\n",
       " [1, 0, 0],\n",
       " [1, 0, 0],\n",
       " [1, 0, 0],\n",
       " [1, 0, 0],\n",
       " [1, 0, 0],\n",
       " [1, 0, 0],\n",
       " [1, 0, 0],\n",
       " [1, 0, 0],\n",
       " [1, 0, 0],\n",
       " [1, 0, 0],\n",
       " [1, 0, 0],\n",
       " [1, 0, 0],\n",
       " [1, 0, 0],\n",
       " [1, 0, 0],\n",
       " [1, 0, 0],\n",
       " [1, 0, 0],\n",
       " [1, 0, 0],\n",
       " [1, 0, 0],\n",
       " [1, 0, 0],\n",
       " [1, 0, 0],\n",
       " [1, 0, 0],\n",
       " [1, 0, 0],\n",
       " [1, 0, 0],\n",
       " [1, 0, 0],\n",
       " [1, 0, 0],\n",
       " [1, 0, 0],\n",
       " [1, 0, 0],\n",
       " [1, 0, 0],\n",
       " [1, 0, 0],\n",
       " [0, 1, 0],\n",
       " [0, 1, 0],\n",
       " [0, 1, 0],\n",
       " [0, 1, 0],\n",
       " [0, 1, 0],\n",
       " [0, 1, 0],\n",
       " [0, 1, 0],\n",
       " [0, 1, 0],\n",
       " [0, 1, 0],\n",
       " [0, 1, 0],\n",
       " [0, 1, 0],\n",
       " [0, 1, 0],\n",
       " [0, 1, 0],\n",
       " [0, 1, 0],\n",
       " [0, 1, 0],\n",
       " [0, 1, 0],\n",
       " [0, 1, 0],\n",
       " [0, 1, 0],\n",
       " [0, 1, 0],\n",
       " [0, 1, 0],\n",
       " [0, 1, 0],\n",
       " [0, 1, 0],\n",
       " [0, 1, 0],\n",
       " [0, 1, 0],\n",
       " [0, 1, 0],\n",
       " [0, 1, 0],\n",
       " [0, 1, 0],\n",
       " [0, 1, 0],\n",
       " [0, 1, 0],\n",
       " [0, 1, 0],\n",
       " [0, 1, 0],\n",
       " [0, 1, 0],\n",
       " [0, 1, 0],\n",
       " [0, 1, 0],\n",
       " [0, 1, 0],\n",
       " [0, 1, 0],\n",
       " [0, 1, 0],\n",
       " [0, 1, 0],\n",
       " [0, 1, 0],\n",
       " [0, 1, 0],\n",
       " [0, 1, 0],\n",
       " [0, 1, 0],\n",
       " [0, 1, 0],\n",
       " [0, 1, 0],\n",
       " [0, 1, 0],\n",
       " [0, 1, 0],\n",
       " [0, 1, 0],\n",
       " [0, 1, 0],\n",
       " [0, 1, 0],\n",
       " [0, 1, 0],\n",
       " [0, 0, 1],\n",
       " [0, 0, 1],\n",
       " [0, 0, 1],\n",
       " [0, 0, 1],\n",
       " [0, 0, 1],\n",
       " [0, 0, 1],\n",
       " [0, 0, 1],\n",
       " [0, 0, 1],\n",
       " [0, 0, 1],\n",
       " [0, 0, 1],\n",
       " [0, 0, 1],\n",
       " [0, 0, 1],\n",
       " [0, 0, 1],\n",
       " [0, 0, 1],\n",
       " [0, 0, 1],\n",
       " [0, 0, 1],\n",
       " [0, 0, 1],\n",
       " [0, 0, 1],\n",
       " [0, 0, 1],\n",
       " [0, 0, 1],\n",
       " [0, 0, 1],\n",
       " [0, 0, 1],\n",
       " [0, 0, 1],\n",
       " [0, 0, 1],\n",
       " [0, 0, 1],\n",
       " [0, 0, 1],\n",
       " [0, 0, 1],\n",
       " [0, 0, 1],\n",
       " [0, 0, 1],\n",
       " [0, 0, 1],\n",
       " [0, 0, 1],\n",
       " [0, 0, 1],\n",
       " [0, 0, 1],\n",
       " [0, 0, 1],\n",
       " [0, 0, 1],\n",
       " [0, 0, 1],\n",
       " [0, 0, 1],\n",
       " [0, 0, 1],\n",
       " [0, 0, 1],\n",
       " [0, 0, 1],\n",
       " [0, 0, 1],\n",
       " [0, 0, 1],\n",
       " [0, 0, 1],\n",
       " [0, 0, 1],\n",
       " [0, 0, 1],\n",
       " [0, 0, 1],\n",
       " [0, 0, 1],\n",
       " [0, 0, 1],\n",
       " [0, 0, 1],\n",
       " [0, 0, 1]]"
      ]
     },
     "execution_count": 24,
     "metadata": {},
     "output_type": "execute_result"
    }
   ],
   "source": [
    "y"
   ]
  },
  {
   "cell_type": "code",
   "execution_count": 25,
   "metadata": {},
   "outputs": [],
   "source": [
    "from sklearn.model_selection import train_test_split\n",
    "\n",
    "train_data, test_data, train_target, test_target = train_test_split(iris[['SepalLength','SepalWidth','PetalLength','PetalWidth']],y,test_size=0.2,random_state=42)"
   ]
  },
  {
   "cell_type": "code",
   "execution_count": 26,
   "metadata": {},
   "outputs": [
    {
     "name": "stdout",
     "output_type": "stream",
     "text": [
      "(120, 4)\n",
      "(120, 3)\n",
      "(30, 4)\n",
      "(30, 3)\n"
     ]
    }
   ],
   "source": [
    "print(train_data.shape)\n",
    "print(np.array(train_target).shape)\n",
    "print(test_data.shape)\n",
    "print(np.array(test_target).shape)"
   ]
  },
  {
   "attachments": {},
   "cell_type": "markdown",
   "metadata": {},
   "source": [
    "---\n",
    "### Deep Learning"
   ]
  },
  {
   "cell_type": "code",
   "execution_count": 27,
   "metadata": {},
   "outputs": [],
   "source": [
    "model = keras.Sequential()\n",
    "model.add(keras.layers.Dense(600, activation='relu',input_shape=(4,)))\n",
    "model.add(keras.layers.Dense(3, activation='softmax'))"
   ]
  },
  {
   "cell_type": "code",
   "execution_count": 28,
   "metadata": {},
   "outputs": [
    {
     "name": "stdout",
     "output_type": "stream",
     "text": [
      "Model: \"sequential_2\"\n",
      "_________________________________________________________________\n",
      " Layer (type)                Output Shape              Param #   \n",
      "=================================================================\n",
      " dense_4 (Dense)             (None, 600)               3000      \n",
      "                                                                 \n",
      " dense_5 (Dense)             (None, 3)                 1803      \n",
      "                                                                 \n",
      "=================================================================\n",
      "Total params: 4,803\n",
      "Trainable params: 4,803\n",
      "Non-trainable params: 0\n",
      "_________________________________________________________________\n"
     ]
    }
   ],
   "source": [
    "model.summary()"
   ]
  },
  {
   "cell_type": "code",
   "execution_count": 29,
   "metadata": {},
   "outputs": [
    {
     "name": "stdout",
     "output_type": "stream",
     "text": [
      "Epoch 1/50\n",
      "1/4 [======>.......................] - ETA: 0s - loss: 1.2262 - accuracy: 0.0312WARNING:tensorflow:Early stopping conditioned on metric `val_loss` which is not available. Available metrics are: loss,accuracy\n",
      "4/4 [==============================] - 0s 2ms/step - loss: 1.1213 - accuracy: 0.2167\n",
      "Epoch 2/50\n",
      "1/4 [======>.......................] - ETA: 0s - loss: 1.0260 - accuracy: 0.3125WARNING:tensorflow:Early stopping conditioned on metric `val_loss` which is not available. Available metrics are: loss,accuracy\n",
      "4/4 [==============================] - 0s 2ms/step - loss: 0.9767 - accuracy: 0.3333\n",
      "Epoch 3/50\n",
      "1/4 [======>.......................] - ETA: 0s - loss: 0.8853 - accuracy: 0.7188WARNING:tensorflow:Early stopping conditioned on metric `val_loss` which is not available. Available metrics are: loss,accuracy\n",
      "4/4 [==============================] - 0s 2ms/step - loss: 0.8522 - accuracy: 0.7500\n",
      "Epoch 4/50\n",
      "1/4 [======>.......................] - ETA: 0s - loss: 0.7711 - accuracy: 0.9688WARNING:tensorflow:Early stopping conditioned on metric `val_loss` which is not available. Available metrics are: loss,accuracy\n",
      "4/4 [==============================] - 0s 2ms/step - loss: 0.7613 - accuracy: 0.8833\n",
      "Epoch 5/50\n",
      "1/4 [======>.......................] - ETA: 0s - loss: 0.7383 - accuracy: 0.8750WARNING:tensorflow:Early stopping conditioned on metric `val_loss` which is not available. Available metrics are: loss,accuracy\n",
      "4/4 [==============================] - 0s 2ms/step - loss: 0.6862 - accuracy: 0.8583\n",
      "Epoch 6/50\n",
      "1/4 [======>.......................] - ETA: 0s - loss: 0.7180 - accuracy: 0.6250WARNING:tensorflow:Early stopping conditioned on metric `val_loss` which is not available. Available metrics are: loss,accuracy\n",
      "4/4 [==============================] - 0s 2ms/step - loss: 0.6320 - accuracy: 0.7667\n",
      "Epoch 7/50\n",
      "1/4 [======>.......................] - ETA: 0s - loss: 0.6269 - accuracy: 0.7188WARNING:tensorflow:Early stopping conditioned on metric `val_loss` which is not available. Available metrics are: loss,accuracy\n",
      "4/4 [==============================] - 0s 2ms/step - loss: 0.5851 - accuracy: 0.8417\n",
      "Epoch 8/50\n",
      "1/4 [======>.......................] - ETA: 0s - loss: 0.5006 - accuracy: 0.9688WARNING:tensorflow:Early stopping conditioned on metric `val_loss` which is not available. Available metrics are: loss,accuracy\n",
      "4/4 [==============================] - 0s 4ms/step - loss: 0.5477 - accuracy: 0.8750\n",
      "Epoch 9/50\n",
      "1/4 [======>.......................] - ETA: 0s - loss: 0.5348 - accuracy: 0.9375WARNING:tensorflow:Early stopping conditioned on metric `val_loss` which is not available. Available metrics are: loss,accuracy\n",
      "4/4 [==============================] - 0s 2ms/step - loss: 0.5145 - accuracy: 0.9000\n",
      "Epoch 10/50\n",
      "1/4 [======>.......................] - ETA: 0s - loss: 0.5343 - accuracy: 0.9375WARNING:tensorflow:Early stopping conditioned on metric `val_loss` which is not available. Available metrics are: loss,accuracy\n",
      "4/4 [==============================] - 0s 2ms/step - loss: 0.4879 - accuracy: 0.9250\n",
      "Epoch 11/50\n",
      "1/4 [======>.......................] - ETA: 0s - loss: 0.4192 - accuracy: 0.9375WARNING:tensorflow:Early stopping conditioned on metric `val_loss` which is not available. Available metrics are: loss,accuracy\n",
      "4/4 [==============================] - 0s 2ms/step - loss: 0.4640 - accuracy: 0.9667\n",
      "Epoch 12/50\n",
      "1/4 [======>.......................] - ETA: 0s - loss: 0.4934 - accuracy: 0.9062WARNING:tensorflow:Early stopping conditioned on metric `val_loss` which is not available. Available metrics are: loss,accuracy\n",
      "4/4 [==============================] - 0s 2ms/step - loss: 0.4447 - accuracy: 0.9250\n",
      "Epoch 13/50\n",
      "1/4 [======>.......................] - ETA: 0s - loss: 0.3645 - accuracy: 1.0000WARNING:tensorflow:Early stopping conditioned on metric `val_loss` which is not available. Available metrics are: loss,accuracy\n",
      "4/4 [==============================] - 0s 3ms/step - loss: 0.4244 - accuracy: 0.9417\n",
      "Epoch 14/50\n",
      "1/4 [======>.......................] - ETA: 0s - loss: 0.3905 - accuracy: 0.9688WARNING:tensorflow:Early stopping conditioned on metric `val_loss` which is not available. Available metrics are: loss,accuracy\n",
      "4/4 [==============================] - 0s 2ms/step - loss: 0.4093 - accuracy: 0.9667\n",
      "Epoch 15/50\n",
      "1/4 [======>.......................] - ETA: 0s - loss: 0.3654 - accuracy: 0.9688WARNING:tensorflow:Early stopping conditioned on metric `val_loss` which is not available. Available metrics are: loss,accuracy\n",
      "4/4 [==============================] - 0s 2ms/step - loss: 0.3936 - accuracy: 0.9583\n",
      "Epoch 16/50\n",
      "1/4 [======>.......................] - ETA: 0s - loss: 0.3741 - accuracy: 0.9062WARNING:tensorflow:Early stopping conditioned on metric `val_loss` which is not available. Available metrics are: loss,accuracy\n",
      "4/4 [==============================] - 0s 2ms/step - loss: 0.3872 - accuracy: 0.8917\n",
      "Epoch 17/50\n",
      "1/4 [======>.......................] - ETA: 0s - loss: 0.3276 - accuracy: 0.9375WARNING:tensorflow:Early stopping conditioned on metric `val_loss` which is not available. Available metrics are: loss,accuracy\n",
      "4/4 [==============================] - 0s 5ms/step - loss: 0.3695 - accuracy: 0.9417\n",
      "Epoch 18/50\n",
      "1/4 [======>.......................] - ETA: 0s - loss: 0.3551 - accuracy: 0.9375WARNING:tensorflow:Early stopping conditioned on metric `val_loss` which is not available. Available metrics are: loss,accuracy\n",
      "4/4 [==============================] - 0s 6ms/step - loss: 0.3590 - accuracy: 0.9500\n",
      "Epoch 19/50\n",
      "1/4 [======>.......................] - ETA: 0s - loss: 0.3591 - accuracy: 0.9062WARNING:tensorflow:Early stopping conditioned on metric `val_loss` which is not available. Available metrics are: loss,accuracy\n",
      "4/4 [==============================] - 0s 4ms/step - loss: 0.3495 - accuracy: 0.9250\n",
      "Epoch 20/50\n",
      "1/4 [======>.......................] - ETA: 0s - loss: 0.2994 - accuracy: 0.8750WARNING:tensorflow:Early stopping conditioned on metric `val_loss` which is not available. Available metrics are: loss,accuracy\n",
      "4/4 [==============================] - 0s 9ms/step - loss: 0.3328 - accuracy: 0.9417\n",
      "Epoch 21/50\n",
      "1/4 [======>.......................] - ETA: 0s - loss: 0.3711 - accuracy: 0.9688WARNING:tensorflow:Early stopping conditioned on metric `val_loss` which is not available. Available metrics are: loss,accuracy\n",
      "4/4 [==============================] - 0s 11ms/step - loss: 0.3199 - accuracy: 0.9750\n",
      "Epoch 22/50\n",
      "1/4 [======>.......................] - ETA: 0s - loss: 0.3325 - accuracy: 0.9375WARNING:tensorflow:Early stopping conditioned on metric `val_loss` which is not available. Available metrics are: loss,accuracy\n",
      "4/4 [==============================] - 0s 3ms/step - loss: 0.3106 - accuracy: 0.9583\n",
      "Epoch 23/50\n",
      "1/4 [======>.......................] - ETA: 0s - loss: 0.2567 - accuracy: 1.0000WARNING:tensorflow:Early stopping conditioned on metric `val_loss` which is not available. Available metrics are: loss,accuracy\n",
      "4/4 [==============================] - 0s 2ms/step - loss: 0.2987 - accuracy: 0.9750\n",
      "Epoch 24/50\n",
      "1/4 [======>.......................] - ETA: 0s - loss: 0.3977 - accuracy: 0.8750WARNING:tensorflow:Early stopping conditioned on metric `val_loss` which is not available. Available metrics are: loss,accuracy\n",
      "4/4 [==============================] - 0s 3ms/step - loss: 0.3010 - accuracy: 0.9500\n",
      "Epoch 25/50\n",
      "1/4 [======>.......................] - ETA: 0s - loss: 0.2643 - accuracy: 1.0000WARNING:tensorflow:Early stopping conditioned on metric `val_loss` which is not available. Available metrics are: loss,accuracy\n",
      "4/4 [==============================] - 0s 2ms/step - loss: 0.2833 - accuracy: 0.9500\n",
      "Epoch 26/50\n",
      "1/4 [======>.......................] - ETA: 0s - loss: 0.2186 - accuracy: 0.9688WARNING:tensorflow:Early stopping conditioned on metric `val_loss` which is not available. Available metrics are: loss,accuracy\n",
      "4/4 [==============================] - 0s 2ms/step - loss: 0.2777 - accuracy: 0.9500\n",
      "Epoch 27/50\n",
      "1/4 [======>.......................] - ETA: 0s - loss: 0.2566 - accuracy: 0.9375WARNING:tensorflow:Early stopping conditioned on metric `val_loss` which is not available. Available metrics are: loss,accuracy\n",
      "4/4 [==============================] - 0s 2ms/step - loss: 0.2622 - accuracy: 0.9583\n",
      "Epoch 28/50\n",
      "1/4 [======>.......................] - ETA: 0s - loss: 0.2329 - accuracy: 1.0000WARNING:tensorflow:Early stopping conditioned on metric `val_loss` which is not available. Available metrics are: loss,accuracy\n",
      "4/4 [==============================] - 0s 2ms/step - loss: 0.2619 - accuracy: 0.9583\n",
      "Epoch 29/50\n",
      "1/4 [======>.......................] - ETA: 0s - loss: 0.2638 - accuracy: 0.9688WARNING:tensorflow:Early stopping conditioned on metric `val_loss` which is not available. Available metrics are: loss,accuracy\n",
      "4/4 [==============================] - 0s 2ms/step - loss: 0.2560 - accuracy: 0.9583\n",
      "Epoch 30/50\n",
      "1/4 [======>.......................] - ETA: 0s - loss: 0.3102 - accuracy: 0.9062WARNING:tensorflow:Early stopping conditioned on metric `val_loss` which is not available. Available metrics are: loss,accuracy\n",
      "4/4 [==============================] - 0s 2ms/step - loss: 0.2448 - accuracy: 0.9500\n",
      "Epoch 31/50\n",
      "1/4 [======>.......................] - ETA: 0s - loss: 0.2552 - accuracy: 0.9375WARNING:tensorflow:Early stopping conditioned on metric `val_loss` which is not available. Available metrics are: loss,accuracy\n",
      "4/4 [==============================] - 0s 2ms/step - loss: 0.2482 - accuracy: 0.9583\n",
      "Epoch 32/50\n",
      "1/4 [======>.......................] - ETA: 0s - loss: 0.2307 - accuracy: 0.9688WARNING:tensorflow:Early stopping conditioned on metric `val_loss` which is not available. Available metrics are: loss,accuracy\n",
      "4/4 [==============================] - 0s 2ms/step - loss: 0.2269 - accuracy: 0.9833\n",
      "Epoch 33/50\n",
      "1/4 [======>.......................] - ETA: 0s - loss: 0.2114 - accuracy: 1.0000WARNING:tensorflow:Early stopping conditioned on metric `val_loss` which is not available. Available metrics are: loss,accuracy\n",
      "4/4 [==============================] - 0s 2ms/step - loss: 0.2265 - accuracy: 0.9500\n",
      "Epoch 34/50\n",
      "1/4 [======>.......................] - ETA: 0s - loss: 0.1539 - accuracy: 0.9688WARNING:tensorflow:Early stopping conditioned on metric `val_loss` which is not available. Available metrics are: loss,accuracy\n",
      "4/4 [==============================] - 0s 2ms/step - loss: 0.2170 - accuracy: 0.9667\n",
      "Epoch 35/50\n",
      "1/4 [======>.......................] - ETA: 0s - loss: 0.2539 - accuracy: 0.9688WARNING:tensorflow:Early stopping conditioned on metric `val_loss` which is not available. Available metrics are: loss,accuracy\n",
      "4/4 [==============================] - 0s 2ms/step - loss: 0.2118 - accuracy: 0.9750\n",
      "Epoch 36/50\n",
      "1/4 [======>.......................] - ETA: 0s - loss: 0.2060 - accuracy: 0.9375WARNING:tensorflow:Early stopping conditioned on metric `val_loss` which is not available. Available metrics are: loss,accuracy\n",
      "4/4 [==============================] - 0s 2ms/step - loss: 0.2051 - accuracy: 0.9667\n",
      "Epoch 37/50\n",
      "1/4 [======>.......................] - ETA: 0s - loss: 0.2216 - accuracy: 0.9375WARNING:tensorflow:Early stopping conditioned on metric `val_loss` which is not available. Available metrics are: loss,accuracy\n",
      "4/4 [==============================] - 0s 2ms/step - loss: 0.2017 - accuracy: 0.9667\n",
      "Epoch 38/50\n",
      "1/4 [======>.......................] - ETA: 0s - loss: 0.1752 - accuracy: 1.0000WARNING:tensorflow:Early stopping conditioned on metric `val_loss` which is not available. Available metrics are: loss,accuracy\n",
      "4/4 [==============================] - 0s 3ms/step - loss: 0.1962 - accuracy: 0.9667\n",
      "Epoch 39/50\n",
      "1/4 [======>.......................] - ETA: 0s - loss: 0.2024 - accuracy: 0.9688WARNING:tensorflow:Early stopping conditioned on metric `val_loss` which is not available. Available metrics are: loss,accuracy\n",
      "4/4 [==============================] - 0s 4ms/step - loss: 0.1913 - accuracy: 0.9750\n",
      "Epoch 40/50\n",
      "1/4 [======>.......................] - ETA: 0s - loss: 0.1905 - accuracy: 1.0000WARNING:tensorflow:Early stopping conditioned on metric `val_loss` which is not available. Available metrics are: loss,accuracy\n",
      "4/4 [==============================] - 0s 2ms/step - loss: 0.1871 - accuracy: 0.9667\n",
      "Epoch 41/50\n",
      "1/4 [======>.......................] - ETA: 0s - loss: 0.1754 - accuracy: 0.9688WARNING:tensorflow:Early stopping conditioned on metric `val_loss` which is not available. Available metrics are: loss,accuracy\n",
      "4/4 [==============================] - 0s 2ms/step - loss: 0.1775 - accuracy: 0.9667\n",
      "Epoch 42/50\n",
      "1/4 [======>.......................] - ETA: 0s - loss: 0.1404 - accuracy: 1.0000WARNING:tensorflow:Early stopping conditioned on metric `val_loss` which is not available. Available metrics are: loss,accuracy\n",
      "4/4 [==============================] - 0s 2ms/step - loss: 0.1785 - accuracy: 0.9667\n",
      "Epoch 43/50\n",
      "1/4 [======>.......................] - ETA: 0s - loss: 0.1722 - accuracy: 0.9688WARNING:tensorflow:Early stopping conditioned on metric `val_loss` which is not available. Available metrics are: loss,accuracy\n",
      "4/4 [==============================] - 0s 2ms/step - loss: 0.1735 - accuracy: 0.9667\n",
      "Epoch 44/50\n",
      "1/4 [======>.......................] - ETA: 0s - loss: 0.2146 - accuracy: 0.9375WARNING:tensorflow:Early stopping conditioned on metric `val_loss` which is not available. Available metrics are: loss,accuracy\n",
      "4/4 [==============================] - 0s 2ms/step - loss: 0.1689 - accuracy: 0.9750\n",
      "Epoch 45/50\n",
      "1/4 [======>.......................] - ETA: 0s - loss: 0.1988 - accuracy: 0.9375WARNING:tensorflow:Early stopping conditioned on metric `val_loss` which is not available. Available metrics are: loss,accuracy\n",
      "4/4 [==============================] - 0s 2ms/step - loss: 0.1657 - accuracy: 0.9667\n",
      "Epoch 46/50\n",
      "1/4 [======>.......................] - ETA: 0s - loss: 0.1425 - accuracy: 1.0000WARNING:tensorflow:Early stopping conditioned on metric `val_loss` which is not available. Available metrics are: loss,accuracy\n",
      "4/4 [==============================] - 0s 2ms/step - loss: 0.1627 - accuracy: 0.9750\n",
      "Epoch 47/50\n",
      "1/4 [======>.......................] - ETA: 0s - loss: 0.2327 - accuracy: 0.9375WARNING:tensorflow:Early stopping conditioned on metric `val_loss` which is not available. Available metrics are: loss,accuracy\n",
      "4/4 [==============================] - 0s 2ms/step - loss: 0.1627 - accuracy: 0.9750\n",
      "Epoch 48/50\n",
      "1/4 [======>.......................] - ETA: 0s - loss: 0.2254 - accuracy: 0.9062WARNING:tensorflow:Early stopping conditioned on metric `val_loss` which is not available. Available metrics are: loss,accuracy\n",
      "4/4 [==============================] - 0s 2ms/step - loss: 0.1535 - accuracy: 0.9667\n",
      "Epoch 49/50\n",
      "1/4 [======>.......................] - ETA: 0s - loss: 0.0927 - accuracy: 1.0000WARNING:tensorflow:Early stopping conditioned on metric `val_loss` which is not available. Available metrics are: loss,accuracy\n",
      "4/4 [==============================] - 0s 2ms/step - loss: 0.1540 - accuracy: 0.9667\n",
      "Epoch 50/50\n",
      "1/4 [======>.......................] - ETA: 0s - loss: 0.1313 - accuracy: 1.0000WARNING:tensorflow:Early stopping conditioned on metric `val_loss` which is not available. Available metrics are: loss,accuracy\n",
      "4/4 [==============================] - 0s 2ms/step - loss: 0.1533 - accuracy: 0.9667\n"
     ]
    }
   ],
   "source": [
    "model.compile(optimizer='adam',loss='categorical_crossentropy',metrics='accuracy')\n",
    "checkpoint_cb = keras.callbacks.ModelCheckpoint(\"./Data/best_cnn_iris.h5\")\n",
    "early_stopping_cb = keras.callbacks.EarlyStopping(patience=2,restore_best_weights=True)\n",
    "history = model.fit(np.array(train_data),np.array(train_target),epochs=50, callbacks=[checkpoint_cb,early_stopping_cb])"
   ]
  },
  {
   "cell_type": "code",
   "execution_count": 30,
   "metadata": {},
   "outputs": [
    {
     "name": "stdout",
     "output_type": "stream",
     "text": [
      "1/1 [==============================] - 0s 52ms/step - loss: 0.1463 - accuracy: 1.0000\n"
     ]
    },
    {
     "data": {
      "text/plain": [
       "[0.14632245898246765, 1.0]"
      ]
     },
     "execution_count": 30,
     "metadata": {},
     "output_type": "execute_result"
    }
   ],
   "source": [
    "best_model = keras.models.load_model(\"./Data/best_cnn_iris.h5\")\n",
    "best_model.evaluate(np.array(test_data),np.array(test_target))"
   ]
  },
  {
   "attachments": {},
   "cell_type": "markdown",
   "metadata": {},
   "source": [
    "# Converting Iris Model to tflite"
   ]
  },
  {
   "cell_type": "code",
   "execution_count": 31,
   "metadata": {},
   "outputs": [],
   "source": [
    "import tensorflow as tf"
   ]
  },
  {
   "cell_type": "code",
   "execution_count": 32,
   "metadata": {},
   "outputs": [
    {
     "name": "stdout",
     "output_type": "stream",
     "text": [
      "INFO:tensorflow:Assets written to: /var/folders/k_/0wcctvbj41ncld1_xmh98p6w0000gn/T/tmpfy0p35on/assets\n"
     ]
    },
    {
     "name": "stderr",
     "output_type": "stream",
     "text": [
      "2023-03-03 15:23:24.555647: W tensorflow/compiler/mlir/lite/python/tf_tfl_flatbuffer_helpers.cc:362] Ignored output_format.\n",
      "2023-03-03 15:23:24.555661: W tensorflow/compiler/mlir/lite/python/tf_tfl_flatbuffer_helpers.cc:365] Ignored drop_control_dependency.\n",
      "2023-03-03 15:23:24.557570: I tensorflow/cc/saved_model/reader.cc:43] Reading SavedModel from: /var/folders/k_/0wcctvbj41ncld1_xmh98p6w0000gn/T/tmpfy0p35on\n",
      "2023-03-03 15:23:24.559652: I tensorflow/cc/saved_model/reader.cc:81] Reading meta graph with tags { serve }\n",
      "2023-03-03 15:23:24.559660: I tensorflow/cc/saved_model/reader.cc:122] Reading SavedModel debug info (if present) from: /var/folders/k_/0wcctvbj41ncld1_xmh98p6w0000gn/T/tmpfy0p35on\n",
      "2023-03-03 15:23:24.561832: I tensorflow/compiler/mlir/mlir_graph_optimization_pass.cc:354] MLIR V1 optimization pass is not enabled\n",
      "2023-03-03 15:23:24.562430: I tensorflow/cc/saved_model/loader.cc:228] Restoring SavedModel bundle.\n",
      "2023-03-03 15:23:24.591654: I tensorflow/cc/saved_model/loader.cc:212] Running initialization op on SavedModel bundle at path: /var/folders/k_/0wcctvbj41ncld1_xmh98p6w0000gn/T/tmpfy0p35on\n",
      "2023-03-03 15:23:24.598748: I tensorflow/cc/saved_model/loader.cc:301] SavedModel load for tags { serve }; Status: success: OK. Took 41191 microseconds.\n",
      "2023-03-03 15:23:24.628808: I tensorflow/compiler/mlir/tensorflow/utils/dump_mlir_util.cc:263] disabling MLIR crash reproducer, set env var `MLIR_CRASH_REPRODUCER_DIRECTORY` to enable.\n"
     ]
    },
    {
     "data": {
      "text/plain": [
       "20884"
      ]
     },
     "execution_count": 32,
     "metadata": {},
     "output_type": "execute_result"
    }
   ],
   "source": [
    "converter = tf.lite.TFLiteConverter.from_keras_model(best_model)\n",
    "tflite_model = converter.convert()\n",
    "# wb: write binary\n",
    "open(\"./Data/iris.tflite\",\"wb\").write(tflite_model)"
   ]
  },
  {
   "cell_type": "code",
   "execution_count": 33,
   "metadata": {},
   "outputs": [],
   "source": [
    "model.save(\"./Data/iris.h5\")"
   ]
  },
  {
   "attachments": {},
   "cell_type": "markdown",
   "metadata": {},
   "source": [
    "## iris.h5: 84kb, iris.tflite: 21kb"
   ]
  },
  {
   "cell_type": "code",
   "execution_count": 34,
   "metadata": {},
   "outputs": [
    {
     "name": "stdout",
     "output_type": "stream",
     "text": [
      "INFO:tensorflow:Assets written to: /var/folders/k_/0wcctvbj41ncld1_xmh98p6w0000gn/T/tmp13wc25_h/assets\n"
     ]
    },
    {
     "name": "stderr",
     "output_type": "stream",
     "text": [
      "INFO:tensorflow:Assets written to: /var/folders/k_/0wcctvbj41ncld1_xmh98p6w0000gn/T/tmp13wc25_h/assets\n",
      "2023-03-03 15:26:46.215638: W tensorflow/compiler/mlir/lite/python/tf_tfl_flatbuffer_helpers.cc:362] Ignored output_format.\n",
      "2023-03-03 15:26:46.215651: W tensorflow/compiler/mlir/lite/python/tf_tfl_flatbuffer_helpers.cc:365] Ignored drop_control_dependency.\n",
      "2023-03-03 15:26:46.215761: I tensorflow/cc/saved_model/reader.cc:43] Reading SavedModel from: /var/folders/k_/0wcctvbj41ncld1_xmh98p6w0000gn/T/tmp13wc25_h\n",
      "2023-03-03 15:26:46.216532: I tensorflow/cc/saved_model/reader.cc:81] Reading meta graph with tags { serve }\n",
      "2023-03-03 15:26:46.216545: I tensorflow/cc/saved_model/reader.cc:122] Reading SavedModel debug info (if present) from: /var/folders/k_/0wcctvbj41ncld1_xmh98p6w0000gn/T/tmp13wc25_h\n",
      "2023-03-03 15:26:46.225708: I tensorflow/cc/saved_model/loader.cc:228] Restoring SavedModel bundle.\n",
      "2023-03-03 15:26:46.252371: I tensorflow/cc/saved_model/loader.cc:212] Running initialization op on SavedModel bundle at path: /var/folders/k_/0wcctvbj41ncld1_xmh98p6w0000gn/T/tmp13wc25_h\n",
      "2023-03-03 15:26:46.259606: I tensorflow/cc/saved_model/loader.cc:301] SavedModel load for tags { serve }; Status: success: OK. Took 43842 microseconds.\n"
     ]
    },
    {
     "data": {
      "text/plain": [
       "20884"
      ]
     },
     "execution_count": 34,
     "metadata": {},
     "output_type": "execute_result"
    }
   ],
   "source": [
    "# 저장한 h5 모델 load\n",
    "h5_model = tf.keras.models.load_model(\"./Data/iris.h5\")\n",
    "# tflite로 convert\n",
    "converter = tf.lite.TFLiteConverter.from_keras_model(h5_model)\n",
    "tflite_model = converter.convert()\n",
    "# 경로에 작성\n",
    "# wb: write binary\n",
    "open(\"./Data/iris2.tflite\",\"wb\").write(tflite_model)"
   ]
  },
  {
   "cell_type": "code",
   "execution_count": null,
   "metadata": {},
   "outputs": [],
   "source": []
  }
 ],
 "metadata": {
  "kernelspec": {
   "display_name": "tensorflow",
   "language": "python",
   "name": "python3"
  },
  "language_info": {
   "codemirror_mode": {
    "name": "ipython",
    "version": 3
   },
   "file_extension": ".py",
   "mimetype": "text/x-python",
   "name": "python",
   "nbconvert_exporter": "python",
   "pygments_lexer": "ipython3",
   "version": "3.9.13"
  },
  "orig_nbformat": 4,
  "vscode": {
   "interpreter": {
    "hash": "4d8b91bcbdb701e289b6a1d8c1277d30f7379cfd7af8489c64a2b22bf47c961d"
   }
  }
 },
 "nbformat": 4,
 "nbformat_minor": 2
}
