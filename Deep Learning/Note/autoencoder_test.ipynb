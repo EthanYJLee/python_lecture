{
 "cells": [
  {
   "attachments": {},
   "cell_type": "markdown",
   "metadata": {},
   "source": [
    "### Auto Encoder\n",
    "- 비지도학습 딥러닝 모델\n",
    "- 입력값을 압축시킨 후 다시 압축된 정보를 복원해서 입력값과 동일출력값으로 학습되는 모델\n",
    "- 학습 과정을 통해 최대한 입력값과 출력값이 일치되도록 모델 파라미터가 최적화됨.\n",
    "- 오토 인코더의 압축된 정보는 입력값에서 노이즈가 제거된 핵심 특징들로 구성된 저차원 데이터로 간주되어 주로 차원축소의 목적으로 활용됨."
   ]
  },
  {
   "cell_type": "code",
   "execution_count": 69,
   "metadata": {},
   "outputs": [
    {
     "data": {
      "text/html": [
       "<img src=\"https://raw.githubusercontent.com/captainchargers/deeplearning/master/img/autoencoder1.png\" width=\"500\" height=\"100\"/>"
      ],
      "text/plain": [
       "<IPython.core.display.Image object>"
      ]
     },
     "execution_count": 69,
     "metadata": {},
     "output_type": "execute_result"
    }
   ],
   "source": [
    "from IPython.display import Image\n",
    "Image(url= \"https://raw.githubusercontent.com/captainchargers/deeplearning/master/img/autoencoder1.png\", width=500, height=100)"
   ]
  },
  {
   "cell_type": "code",
   "execution_count": 70,
   "metadata": {},
   "outputs": [],
   "source": [
    "from tensorflow import keras\n",
    "import numpy as np\n",
    "import matplotlib.pyplot as plt\n",
    "from PIL import Image\n",
    "import pandas as pd"
   ]
  },
  {
   "cell_type": "code",
   "execution_count": 71,
   "metadata": {},
   "outputs": [],
   "source": [
    "# (x_train, y_train),(x_test, y_test) = keras.datasets.mnist.load_data()"
   ]
  },
  {
   "cell_type": "code",
   "execution_count": 72,
   "metadata": {},
   "outputs": [],
   "source": [
    "converse1 = pd.read_csv(\"../DL_Project/Data/converse_1.csv\")\n",
    "converse3 = pd.read_csv(\"../DL_Project/Data/Shoew_Added/converse3.csv\")"
   ]
  },
  {
   "cell_type": "code",
   "execution_count": 73,
   "metadata": {},
   "outputs": [],
   "source": [
    "data = pd.concat([converse1,converse3])"
   ]
  },
  {
   "cell_type": "code",
   "execution_count": 74,
   "metadata": {},
   "outputs": [
    {
     "data": {
      "text/html": [
       "<div>\n",
       "<style scoped>\n",
       "    .dataframe tbody tr th:only-of-type {\n",
       "        vertical-align: middle;\n",
       "    }\n",
       "\n",
       "    .dataframe tbody tr th {\n",
       "        vertical-align: top;\n",
       "    }\n",
       "\n",
       "    .dataframe thead th {\n",
       "        text-align: right;\n",
       "    }\n",
       "</style>\n",
       "<table border=\"1\" class=\"dataframe\">\n",
       "  <thead>\n",
       "    <tr style=\"text-align: right;\">\n",
       "      <th></th>\n",
       "      <th>0</th>\n",
       "      <th>1</th>\n",
       "      <th>2</th>\n",
       "      <th>3</th>\n",
       "      <th>4</th>\n",
       "      <th>5</th>\n",
       "      <th>6</th>\n",
       "      <th>7</th>\n",
       "      <th>8</th>\n",
       "      <th>9</th>\n",
       "      <th>...</th>\n",
       "      <th>49142</th>\n",
       "      <th>49143</th>\n",
       "      <th>49144</th>\n",
       "      <th>49145</th>\n",
       "      <th>49146</th>\n",
       "      <th>49147</th>\n",
       "      <th>49148</th>\n",
       "      <th>49149</th>\n",
       "      <th>49150</th>\n",
       "      <th>49151</th>\n",
       "    </tr>\n",
       "  </thead>\n",
       "  <tbody>\n",
       "    <tr>\n",
       "      <th>0</th>\n",
       "      <td>0</td>\n",
       "      <td>0</td>\n",
       "      <td>0</td>\n",
       "      <td>0</td>\n",
       "      <td>0</td>\n",
       "      <td>0</td>\n",
       "      <td>0</td>\n",
       "      <td>0</td>\n",
       "      <td>0</td>\n",
       "      <td>0</td>\n",
       "      <td>...</td>\n",
       "      <td>0</td>\n",
       "      <td>0</td>\n",
       "      <td>0</td>\n",
       "      <td>0</td>\n",
       "      <td>0</td>\n",
       "      <td>0</td>\n",
       "      <td>0</td>\n",
       "      <td>0</td>\n",
       "      <td>0</td>\n",
       "      <td>0</td>\n",
       "    </tr>\n",
       "    <tr>\n",
       "      <th>1</th>\n",
       "      <td>0</td>\n",
       "      <td>0</td>\n",
       "      <td>0</td>\n",
       "      <td>0</td>\n",
       "      <td>0</td>\n",
       "      <td>0</td>\n",
       "      <td>0</td>\n",
       "      <td>0</td>\n",
       "      <td>0</td>\n",
       "      <td>0</td>\n",
       "      <td>...</td>\n",
       "      <td>0</td>\n",
       "      <td>0</td>\n",
       "      <td>0</td>\n",
       "      <td>0</td>\n",
       "      <td>0</td>\n",
       "      <td>0</td>\n",
       "      <td>0</td>\n",
       "      <td>0</td>\n",
       "      <td>0</td>\n",
       "      <td>0</td>\n",
       "    </tr>\n",
       "    <tr>\n",
       "      <th>2</th>\n",
       "      <td>0</td>\n",
       "      <td>0</td>\n",
       "      <td>0</td>\n",
       "      <td>0</td>\n",
       "      <td>0</td>\n",
       "      <td>0</td>\n",
       "      <td>0</td>\n",
       "      <td>0</td>\n",
       "      <td>0</td>\n",
       "      <td>0</td>\n",
       "      <td>...</td>\n",
       "      <td>0</td>\n",
       "      <td>0</td>\n",
       "      <td>0</td>\n",
       "      <td>0</td>\n",
       "      <td>0</td>\n",
       "      <td>0</td>\n",
       "      <td>0</td>\n",
       "      <td>0</td>\n",
       "      <td>0</td>\n",
       "      <td>0</td>\n",
       "    </tr>\n",
       "    <tr>\n",
       "      <th>3</th>\n",
       "      <td>0</td>\n",
       "      <td>0</td>\n",
       "      <td>0</td>\n",
       "      <td>0</td>\n",
       "      <td>0</td>\n",
       "      <td>0</td>\n",
       "      <td>0</td>\n",
       "      <td>0</td>\n",
       "      <td>0</td>\n",
       "      <td>0</td>\n",
       "      <td>...</td>\n",
       "      <td>0</td>\n",
       "      <td>0</td>\n",
       "      <td>0</td>\n",
       "      <td>0</td>\n",
       "      <td>0</td>\n",
       "      <td>0</td>\n",
       "      <td>0</td>\n",
       "      <td>0</td>\n",
       "      <td>0</td>\n",
       "      <td>0</td>\n",
       "    </tr>\n",
       "    <tr>\n",
       "      <th>4</th>\n",
       "      <td>0</td>\n",
       "      <td>0</td>\n",
       "      <td>0</td>\n",
       "      <td>0</td>\n",
       "      <td>0</td>\n",
       "      <td>0</td>\n",
       "      <td>0</td>\n",
       "      <td>0</td>\n",
       "      <td>0</td>\n",
       "      <td>0</td>\n",
       "      <td>...</td>\n",
       "      <td>0</td>\n",
       "      <td>0</td>\n",
       "      <td>0</td>\n",
       "      <td>0</td>\n",
       "      <td>0</td>\n",
       "      <td>0</td>\n",
       "      <td>0</td>\n",
       "      <td>0</td>\n",
       "      <td>0</td>\n",
       "      <td>0</td>\n",
       "    </tr>\n",
       "    <tr>\n",
       "      <th>...</th>\n",
       "      <td>...</td>\n",
       "      <td>...</td>\n",
       "      <td>...</td>\n",
       "      <td>...</td>\n",
       "      <td>...</td>\n",
       "      <td>...</td>\n",
       "      <td>...</td>\n",
       "      <td>...</td>\n",
       "      <td>...</td>\n",
       "      <td>...</td>\n",
       "      <td>...</td>\n",
       "      <td>...</td>\n",
       "      <td>...</td>\n",
       "      <td>...</td>\n",
       "      <td>...</td>\n",
       "      <td>...</td>\n",
       "      <td>...</td>\n",
       "      <td>...</td>\n",
       "      <td>...</td>\n",
       "      <td>...</td>\n",
       "      <td>...</td>\n",
       "    </tr>\n",
       "    <tr>\n",
       "      <th>55</th>\n",
       "      <td>0</td>\n",
       "      <td>0</td>\n",
       "      <td>0</td>\n",
       "      <td>0</td>\n",
       "      <td>0</td>\n",
       "      <td>0</td>\n",
       "      <td>0</td>\n",
       "      <td>0</td>\n",
       "      <td>0</td>\n",
       "      <td>0</td>\n",
       "      <td>...</td>\n",
       "      <td>0</td>\n",
       "      <td>0</td>\n",
       "      <td>0</td>\n",
       "      <td>0</td>\n",
       "      <td>0</td>\n",
       "      <td>0</td>\n",
       "      <td>0</td>\n",
       "      <td>0</td>\n",
       "      <td>0</td>\n",
       "      <td>0</td>\n",
       "    </tr>\n",
       "    <tr>\n",
       "      <th>56</th>\n",
       "      <td>0</td>\n",
       "      <td>0</td>\n",
       "      <td>0</td>\n",
       "      <td>0</td>\n",
       "      <td>0</td>\n",
       "      <td>0</td>\n",
       "      <td>0</td>\n",
       "      <td>0</td>\n",
       "      <td>0</td>\n",
       "      <td>0</td>\n",
       "      <td>...</td>\n",
       "      <td>0</td>\n",
       "      <td>0</td>\n",
       "      <td>0</td>\n",
       "      <td>0</td>\n",
       "      <td>0</td>\n",
       "      <td>0</td>\n",
       "      <td>0</td>\n",
       "      <td>0</td>\n",
       "      <td>0</td>\n",
       "      <td>0</td>\n",
       "    </tr>\n",
       "    <tr>\n",
       "      <th>57</th>\n",
       "      <td>0</td>\n",
       "      <td>0</td>\n",
       "      <td>0</td>\n",
       "      <td>0</td>\n",
       "      <td>0</td>\n",
       "      <td>0</td>\n",
       "      <td>0</td>\n",
       "      <td>0</td>\n",
       "      <td>0</td>\n",
       "      <td>0</td>\n",
       "      <td>...</td>\n",
       "      <td>0</td>\n",
       "      <td>0</td>\n",
       "      <td>0</td>\n",
       "      <td>0</td>\n",
       "      <td>0</td>\n",
       "      <td>0</td>\n",
       "      <td>0</td>\n",
       "      <td>0</td>\n",
       "      <td>0</td>\n",
       "      <td>0</td>\n",
       "    </tr>\n",
       "    <tr>\n",
       "      <th>58</th>\n",
       "      <td>0</td>\n",
       "      <td>0</td>\n",
       "      <td>0</td>\n",
       "      <td>0</td>\n",
       "      <td>0</td>\n",
       "      <td>0</td>\n",
       "      <td>0</td>\n",
       "      <td>0</td>\n",
       "      <td>0</td>\n",
       "      <td>0</td>\n",
       "      <td>...</td>\n",
       "      <td>0</td>\n",
       "      <td>0</td>\n",
       "      <td>0</td>\n",
       "      <td>0</td>\n",
       "      <td>0</td>\n",
       "      <td>0</td>\n",
       "      <td>0</td>\n",
       "      <td>0</td>\n",
       "      <td>0</td>\n",
       "      <td>0</td>\n",
       "    </tr>\n",
       "    <tr>\n",
       "      <th>59</th>\n",
       "      <td>0</td>\n",
       "      <td>0</td>\n",
       "      <td>0</td>\n",
       "      <td>0</td>\n",
       "      <td>0</td>\n",
       "      <td>0</td>\n",
       "      <td>0</td>\n",
       "      <td>0</td>\n",
       "      <td>0</td>\n",
       "      <td>0</td>\n",
       "      <td>...</td>\n",
       "      <td>0</td>\n",
       "      <td>0</td>\n",
       "      <td>0</td>\n",
       "      <td>0</td>\n",
       "      <td>0</td>\n",
       "      <td>0</td>\n",
       "      <td>0</td>\n",
       "      <td>0</td>\n",
       "      <td>0</td>\n",
       "      <td>0</td>\n",
       "    </tr>\n",
       "  </tbody>\n",
       "</table>\n",
       "<p>120 rows × 49152 columns</p>\n",
       "</div>"
      ],
      "text/plain": [
       "    0  1  2  3  4  5  6  7  8  9  ...  49142  49143  49144  49145  49146  \\\n",
       "0   0  0  0  0  0  0  0  0  0  0  ...      0      0      0      0      0   \n",
       "1   0  0  0  0  0  0  0  0  0  0  ...      0      0      0      0      0   \n",
       "2   0  0  0  0  0  0  0  0  0  0  ...      0      0      0      0      0   \n",
       "3   0  0  0  0  0  0  0  0  0  0  ...      0      0      0      0      0   \n",
       "4   0  0  0  0  0  0  0  0  0  0  ...      0      0      0      0      0   \n",
       ".. .. .. .. .. .. .. .. .. .. ..  ...    ...    ...    ...    ...    ...   \n",
       "55  0  0  0  0  0  0  0  0  0  0  ...      0      0      0      0      0   \n",
       "56  0  0  0  0  0  0  0  0  0  0  ...      0      0      0      0      0   \n",
       "57  0  0  0  0  0  0  0  0  0  0  ...      0      0      0      0      0   \n",
       "58  0  0  0  0  0  0  0  0  0  0  ...      0      0      0      0      0   \n",
       "59  0  0  0  0  0  0  0  0  0  0  ...      0      0      0      0      0   \n",
       "\n",
       "    49147  49148  49149  49150  49151  \n",
       "0       0      0      0      0      0  \n",
       "1       0      0      0      0      0  \n",
       "2       0      0      0      0      0  \n",
       "3       0      0      0      0      0  \n",
       "4       0      0      0      0      0  \n",
       "..    ...    ...    ...    ...    ...  \n",
       "55      0      0      0      0      0  \n",
       "56      0      0      0      0      0  \n",
       "57      0      0      0      0      0  \n",
       "58      0      0      0      0      0  \n",
       "59      0      0      0      0      0  \n",
       "\n",
       "[120 rows x 49152 columns]"
      ]
     },
     "execution_count": 74,
     "metadata": {},
     "output_type": "execute_result"
    }
   ],
   "source": [
    "data"
   ]
  },
  {
   "cell_type": "code",
   "execution_count": 75,
   "metadata": {},
   "outputs": [],
   "source": [
    "from sklearn.model_selection import train_test_split"
   ]
  },
  {
   "cell_type": "code",
   "execution_count": 76,
   "metadata": {},
   "outputs": [],
   "source": [
    "train_data, test_data = train_test_split(data,random_state=42)"
   ]
  },
  {
   "cell_type": "code",
   "execution_count": 80,
   "metadata": {},
   "outputs": [],
   "source": [
    "train_data = np.array(train_data,dtype=np.int32).reshape(-1,128,128,3)\n",
    "test_data = np.array(test_data,dtype=np.int32).reshape(-1,128,128,3)"
   ]
  },
  {
   "cell_type": "code",
   "execution_count": 81,
   "metadata": {},
   "outputs": [
    {
     "name": "stdout",
     "output_type": "stream",
     "text": [
      "(90, 128, 128, 3)\n",
      "(30, 128, 128, 3)\n"
     ]
    }
   ],
   "source": [
    "print(train_data.shape)\n",
    "print(test_data.shape)"
   ]
  },
  {
   "cell_type": "code",
   "execution_count": 83,
   "metadata": {},
   "outputs": [],
   "source": [
    "# data 정규화\n",
    "train_data = train_data.astype('float32')/255\n",
    "test_data = test_data.astype('float32')/255\n",
    "\n",
    "train_data = train_data.reshape((len(train_data),128*128*3))\n",
    "test_data = test_data.reshape((len(test_data),128*128*3))"
   ]
  },
  {
   "attachments": {},
   "cell_type": "markdown",
   "metadata": {},
   "source": [
    "# Tensorflow Model 생성"
   ]
  },
  {
   "cell_type": "code",
   "execution_count": 87,
   "metadata": {},
   "outputs": [],
   "source": [
    "InputModel = keras.layers.Input(shape=(128*128*3))"
   ]
  },
  {
   "cell_type": "code",
   "execution_count": 88,
   "metadata": {},
   "outputs": [
    {
     "data": {
      "text/plain": [
       "TensorShape([None, 49152])"
      ]
     },
     "execution_count": 88,
     "metadata": {},
     "output_type": "execute_result"
    }
   ],
   "source": [
    "InputModel.shape"
   ]
  },
  {
   "cell_type": "code",
   "execution_count": 89,
   "metadata": {},
   "outputs": [],
   "source": [
    "# EncoderLayer는 3차원으로 축소된 입력값\n",
    "EncodedLayer = keras.layers.Dense(32,activation='relu')(InputModel)\n",
    "# DecoderLayer는 MNIST차원으로 복원된 값\n",
    "DecoderLayer = keras.layers.Dense(128*128*3, activation='sigmoid')(EncodedLayer)\n",
    "# AuroEncoderModel은 입력값과 복원값을 최소화하는 과정\n",
    "AutoEncoderModel = keras.models.Model(InputModel,DecoderLayer)\n",
    "AutoEncoderModel.compile(optimizer='adam',loss='binary_crossentropy')"
   ]
  },
  {
   "cell_type": "code",
   "execution_count": 90,
   "metadata": {},
   "outputs": [
    {
     "name": "stdout",
     "output_type": "stream",
     "text": [
      "Epoch 1/50\n",
      "1/1 [==============================] - 1s 520ms/step - loss: 0.6931\n",
      "Epoch 2/50\n",
      "1/1 [==============================] - 0s 60ms/step - loss: 0.6928\n",
      "Epoch 3/50\n",
      "1/1 [==============================] - 0s 59ms/step - loss: 0.6924\n",
      "Epoch 4/50\n",
      "1/1 [==============================] - 0s 53ms/step - loss: 0.6919\n",
      "Epoch 5/50\n",
      "1/1 [==============================] - 0s 207ms/step - loss: 0.6915\n",
      "Epoch 6/50\n",
      "1/1 [==============================] - 0s 174ms/step - loss: 0.6911\n",
      "Epoch 7/50\n",
      "1/1 [==============================] - 0s 80ms/step - loss: 0.6906\n",
      "Epoch 8/50\n",
      "1/1 [==============================] - 0s 82ms/step - loss: 0.6902\n",
      "Epoch 9/50\n",
      "1/1 [==============================] - 0s 105ms/step - loss: 0.6897\n",
      "Epoch 10/50\n",
      "1/1 [==============================] - 0s 75ms/step - loss: 0.6892\n",
      "Epoch 11/50\n",
      "1/1 [==============================] - 0s 100ms/step - loss: 0.6888\n",
      "Epoch 12/50\n",
      "1/1 [==============================] - 0s 74ms/step - loss: 0.6883\n",
      "Epoch 13/50\n",
      "1/1 [==============================] - 0s 59ms/step - loss: 0.6878\n",
      "Epoch 14/50\n",
      "1/1 [==============================] - 0s 82ms/step - loss: 0.6873\n",
      "Epoch 15/50\n",
      "1/1 [==============================] - 0s 104ms/step - loss: 0.6868\n",
      "Epoch 16/50\n",
      "1/1 [==============================] - 0s 97ms/step - loss: 0.6862\n",
      "Epoch 17/50\n",
      "1/1 [==============================] - 0s 86ms/step - loss: 0.6856\n",
      "Epoch 18/50\n",
      "1/1 [==============================] - 0s 112ms/step - loss: 0.6849\n",
      "Epoch 19/50\n",
      "1/1 [==============================] - 0s 96ms/step - loss: 0.6842\n",
      "Epoch 20/50\n",
      "1/1 [==============================] - 0s 82ms/step - loss: 0.6833\n",
      "Epoch 21/50\n",
      "1/1 [==============================] - 0s 187ms/step - loss: 0.6824\n",
      "Epoch 22/50\n",
      "1/1 [==============================] - 0s 173ms/step - loss: 0.6812\n",
      "Epoch 23/50\n",
      "1/1 [==============================] - 0s 139ms/step - loss: 0.6800\n",
      "Epoch 24/50\n",
      "1/1 [==============================] - 0s 103ms/step - loss: 0.6785\n",
      "Epoch 25/50\n",
      "1/1 [==============================] - 0s 116ms/step - loss: 0.6767\n",
      "Epoch 26/50\n",
      "1/1 [==============================] - 0s 105ms/step - loss: 0.6746\n",
      "Epoch 27/50\n",
      "1/1 [==============================] - 0s 115ms/step - loss: 0.6722\n",
      "Epoch 28/50\n",
      "1/1 [==============================] - 0s 64ms/step - loss: 0.6695\n",
      "Epoch 29/50\n",
      "1/1 [==============================] - 0s 106ms/step - loss: 0.6663\n",
      "Epoch 30/50\n",
      "1/1 [==============================] - 0s 205ms/step - loss: 0.6626\n",
      "Epoch 31/50\n",
      "1/1 [==============================] - 0s 96ms/step - loss: 0.6584\n",
      "Epoch 32/50\n",
      "1/1 [==============================] - 0s 80ms/step - loss: 0.6537\n",
      "Epoch 33/50\n",
      "1/1 [==============================] - 0s 96ms/step - loss: 0.6483\n",
      "Epoch 34/50\n",
      "1/1 [==============================] - 0s 68ms/step - loss: 0.6423\n",
      "Epoch 35/50\n",
      "1/1 [==============================] - 0s 61ms/step - loss: 0.6357\n",
      "Epoch 36/50\n",
      "1/1 [==============================] - 0s 67ms/step - loss: 0.6283\n",
      "Epoch 37/50\n",
      "1/1 [==============================] - 0s 87ms/step - loss: 0.6203\n",
      "Epoch 38/50\n",
      "1/1 [==============================] - 0s 183ms/step - loss: 0.6115\n",
      "Epoch 39/50\n",
      "1/1 [==============================] - 0s 81ms/step - loss: 0.6019\n",
      "Epoch 40/50\n",
      "1/1 [==============================] - 0s 98ms/step - loss: 0.5915\n",
      "Epoch 41/50\n",
      "1/1 [==============================] - 0s 97ms/step - loss: 0.5804\n",
      "Epoch 42/50\n",
      "1/1 [==============================] - 0s 66ms/step - loss: 0.5686\n",
      "Epoch 43/50\n",
      "1/1 [==============================] - 0s 120ms/step - loss: 0.5559\n",
      "Epoch 44/50\n",
      "1/1 [==============================] - 0s 136ms/step - loss: 0.5426\n",
      "Epoch 45/50\n",
      "1/1 [==============================] - 0s 165ms/step - loss: 0.5286\n",
      "Epoch 46/50\n",
      "1/1 [==============================] - 0s 56ms/step - loss: 0.5139\n",
      "Epoch 47/50\n",
      "1/1 [==============================] - 0s 57ms/step - loss: 0.4986\n",
      "Epoch 48/50\n",
      "1/1 [==============================] - 0s 71ms/step - loss: 0.4828\n",
      "Epoch 49/50\n",
      "1/1 [==============================] - 0s 77ms/step - loss: 0.4664\n",
      "Epoch 50/50\n",
      "1/1 [==============================] - 0s 86ms/step - loss: 0.4497\n"
     ]
    }
   ],
   "source": [
    "history = AutoEncoderModel.fit(train_data,train_data,batch_size=256,epochs=50,shuffle=True)"
   ]
  },
  {
   "cell_type": "code",
   "execution_count": 91,
   "metadata": {},
   "outputs": [
    {
     "name": "stdout",
     "output_type": "stream",
     "text": [
      "1/1 [==============================] - 0s 53ms/step\n"
     ]
    }
   ],
   "source": [
    "DecodedDigits = AutoEncoderModel.predict(test_data)"
   ]
  },
  {
   "cell_type": "code",
   "execution_count": 92,
   "metadata": {},
   "outputs": [
    {
     "name": "stdout",
     "output_type": "stream",
     "text": [
      "(30, 49152)\n",
      "(30, 49152)\n"
     ]
    }
   ],
   "source": [
    "# x_test와 DecodedDigits의 크기\n",
    "print(test_data.shape)\n",
    "print(DecodedDigits.shape)"
   ]
  },
  {
   "cell_type": "code",
   "execution_count": 93,
   "metadata": {},
   "outputs": [
    {
     "data": {
      "image/png": "[encoded data removed]",
      "text/plain": [
       "<Figure size 640x480 with 1 Axes>"
      ]
     },
     "metadata": {},
     "output_type": "display_data"
    }
   ],
   "source": [
    "plt.plot(history.history['loss'])\n",
    "# plt.plot(history.history['val_loss'])\n",
    "plt.title('AutoEncoder Model Loss')\n",
    "plt.ylabel('Loss')\n",
    "plt.xlabel('Epoch')\n",
    "plt.legend(['train','valid'])\n",
    "plt.show()"
   ]
  },
  {
   "cell_type": "code",
   "execution_count": 94,
   "metadata": {},
   "outputs": [
    {
     "ename": "NameError",
     "evalue": "name 'x_test' is not defined",
     "output_type": "error",
     "traceback": [
      "\u001b[0;31m---------------------------------------------------------------------------\u001b[0m",
      "\u001b[0;31mNameError\u001b[0m                                 Traceback (most recent call last)",
      "Cell \u001b[0;32mIn[94], line 6\u001b[0m\n\u001b[1;32m      4\u001b[0m \u001b[39mfor\u001b[39;00m i \u001b[39min\u001b[39;00m \u001b[39mrange\u001b[39m(n):\n\u001b[1;32m      5\u001b[0m     ax \u001b[39m=\u001b[39m plt\u001b[39m.\u001b[39msubplot(\u001b[39m2\u001b[39m,n,i\u001b[39m+\u001b[39m\u001b[39m1\u001b[39m)\n\u001b[0;32m----> 6\u001b[0m     plt\u001b[39m.\u001b[39mimshow(x_test[i]\u001b[39m.\u001b[39mreshape(\u001b[39m28\u001b[39m,\u001b[39m28\u001b[39m))\n\u001b[1;32m      7\u001b[0m     ax\u001b[39m.\u001b[39mget_xaxis()\u001b[39m.\u001b[39mset_visible(\u001b[39mFalse\u001b[39;00m)\n\u001b[1;32m      8\u001b[0m     ax\u001b[39m.\u001b[39mget_yaxis()\u001b[39m.\u001b[39mset_visible(\u001b[39mFalse\u001b[39;00m)\n",
      "\u001b[0;31mNameError\u001b[0m: name 'x_test' is not defined"
     ]
    },
    {
     "data": {
      "image/png": "[encoded data removed]",
      "text/plain": [
       "<Figure size 2000x400 with 1 Axes>"
      ]
     },
     "metadata": {},
     "output_type": "display_data"
    }
   ],
   "source": [
    "# 10개의 이미지를 시각화\n",
    "n = 10\n",
    "plt.figure(figsize=(20,4))\n",
    "for i in range(n):\n",
    "    ax = plt.subplot(2,n,i+1)\n",
    "    plt.imshow(x_test[i].reshape(28,28))\n",
    "    ax.get_xaxis().set_visible(False)\n",
    "    ax.get_yaxis().set_visible(False)\n",
    "    plt.gray()\n",
    "# ------------------------------\n",
    "    ax= plt.subplot(2,n,i+1+n)\n",
    "    plt.imshow(DecodedDigits[i].reshape(28,28))\n",
    "    ax.get_xaxis().set_visible(False)\n",
    "    ax.get_yaxis().set_visible(False)\n",
    "    plt.gray()\n",
    "plt.show()"
   ]
  }
 ],
 "metadata": {
  "kernelspec": {
   "display_name": "tensorflow",
   "language": "python",
   "name": "python3"
  },
  "language_info": {
   "codemirror_mode": {
    "name": "ipython",
    "version": 3
   },
   "file_extension": ".py",
   "mimetype": "text/x-python",
   "name": "python",
   "nbconvert_exporter": "python",
   "pygments_lexer": "ipython3",
   "version": "3.9.13"
  },
  "orig_nbformat": 4,
  "vscode": {
   "interpreter": {
    "hash": "4d8b91bcbdb701e289b6a1d8c1277d30f7379cfd7af8489c64a2b22bf47c961d"
   }
  }
 },
 "nbformat": 4,
 "nbformat_minor": 2
}
