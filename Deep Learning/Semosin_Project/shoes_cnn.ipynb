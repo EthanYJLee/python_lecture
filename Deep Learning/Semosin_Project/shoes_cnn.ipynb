{
 "cells": [
  {
   "attachments": {},
   "cell_type": "markdown",
   "metadata": {},
   "source": [
    "# Shoes (Nike, Adidas, Converse) CNN"
   ]
  },
  {
   "cell_type": "code",
   "execution_count": 213,
   "metadata": {},
   "outputs": [],
   "source": [
    "import numpy as np\n",
    "from tensorflow import keras\n",
    "import glob\n",
    "import matplotlib.pyplot as plt\n",
    "from PIL import Image\n",
    "import pandas as pd"
   ]
  },
  {
   "cell_type": "code",
   "execution_count": 214,
   "metadata": {},
   "outputs": [
    {
     "data": {
      "text/html": [
       "<div>\n",
       "<style scoped>\n",
       "    .dataframe tbody tr th:only-of-type {\n",
       "        vertical-align: middle;\n",
       "    }\n",
       "\n",
       "    .dataframe tbody tr th {\n",
       "        vertical-align: top;\n",
       "    }\n",
       "\n",
       "    .dataframe thead th {\n",
       "        text-align: right;\n",
       "    }\n",
       "</style>\n",
       "<table border=\"1\" class=\"dataframe\">\n",
       "  <thead>\n",
       "    <tr style=\"text-align: right;\">\n",
       "      <th></th>\n",
       "      <th>0</th>\n",
       "      <th>1</th>\n",
       "      <th>2</th>\n",
       "      <th>3</th>\n",
       "      <th>4</th>\n",
       "      <th>5</th>\n",
       "      <th>6</th>\n",
       "      <th>7</th>\n",
       "      <th>8</th>\n",
       "      <th>9</th>\n",
       "      <th>...</th>\n",
       "      <th>49143</th>\n",
       "      <th>49144</th>\n",
       "      <th>49145</th>\n",
       "      <th>49146</th>\n",
       "      <th>49147</th>\n",
       "      <th>49148</th>\n",
       "      <th>49149</th>\n",
       "      <th>49150</th>\n",
       "      <th>49151</th>\n",
       "      <th>target</th>\n",
       "    </tr>\n",
       "  </thead>\n",
       "  <tbody>\n",
       "    <tr>\n",
       "      <th>0</th>\n",
       "      <td>0.015686</td>\n",
       "      <td>0.015686</td>\n",
       "      <td>0.015686</td>\n",
       "      <td>0.011765</td>\n",
       "      <td>0.011765</td>\n",
       "      <td>0.011765</td>\n",
       "      <td>0.007843</td>\n",
       "      <td>0.007843</td>\n",
       "      <td>0.007843</td>\n",
       "      <td>0.003922</td>\n",
       "      <td>...</td>\n",
       "      <td>0.003922</td>\n",
       "      <td>0.003922</td>\n",
       "      <td>0.003922</td>\n",
       "      <td>0.003922</td>\n",
       "      <td>0.003922</td>\n",
       "      <td>0.003922</td>\n",
       "      <td>0.007843</td>\n",
       "      <td>0.007843</td>\n",
       "      <td>0.007843</td>\n",
       "      <td>1.0</td>\n",
       "    </tr>\n",
       "    <tr>\n",
       "      <th>1</th>\n",
       "      <td>0.117647</td>\n",
       "      <td>0.113725</td>\n",
       "      <td>0.105882</td>\n",
       "      <td>0.086275</td>\n",
       "      <td>0.082353</td>\n",
       "      <td>0.074510</td>\n",
       "      <td>0.054902</td>\n",
       "      <td>0.050980</td>\n",
       "      <td>0.043137</td>\n",
       "      <td>0.039216</td>\n",
       "      <td>...</td>\n",
       "      <td>0.000000</td>\n",
       "      <td>0.000000</td>\n",
       "      <td>0.000000</td>\n",
       "      <td>0.000000</td>\n",
       "      <td>0.000000</td>\n",
       "      <td>0.000000</td>\n",
       "      <td>0.000000</td>\n",
       "      <td>0.000000</td>\n",
       "      <td>0.000000</td>\n",
       "      <td>1.0</td>\n",
       "    </tr>\n",
       "    <tr>\n",
       "      <th>2</th>\n",
       "      <td>0.086275</td>\n",
       "      <td>0.086275</td>\n",
       "      <td>0.086275</td>\n",
       "      <td>0.058824</td>\n",
       "      <td>0.058824</td>\n",
       "      <td>0.058824</td>\n",
       "      <td>0.031373</td>\n",
       "      <td>0.031373</td>\n",
       "      <td>0.031373</td>\n",
       "      <td>0.023529</td>\n",
       "      <td>...</td>\n",
       "      <td>0.015686</td>\n",
       "      <td>0.035294</td>\n",
       "      <td>0.011765</td>\n",
       "      <td>0.011765</td>\n",
       "      <td>0.039216</td>\n",
       "      <td>0.007843</td>\n",
       "      <td>0.011765</td>\n",
       "      <td>0.039216</td>\n",
       "      <td>0.007843</td>\n",
       "      <td>1.0</td>\n",
       "    </tr>\n",
       "    <tr>\n",
       "      <th>3</th>\n",
       "      <td>0.058824</td>\n",
       "      <td>0.062745</td>\n",
       "      <td>0.078431</td>\n",
       "      <td>0.090196</td>\n",
       "      <td>0.094118</td>\n",
       "      <td>0.109804</td>\n",
       "      <td>0.027451</td>\n",
       "      <td>0.031373</td>\n",
       "      <td>0.050980</td>\n",
       "      <td>0.050980</td>\n",
       "      <td>...</td>\n",
       "      <td>0.062745</td>\n",
       "      <td>0.043137</td>\n",
       "      <td>0.031373</td>\n",
       "      <td>0.054902</td>\n",
       "      <td>0.035294</td>\n",
       "      <td>0.023529</td>\n",
       "      <td>0.043137</td>\n",
       "      <td>0.023529</td>\n",
       "      <td>0.011765</td>\n",
       "      <td>1.0</td>\n",
       "    </tr>\n",
       "    <tr>\n",
       "      <th>4</th>\n",
       "      <td>0.094118</td>\n",
       "      <td>0.078431</td>\n",
       "      <td>0.074510</td>\n",
       "      <td>0.074510</td>\n",
       "      <td>0.058824</td>\n",
       "      <td>0.054902</td>\n",
       "      <td>0.062745</td>\n",
       "      <td>0.047059</td>\n",
       "      <td>0.043137</td>\n",
       "      <td>0.062745</td>\n",
       "      <td>...</td>\n",
       "      <td>0.015686</td>\n",
       "      <td>0.007843</td>\n",
       "      <td>0.011765</td>\n",
       "      <td>0.015686</td>\n",
       "      <td>0.007843</td>\n",
       "      <td>0.011765</td>\n",
       "      <td>0.015686</td>\n",
       "      <td>0.007843</td>\n",
       "      <td>0.011765</td>\n",
       "      <td>1.0</td>\n",
       "    </tr>\n",
       "  </tbody>\n",
       "</table>\n",
       "<p>5 rows × 49153 columns</p>\n",
       "</div>"
      ],
      "text/plain": [
       "          0         1         2         3         4         5         6  \\\n",
       "0  0.015686  0.015686  0.015686  0.011765  0.011765  0.011765  0.007843   \n",
       "1  0.117647  0.113725  0.105882  0.086275  0.082353  0.074510  0.054902   \n",
       "2  0.086275  0.086275  0.086275  0.058824  0.058824  0.058824  0.031373   \n",
       "3  0.058824  0.062745  0.078431  0.090196  0.094118  0.109804  0.027451   \n",
       "4  0.094118  0.078431  0.074510  0.074510  0.058824  0.054902  0.062745   \n",
       "\n",
       "          7         8         9  ...     49143     49144     49145     49146  \\\n",
       "0  0.007843  0.007843  0.003922  ...  0.003922  0.003922  0.003922  0.003922   \n",
       "1  0.050980  0.043137  0.039216  ...  0.000000  0.000000  0.000000  0.000000   \n",
       "2  0.031373  0.031373  0.023529  ...  0.015686  0.035294  0.011765  0.011765   \n",
       "3  0.031373  0.050980  0.050980  ...  0.062745  0.043137  0.031373  0.054902   \n",
       "4  0.047059  0.043137  0.062745  ...  0.015686  0.007843  0.011765  0.015686   \n",
       "\n",
       "      49147     49148     49149     49150     49151  target  \n",
       "0  0.003922  0.003922  0.007843  0.007843  0.007843     1.0  \n",
       "1  0.000000  0.000000  0.000000  0.000000  0.000000     1.0  \n",
       "2  0.039216  0.007843  0.011765  0.039216  0.007843     1.0  \n",
       "3  0.035294  0.023529  0.043137  0.023529  0.011765     1.0  \n",
       "4  0.007843  0.011765  0.015686  0.007843  0.011765     1.0  \n",
       "\n",
       "[5 rows x 49153 columns]"
      ]
     },
     "execution_count": 214,
     "metadata": {},
     "output_type": "execute_result"
    }
   ],
   "source": [
    "df = pd.read_csv(\"./Data/train+target.csv\")\n",
    "df.head()"
   ]
  },
  {
   "cell_type": "code",
   "execution_count": 231,
   "metadata": {},
   "outputs": [
    {
     "data": {
      "text/plain": [
       "1440"
      ]
     },
     "execution_count": 231,
     "metadata": {},
     "output_type": "execute_result"
    }
   ],
   "source": [
    "len(df)"
   ]
  },
  {
   "cell_type": "code",
   "execution_count": 232,
   "metadata": {},
   "outputs": [
    {
     "data": {
      "text/plain": [
       "70777440"
      ]
     },
     "execution_count": 232,
     "metadata": {},
     "output_type": "execute_result"
    }
   ],
   "source": [
    "49151*1440"
   ]
  },
  {
   "attachments": {},
   "cell_type": "markdown",
   "metadata": {},
   "source": [
    "### Train"
   ]
  },
  {
   "cell_type": "code",
   "execution_count": 233,
   "metadata": {},
   "outputs": [],
   "source": [
    "train = np.array(df.iloc[0:,:-1],dtype=np.int32)"
   ]
  },
  {
   "cell_type": "code",
   "execution_count": 234,
   "metadata": {},
   "outputs": [
    {
     "data": {
      "text/plain": [
       "(1440, 49152)"
      ]
     },
     "execution_count": 234,
     "metadata": {},
     "output_type": "execute_result"
    }
   ],
   "source": [
    "train.shape"
   ]
  },
  {
   "attachments": {},
   "cell_type": "markdown",
   "metadata": {},
   "source": [
    "### Target"
   ]
  },
  {
   "cell_type": "code",
   "execution_count": 235,
   "metadata": {},
   "outputs": [],
   "source": [
    "target = df['target']"
   ]
  },
  {
   "cell_type": "code",
   "execution_count": 236,
   "metadata": {},
   "outputs": [],
   "source": [
    "target = target - 1"
   ]
  },
  {
   "cell_type": "code",
   "execution_count": 237,
   "metadata": {},
   "outputs": [
    {
     "data": {
      "text/plain": [
       "(1440,)"
      ]
     },
     "execution_count": 237,
     "metadata": {},
     "output_type": "execute_result"
    }
   ],
   "source": [
    "target.shape"
   ]
  },
  {
   "attachments": {},
   "cell_type": "markdown",
   "metadata": {},
   "source": [
    "### Train Test Split"
   ]
  },
  {
   "cell_type": "code",
   "execution_count": 238,
   "metadata": {},
   "outputs": [],
   "source": [
    "from sklearn.model_selection import train_test_split"
   ]
  },
  {
   "cell_type": "code",
   "execution_count": 290,
   "metadata": {},
   "outputs": [],
   "source": [
    "# # 1. 데이터 준비\n",
    "# train_input = train.reshape(-1,128,128,3)\n",
    "# # train_input, test_scaled, train_target, test_target = train_test_split(train_input, target, test_size=0.2, random_state=42)\n",
    "# # train_scaled, val_scaled, train_target, val_target = train_test_split(train_input, train_target, test_size=0.2, random_state=42)\n",
    "# train_scaled, val_scaled, train_target, val_target = train_test_split(train_input, target, test_size=0.2)"
   ]
  },
  {
   "cell_type": "code",
   "execution_count": 292,
   "metadata": {},
   "outputs": [],
   "source": [
    "# # 데이터 준비\n",
    "# train_input = train.reshape(-1,128,128,3)\n",
    "# train_scaled, val_scaled, train_target, val_target = train_test_split(train_input, target, test_size=0.2)\n",
    "# # 모델 생성\n",
    "# model = keras.Sequential()\n",
    "# # 합성곱층\n",
    "# model.add(keras.layers.Conv2D(32, kernel_size = 3, activation = 'relu', padding='same', input_shape = (128,128,3)))\n",
    "# # 풀링층\n",
    "# model.add(keras.layers.MaxPooling2D(2))\n",
    "# # # 풀링층 추가\n",
    "# # model.add(keras.layers.Conv2D(64, kernel_size = 3, activation='relu',padding='same'))\n",
    "# # model.add(keras.layers.MaxPooling2D(2))\n",
    "# # # 풀링층 추가\n",
    "# # model.add(keras.layers.Conv2D(128, kernel_size = 3, activation='relu',padding='same'))\n",
    "# # model.add(keras.layers.MaxPooling2D(2))\n",
    "# # 은닉층\n",
    "# model.add(keras.layers.Flatten())\n",
    "# model.add(keras.layers.Dense(100,activation='relu'))\n",
    "# model.add(keras.layers.Dropout(0.3))\n",
    "# model.add(keras.layers.Dense(6,activation='softmax'))"
   ]
  },
  {
   "cell_type": "code",
   "execution_count": 332,
   "metadata": {},
   "outputs": [
    {
     "data": {
      "text/plain": [
       "(1440, 49152)"
      ]
     },
     "execution_count": 332,
     "metadata": {},
     "output_type": "execute_result"
    }
   ],
   "source": [
    "train.shape"
   ]
  },
  {
   "cell_type": "code",
   "execution_count": 347,
   "metadata": {},
   "outputs": [],
   "source": [
    "# 데이터 준비\n",
    "train_input = train.reshape(-1,128,128,3)\n",
    "train_scaled, val_scaled, train_target, val_target = train_test_split(train_input, target, test_size=0.2)\n",
    "\n",
    "\n",
    "# 모델 생성\n",
    "model = keras.Sequential()\n",
    "# 합성곱층\n",
    "model.add(keras.layers.Conv2D(32, kernel_size = 3, activation = 'relu', padding='same', input_shape = (128,128,3)))\n",
    "# 풀링층\n",
    "model.add(keras.layers.MaxPooling2D(2))\n",
    "# 은닉층\n",
    "model.add(keras.layers.Flatten())\n",
    "model.add(keras.layers.Dense(100,activation='relu'))\n",
    "model.add(keras.layers.Dropout(0.3))\n",
    "model.add(keras.layers.Dense(6,activation='softmax'))"
   ]
  },
  {
   "cell_type": "code",
   "execution_count": 348,
   "metadata": {},
   "outputs": [
    {
     "name": "stdout",
     "output_type": "stream",
     "text": [
      "(1152, 128, 128, 3)\n",
      "(288, 128, 128, 3)\n",
      "(1152,)\n",
      "(288,)\n"
     ]
    }
   ],
   "source": [
    "print(train_scaled.shape)\n",
    "print(val_scaled.shape)\n",
    "print(train_target.shape)\n",
    "print(val_target.shape)"
   ]
  },
  {
   "cell_type": "code",
   "execution_count": 349,
   "metadata": {},
   "outputs": [
    {
     "name": "stdout",
     "output_type": "stream",
     "text": [
      "Model: \"sequential_51\"\n",
      "_________________________________________________________________\n",
      " Layer (type)                Output Shape              Param #   \n",
      "=================================================================\n",
      " conv2d_91 (Conv2D)          (None, 128, 128, 32)      896       \n",
      "                                                                 \n",
      " max_pooling2d_89 (MaxPoolin  (None, 64, 64, 32)       0         \n",
      " g2D)                                                            \n",
      "                                                                 \n",
      " flatten_49 (Flatten)        (None, 131072)            0         \n",
      "                                                                 \n",
      " dense_97 (Dense)            (None, 100)               13107300  \n",
      "                                                                 \n",
      " dropout_49 (Dropout)        (None, 100)               0         \n",
      "                                                                 \n",
      " dense_98 (Dense)            (None, 6)                 606       \n",
      "                                                                 \n",
      "=================================================================\n",
      "Total params: 13,108,802\n",
      "Trainable params: 13,108,802\n",
      "Non-trainable params: 0\n",
      "_________________________________________________________________\n"
     ]
    }
   ],
   "source": [
    "model.summary()"
   ]
  },
  {
   "cell_type": "code",
   "execution_count": 355,
   "metadata": {},
   "outputs": [
    {
     "name": "stdout",
     "output_type": "stream",
     "text": [
      "Epoch 1/100\n",
      "36/36 [==============================] - 3s 68ms/step - loss: 0.4973 - accuracy: 0.8299 - val_loss: 0.6518 - val_accuracy: 0.7604\n",
      "Epoch 2/100\n",
      "36/36 [==============================] - 2s 67ms/step - loss: 0.5475 - accuracy: 0.8299 - val_loss: 0.7126 - val_accuracy: 0.6944\n",
      "Epoch 3/100\n",
      "36/36 [==============================] - 2s 68ms/step - loss: 0.4598 - accuracy: 0.8203 - val_loss: 0.6796 - val_accuracy: 0.7535\n",
      "Epoch 4/100\n",
      "36/36 [==============================] - 2s 69ms/step - loss: 0.4677 - accuracy: 0.8368 - val_loss: 0.7553 - val_accuracy: 0.7361\n",
      "Epoch 5/100\n",
      "36/36 [==============================] - 2s 62ms/step - loss: 0.4709 - accuracy: 0.8377 - val_loss: 0.7834 - val_accuracy: 0.7257\n",
      "Epoch 6/100\n",
      "36/36 [==============================] - 2s 63ms/step - loss: 0.4456 - accuracy: 0.8385 - val_loss: 0.7742 - val_accuracy: 0.7292\n",
      "Epoch 7/100\n",
      "36/36 [==============================] - 2s 66ms/step - loss: 0.4405 - accuracy: 0.8377 - val_loss: 0.7740 - val_accuracy: 0.7361\n",
      "Epoch 8/100\n",
      "36/36 [==============================] - 2s 63ms/step - loss: 0.4531 - accuracy: 0.8325 - val_loss: 0.8330 - val_accuracy: 0.7153\n",
      "Epoch 9/100\n",
      "36/36 [==============================] - 2s 64ms/step - loss: 0.4919 - accuracy: 0.8377 - val_loss: 0.9125 - val_accuracy: 0.7049\n",
      "Epoch 10/100\n",
      "36/36 [==============================] - 2s 63ms/step - loss: 0.4704 - accuracy: 0.8359 - val_loss: 0.7911 - val_accuracy: 0.7292\n",
      "Epoch 11/100\n",
      "36/36 [==============================] - 2s 65ms/step - loss: 0.4734 - accuracy: 0.8351 - val_loss: 0.8598 - val_accuracy: 0.7257\n",
      "Epoch 12/100\n",
      "36/36 [==============================] - 2s 66ms/step - loss: 0.4384 - accuracy: 0.8377 - val_loss: 0.8618 - val_accuracy: 0.7257\n",
      "Epoch 13/100\n",
      "36/36 [==============================] - 2s 64ms/step - loss: 0.4912 - accuracy: 0.8342 - val_loss: 0.9349 - val_accuracy: 0.7222\n",
      "Epoch 14/100\n",
      "36/36 [==============================] - 2s 63ms/step - loss: 0.5459 - accuracy: 0.8351 - val_loss: 1.0410 - val_accuracy: 0.7188\n",
      "Epoch 15/100\n",
      "36/36 [==============================] - 2s 64ms/step - loss: 0.4372 - accuracy: 0.8403 - val_loss: 0.9077 - val_accuracy: 0.7188\n",
      "Epoch 16/100\n",
      "36/36 [==============================] - 2s 69ms/step - loss: 0.4405 - accuracy: 0.8394 - val_loss: 0.9173 - val_accuracy: 0.7118\n",
      "Epoch 17/100\n",
      "36/36 [==============================] - 3s 72ms/step - loss: 0.4363 - accuracy: 0.8403 - val_loss: 0.9513 - val_accuracy: 0.7014\n",
      "Epoch 18/100\n",
      "36/36 [==============================] - 2s 65ms/step - loss: 0.4358 - accuracy: 0.8403 - val_loss: 0.8797 - val_accuracy: 0.7222\n",
      "Epoch 19/100\n",
      "36/36 [==============================] - 2s 69ms/step - loss: 0.4417 - accuracy: 0.8403 - val_loss: 0.8704 - val_accuracy: 0.7153\n",
      "Epoch 20/100\n",
      "36/36 [==============================] - 2s 65ms/step - loss: 0.4375 - accuracy: 0.8385 - val_loss: 0.8700 - val_accuracy: 0.7153\n",
      "Epoch 21/100\n",
      "36/36 [==============================] - 2s 66ms/step - loss: 0.4351 - accuracy: 0.8403 - val_loss: 0.8673 - val_accuracy: 0.7118\n",
      "Epoch 22/100\n",
      "36/36 [==============================] - 2s 65ms/step - loss: 0.4345 - accuracy: 0.8403 - val_loss: 0.8680 - val_accuracy: 0.7257\n",
      "Epoch 23/100\n",
      "36/36 [==============================] - 2s 65ms/step - loss: 0.4438 - accuracy: 0.8403 - val_loss: 0.8782 - val_accuracy: 0.7188\n",
      "Epoch 24/100\n",
      "36/36 [==============================] - 2s 68ms/step - loss: 0.4358 - accuracy: 0.8403 - val_loss: 0.8865 - val_accuracy: 0.7188\n",
      "Epoch 25/100\n",
      "36/36 [==============================] - 2s 65ms/step - loss: 0.4348 - accuracy: 0.8403 - val_loss: 0.8887 - val_accuracy: 0.7257\n",
      "Epoch 26/100\n",
      "36/36 [==============================] - 2s 67ms/step - loss: 0.4317 - accuracy: 0.8403 - val_loss: 0.8941 - val_accuracy: 0.7222\n",
      "Epoch 27/100\n",
      "36/36 [==============================] - 3s 70ms/step - loss: 0.4294 - accuracy: 0.8403 - val_loss: 0.9001 - val_accuracy: 0.7188\n",
      "Epoch 28/100\n",
      "36/36 [==============================] - 2s 68ms/step - loss: 0.4293 - accuracy: 0.8403 - val_loss: 0.9010 - val_accuracy: 0.7188\n",
      "Epoch 29/100\n",
      "36/36 [==============================] - 2s 66ms/step - loss: 0.4303 - accuracy: 0.8403 - val_loss: 0.9359 - val_accuracy: 0.7118\n",
      "Epoch 30/100\n",
      "36/36 [==============================] - 2s 67ms/step - loss: 0.4261 - accuracy: 0.8403 - val_loss: 0.9479 - val_accuracy: 0.7118\n",
      "Epoch 31/100\n",
      "36/36 [==============================] - 2s 66ms/step - loss: 0.4292 - accuracy: 0.8403 - val_loss: 0.9550 - val_accuracy: 0.7118\n",
      "Epoch 32/100\n",
      "36/36 [==============================] - 2s 69ms/step - loss: 0.4318 - accuracy: 0.8394 - val_loss: 0.9578 - val_accuracy: 0.7153\n",
      "Epoch 33/100\n",
      "36/36 [==============================] - 2s 67ms/step - loss: 0.4253 - accuracy: 0.8403 - val_loss: 0.9611 - val_accuracy: 0.7153\n",
      "Epoch 34/100\n",
      "36/36 [==============================] - 2s 68ms/step - loss: 0.4302 - accuracy: 0.8403 - val_loss: 0.9619 - val_accuracy: 0.7153\n",
      "Epoch 35/100\n",
      "36/36 [==============================] - 2s 69ms/step - loss: 0.4283 - accuracy: 0.8394 - val_loss: 0.9784 - val_accuracy: 0.7153\n",
      "Epoch 36/100\n",
      "36/36 [==============================] - 2s 68ms/step - loss: 0.4309 - accuracy: 0.8403 - val_loss: 0.9878 - val_accuracy: 0.7153\n",
      "Epoch 37/100\n",
      "36/36 [==============================] - 2s 67ms/step - loss: 0.4276 - accuracy: 0.8403 - val_loss: 0.9866 - val_accuracy: 0.7118\n",
      "Epoch 38/100\n",
      "36/36 [==============================] - 2s 69ms/step - loss: 0.4268 - accuracy: 0.8403 - val_loss: 0.9908 - val_accuracy: 0.7118\n",
      "Epoch 39/100\n",
      "36/36 [==============================] - 3s 71ms/step - loss: 0.4261 - accuracy: 0.8403 - val_loss: 1.0008 - val_accuracy: 0.7118\n",
      "Epoch 40/100\n",
      "36/36 [==============================] - 2s 67ms/step - loss: 0.4276 - accuracy: 0.8403 - val_loss: 0.9852 - val_accuracy: 0.7188\n",
      "Epoch 41/100\n",
      "36/36 [==============================] - 3s 73ms/step - loss: 0.4263 - accuracy: 0.8403 - val_loss: 0.9879 - val_accuracy: 0.7188\n",
      "Epoch 42/100\n",
      "36/36 [==============================] - 2s 69ms/step - loss: 0.4269 - accuracy: 0.8403 - val_loss: 0.9916 - val_accuracy: 0.7188\n",
      "Epoch 43/100\n",
      "36/36 [==============================] - 2s 65ms/step - loss: 0.4275 - accuracy: 0.8403 - val_loss: 0.9930 - val_accuracy: 0.7188\n",
      "Epoch 44/100\n",
      "36/36 [==============================] - 2s 63ms/step - loss: 0.4260 - accuracy: 0.8403 - val_loss: 0.9972 - val_accuracy: 0.7153\n",
      "Epoch 45/100\n",
      "36/36 [==============================] - 2s 66ms/step - loss: 0.4374 - accuracy: 0.8394 - val_loss: 1.5629 - val_accuracy: 0.6910\n",
      "Epoch 46/100\n",
      "36/36 [==============================] - 2s 66ms/step - loss: 0.4391 - accuracy: 0.8394 - val_loss: 1.0764 - val_accuracy: 0.7118\n",
      "Epoch 47/100\n",
      "36/36 [==============================] - 2s 63ms/step - loss: 0.4280 - accuracy: 0.8403 - val_loss: 1.0748 - val_accuracy: 0.7083\n",
      "Epoch 48/100\n",
      "36/36 [==============================] - 2s 68ms/step - loss: 0.4308 - accuracy: 0.8394 - val_loss: 1.0334 - val_accuracy: 0.7014\n",
      "Epoch 49/100\n",
      "36/36 [==============================] - 2s 65ms/step - loss: 0.4296 - accuracy: 0.8403 - val_loss: 1.0520 - val_accuracy: 0.7049\n",
      "Epoch 50/100\n",
      "36/36 [==============================] - 2s 66ms/step - loss: 0.4288 - accuracy: 0.8403 - val_loss: 1.0430 - val_accuracy: 0.7083\n",
      "Epoch 51/100\n",
      "36/36 [==============================] - 2s 67ms/step - loss: 0.4306 - accuracy: 0.8394 - val_loss: 1.1933 - val_accuracy: 0.7014\n",
      "Epoch 52/100\n",
      "36/36 [==============================] - 2s 66ms/step - loss: 0.4284 - accuracy: 0.8403 - val_loss: 1.2349 - val_accuracy: 0.6979\n",
      "Epoch 53/100\n",
      "36/36 [==============================] - 2s 68ms/step - loss: 0.4292 - accuracy: 0.8394 - val_loss: 1.1637 - val_accuracy: 0.7049\n",
      "Epoch 54/100\n",
      "36/36 [==============================] - 2s 67ms/step - loss: 0.4298 - accuracy: 0.8385 - val_loss: 1.1519 - val_accuracy: 0.7118\n",
      "Epoch 55/100\n",
      "36/36 [==============================] - 3s 70ms/step - loss: 0.4266 - accuracy: 0.8403 - val_loss: 1.1574 - val_accuracy: 0.7188\n",
      "Epoch 56/100\n",
      "36/36 [==============================] - 2s 70ms/step - loss: 0.4276 - accuracy: 0.8403 - val_loss: 1.1587 - val_accuracy: 0.7188\n",
      "Epoch 57/100\n",
      "36/36 [==============================] - 2s 69ms/step - loss: 0.4266 - accuracy: 0.8403 - val_loss: 1.1546 - val_accuracy: 0.7153\n",
      "Epoch 58/100\n",
      "36/36 [==============================] - 3s 73ms/step - loss: 0.4377 - accuracy: 0.8394 - val_loss: 0.9833 - val_accuracy: 0.7049\n",
      "Epoch 59/100\n",
      "36/36 [==============================] - 3s 71ms/step - loss: 0.4439 - accuracy: 0.8385 - val_loss: 1.0350 - val_accuracy: 0.6979\n",
      "Epoch 60/100\n",
      "36/36 [==============================] - 3s 72ms/step - loss: 0.4523 - accuracy: 0.8394 - val_loss: 1.2008 - val_accuracy: 0.7014\n",
      "Epoch 61/100\n",
      "36/36 [==============================] - 3s 72ms/step - loss: 0.4280 - accuracy: 0.8394 - val_loss: 0.9547 - val_accuracy: 0.7014\n",
      "Epoch 62/100\n",
      "36/36 [==============================] - 3s 73ms/step - loss: 0.4327 - accuracy: 0.8385 - val_loss: 0.9720 - val_accuracy: 0.7188\n",
      "Epoch 63/100\n",
      "36/36 [==============================] - 3s 73ms/step - loss: 0.4293 - accuracy: 0.8403 - val_loss: 0.9652 - val_accuracy: 0.7188\n",
      "Epoch 64/100\n",
      "36/36 [==============================] - 3s 74ms/step - loss: 0.4275 - accuracy: 0.8403 - val_loss: 0.9649 - val_accuracy: 0.7188\n",
      "Epoch 65/100\n",
      "36/36 [==============================] - 3s 75ms/step - loss: 0.4255 - accuracy: 0.8403 - val_loss: 0.9648 - val_accuracy: 0.7188\n",
      "Epoch 66/100\n",
      "36/36 [==============================] - 3s 75ms/step - loss: 0.4281 - accuracy: 0.8403 - val_loss: 0.9668 - val_accuracy: 0.7153\n",
      "Epoch 67/100\n",
      "36/36 [==============================] - 3s 77ms/step - loss: 0.4316 - accuracy: 0.8377 - val_loss: 0.9617 - val_accuracy: 0.7188\n",
      "Epoch 68/100\n",
      "36/36 [==============================] - 3s 76ms/step - loss: 0.4265 - accuracy: 0.8403 - val_loss: 0.9637 - val_accuracy: 0.7188\n",
      "Epoch 69/100\n",
      "36/36 [==============================] - 3s 80ms/step - loss: 0.4288 - accuracy: 0.8403 - val_loss: 0.9579 - val_accuracy: 0.7188\n",
      "Epoch 70/100\n",
      "36/36 [==============================] - 3s 78ms/step - loss: 0.4249 - accuracy: 0.8403 - val_loss: 0.9570 - val_accuracy: 0.7188\n",
      "Epoch 71/100\n",
      "36/36 [==============================] - 3s 78ms/step - loss: 0.4239 - accuracy: 0.8403 - val_loss: 0.9564 - val_accuracy: 0.7188\n",
      "Epoch 72/100\n",
      "36/36 [==============================] - 3s 82ms/step - loss: 0.4261 - accuracy: 0.8394 - val_loss: 0.9649 - val_accuracy: 0.7188\n",
      "Epoch 73/100\n",
      "36/36 [==============================] - 3s 94ms/step - loss: 0.4266 - accuracy: 0.8403 - val_loss: 0.9660 - val_accuracy: 0.7188\n",
      "Epoch 74/100\n",
      "36/36 [==============================] - 3s 89ms/step - loss: 0.4247 - accuracy: 0.8403 - val_loss: 0.9703 - val_accuracy: 0.7188\n",
      "Epoch 75/100\n",
      "36/36 [==============================] - 3s 92ms/step - loss: 0.4245 - accuracy: 0.8403 - val_loss: 1.0189 - val_accuracy: 0.7118\n",
      "Epoch 76/100\n",
      "36/36 [==============================] - 3s 96ms/step - loss: 0.4269 - accuracy: 0.8403 - val_loss: 1.0141 - val_accuracy: 0.7083\n",
      "Epoch 77/100\n",
      "36/36 [==============================] - 4s 98ms/step - loss: 0.4316 - accuracy: 0.8403 - val_loss: 1.0028 - val_accuracy: 0.7153\n",
      "Epoch 78/100\n",
      "36/36 [==============================] - 3s 92ms/step - loss: 0.4286 - accuracy: 0.8403 - val_loss: 0.9943 - val_accuracy: 0.7118\n",
      "Epoch 79/100\n",
      "36/36 [==============================] - 3s 94ms/step - loss: 0.4285 - accuracy: 0.8403 - val_loss: 0.9882 - val_accuracy: 0.7118\n",
      "Epoch 80/100\n",
      "36/36 [==============================] - 3s 96ms/step - loss: 0.4254 - accuracy: 0.8403 - val_loss: 0.9883 - val_accuracy: 0.7118\n",
      "Epoch 81/100\n",
      "36/36 [==============================] - 3s 95ms/step - loss: 0.4273 - accuracy: 0.8403 - val_loss: 0.9884 - val_accuracy: 0.7118\n",
      "Epoch 82/100\n",
      "36/36 [==============================] - 3s 91ms/step - loss: 0.4286 - accuracy: 0.8403 - val_loss: 0.9873 - val_accuracy: 0.7118\n",
      "Epoch 83/100\n",
      "36/36 [==============================] - 4s 106ms/step - loss: 0.4252 - accuracy: 0.8403 - val_loss: 0.9904 - val_accuracy: 0.7118\n",
      "Epoch 84/100\n",
      "36/36 [==============================] - 3s 93ms/step - loss: 0.4267 - accuracy: 0.8403 - val_loss: 0.9995 - val_accuracy: 0.7118\n",
      "Epoch 85/100\n",
      "36/36 [==============================] - 3s 94ms/step - loss: 0.4259 - accuracy: 0.8403 - val_loss: 1.0021 - val_accuracy: 0.7118\n",
      "Epoch 86/100\n",
      "36/36 [==============================] - 3s 93ms/step - loss: 0.4258 - accuracy: 0.8403 - val_loss: 1.0042 - val_accuracy: 0.7118\n",
      "Epoch 87/100\n",
      "36/36 [==============================] - 3s 92ms/step - loss: 0.4271 - accuracy: 0.8403 - val_loss: 1.0038 - val_accuracy: 0.7118\n",
      "Epoch 88/100\n",
      "36/36 [==============================] - 3s 88ms/step - loss: 0.4264 - accuracy: 0.8403 - val_loss: 1.0061 - val_accuracy: 0.7118\n",
      "Epoch 89/100\n",
      "36/36 [==============================] - 3s 86ms/step - loss: 0.4234 - accuracy: 0.8403 - val_loss: 1.0056 - val_accuracy: 0.7118\n",
      "Epoch 90/100\n",
      "36/36 [==============================] - 3s 87ms/step - loss: 0.4302 - accuracy: 0.8403 - val_loss: 1.0021 - val_accuracy: 0.7118\n",
      "Epoch 91/100\n",
      "36/36 [==============================] - 3s 87ms/step - loss: 0.4280 - accuracy: 0.8403 - val_loss: 1.0011 - val_accuracy: 0.7118\n",
      "Epoch 92/100\n",
      "36/36 [==============================] - 3s 90ms/step - loss: 0.4273 - accuracy: 0.8403 - val_loss: 1.0013 - val_accuracy: 0.7118\n",
      "Epoch 93/100\n",
      "36/36 [==============================] - 3s 88ms/step - loss: 0.4273 - accuracy: 0.8403 - val_loss: 0.9995 - val_accuracy: 0.7118\n",
      "Epoch 94/100\n",
      "36/36 [==============================] - 3s 87ms/step - loss: 0.4251 - accuracy: 0.8403 - val_loss: 0.9995 - val_accuracy: 0.7118\n",
      "Epoch 95/100\n",
      "36/36 [==============================] - 4s 100ms/step - loss: 0.4259 - accuracy: 0.8403 - val_loss: 0.9983 - val_accuracy: 0.7118\n",
      "Epoch 96/100\n",
      "36/36 [==============================] - 3s 85ms/step - loss: 0.4261 - accuracy: 0.8403 - val_loss: 0.9977 - val_accuracy: 0.7118\n",
      "Epoch 97/100\n",
      "36/36 [==============================] - 3s 85ms/step - loss: 0.4284 - accuracy: 0.8403 - val_loss: 0.9987 - val_accuracy: 0.7153\n",
      "Epoch 98/100\n",
      "36/36 [==============================] - 3s 85ms/step - loss: 0.4296 - accuracy: 0.8394 - val_loss: 1.1847 - val_accuracy: 0.7049\n",
      "Epoch 99/100\n",
      "36/36 [==============================] - 3s 96ms/step - loss: 0.4355 - accuracy: 0.8394 - val_loss: 1.0941 - val_accuracy: 0.6979\n",
      "Epoch 100/100\n",
      "36/36 [==============================] - 3s 87ms/step - loss: 0.4256 - accuracy: 0.8403 - val_loss: 1.0912 - val_accuracy: 0.6979\n"
     ]
    }
   ],
   "source": [
    "model.compile(optimizer='adam',loss='sparse_categorical_crossentropy',metrics='accuracy')\n",
    "checkpoint_cb = keras.callbacks.ModelCheckpoint(\"./Data/best_shoes_cnn.h5\")\n",
    "early_stopping_cb = keras.callbacks.EarlyStopping(patience=2,restore_best_weights=True)\n",
    "history = model.fit(train_scaled, train_target, epochs=100, verbose=1, validation_data=[val_scaled,val_target],callbacks=[checkpoint_cb])"
   ]
  },
  {
   "cell_type": "code",
   "execution_count": 356,
   "metadata": {},
   "outputs": [
    {
     "data": {
      "image/png": "[encoded data removed]",
      "text/plain": [
       "<Figure size 640x480 with 1 Axes>"
      ]
     },
     "metadata": {},
     "output_type": "display_data"
    }
   ],
   "source": [
    "plt.plot(history.history['loss'])\n",
    "plt.plot(history.history['val_loss'])\n",
    "plt.show()"
   ]
  },
  {
   "cell_type": "code",
   "execution_count": 357,
   "metadata": {},
   "outputs": [
    {
     "data": {
      "image/png": "[encoded data removed]",
      "text/plain": [
       "<Figure size 640x480 with 1 Axes>"
      ]
     },
     "metadata": {},
     "output_type": "display_data"
    }
   ],
   "source": [
    "plt.plot(history.history['accuracy'])\n",
    "plt.plot(history.history['val_accuracy'])\n",
    "plt.show()"
   ]
  },
  {
   "cell_type": "code",
   "execution_count": 358,
   "metadata": {},
   "outputs": [
    {
     "name": "stdout",
     "output_type": "stream",
     "text": [
      "9/9 [==============================] - 1s 74ms/step - loss: 1.2518 - accuracy: 0.7014\n"
     ]
    },
    {
     "data": {
      "text/plain": [
       "<keras.callbacks.History at 0x29411f310>"
      ]
     },
     "execution_count": 358,
     "metadata": {},
     "output_type": "execute_result"
    }
   ],
   "source": [
    "model.fit(val_scaled,val_target)"
   ]
  },
  {
   "cell_type": "code",
   "execution_count": 359,
   "metadata": {},
   "outputs": [
    {
     "name": "stdout",
     "output_type": "stream",
     "text": [
      "36/36 [==============================] - 1s 23ms/step - loss: 0.4248 - accuracy: 0.8403\n"
     ]
    },
    {
     "data": {
      "text/plain": [
       "[0.4247884154319763, 0.8402777910232544]"
      ]
     },
     "execution_count": 359,
     "metadata": {},
     "output_type": "execute_result"
    }
   ],
   "source": [
    "best_model = keras.models.load_model(\"./Data/best_shoes_cnn.h5\")\n",
    "best_model.evaluate(train_scaled,train_target)"
   ]
  },
  {
   "cell_type": "code",
   "execution_count": null,
   "metadata": {},
   "outputs": [],
   "source": []
  }
 ],
 "metadata": {
  "kernelspec": {
   "display_name": "tensorflow",
   "language": "python",
   "name": "python3"
  },
  "language_info": {
   "codemirror_mode": {
    "name": "ipython",
    "version": 3
   },
   "file_extension": ".py",
   "mimetype": "text/x-python",
   "name": "python",
   "nbconvert_exporter": "python",
   "pygments_lexer": "ipython3",
   "version": "3.9.13"
  },
  "orig_nbformat": 4,
  "vscode": {
   "interpreter": {
    "hash": "4d8b91bcbdb701e289b6a1d8c1277d30f7379cfd7af8489c64a2b22bf47c961d"
   }
  }
 },
 "nbformat": 4,
 "nbformat_minor": 2
}
