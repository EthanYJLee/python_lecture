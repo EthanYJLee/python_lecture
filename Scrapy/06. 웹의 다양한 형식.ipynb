{
 "cells": [
  {
   "attachments": {},
   "cell_type": "markdown",
   "metadata": {},
   "source": [
    "### XML분석\n",
    "- 발전된 HTML (Extensible Markup Language)\n",
    "- HTML과 달리 Tag를 자유롭게 지정 가능하다\n",
    "- BS퍼포먼스 > Selenium\n",
    "- XML은 BS로 충분함\n",
    "\n"
   ]
  },
  {
   "attachments": {},
   "cell_type": "markdown",
   "metadata": {},
   "source": [
    "### 기상청 전국 날씨 분류하기"
   ]
  },
  {
   "cell_type": "code",
   "execution_count": 40,
   "metadata": {},
   "outputs": [
    {
     "name": "stdout",
     "output_type": "stream",
     "text": [
      "{'apple': [1, 2], 'banana': [1, 2]}\n"
     ]
    }
   ],
   "source": [
    "# 딕셔너리 활용 기본\n",
    "test = {}\n",
    "test['apple'] = []\n",
    "# 앞에 넣는 게 (apple)이 key값이 됨\n",
    "test['apple'].append(1)\n",
    "test['apple'].append(2)\n",
    "\n",
    "test['banana'] = []\n",
    "test['banana'].append(1)\n",
    "test['banana'].append(2)\n",
    "print(test)"
   ]
  },
  {
   "cell_type": "code",
   "execution_count": 41,
   "metadata": {},
   "outputs": [],
   "source": [
    "from bs4 import BeautifulSoup\n",
    "import urllib.request as req"
   ]
  },
  {
   "cell_type": "code",
   "execution_count": 82,
   "metadata": {},
   "outputs": [
    {
     "name": "stdout",
     "output_type": "stream",
     "text": [
      "{'weather': ['○ (강수) 23일(월) 경남권과 제주도에 비 또는 눈, 24일(화)~25일(수) 전라권과 제주도에 눈이 오는 곳이 있겠습니다. <br />○ (기온) 23일(월) 아침 기온은 -4~2도, 낮 기온은 -2~9도로 평년(최저기온 -10~-1도, 최고기온 1~7도)보다 높겠습니다.  <br />          23일(월) 오후부터 찬 대륙 고기압이 확장하면서 24일(화)~25일(수) 아침 기온은 -19~-9도, 낮 기온은 -10~1도로 평년(최저기온 -10~-1도, 최고기온 2~8도)보다 크게 낮아 <br />          매우 춥겠습니다. 26일(목)~30일(월)도 아침 기온 -14~-1도, 낮 기온 -4~7도로 평년(최저기온 -10~0도, 최고기온 2~8도)보다 낮아 춥겠습니다. <br />○ (해상) 23일(월) 오후~25일(수) 전 해상에 물결이 1.0~5.0m로, 26일(목) 동해상은 2.0~4.0m로 매우 높게 일겠습니다.<br /><br />* 이번 예보기간 북쪽에서 남하하는 기압골과 찬 대륙고기압의 발달 정도 및 이동 속도에 따라 예보가 변경될 가능성이 있으니, 앞으로 발표되는 기상정보를 참고하기 바랍니다.']}\n"
     ]
    }
   ],
   "source": [
    "# 기상청 RSS 사이트 주소\n",
    "url = 'https://www.kma.go.kr/weather/forecast/mid-term-rss3.jsp?stnId=108'\n",
    "# stnId: station Id\n",
    "\n",
    "res = req.urlopen(url)\n",
    "# print(res)\n",
    "soup = BeautifulSoup(res,\"html.parser\")\n",
    "# print(soup)\n",
    "# 전국 모든 지역 리스트\n",
    "info = {}\n",
    "\n",
    "for location in soup.find_all(\"location\"):\n",
    "    name = soup.find('city').string\n",
    "    weather = soup.find('wf').string\n",
    "    if not(weather in info):\n",
    "        info['weather'] = []\n",
    "    info['weather'].append(weather)\n",
    "print(info)\n",
    "\n",
    "\n"
   ]
  },
  {
   "cell_type": "code",
   "execution_count": null,
   "metadata": {},
   "outputs": [],
   "source": [
    "for weather in info.keys:\n",
    "    print(\"+\",weather)\n",
    "    for name in info[weather]:\n",
    "        print(\"| -\",name)"
   ]
  },
  {
   "attachments": {},
   "cell_type": "markdown",
   "metadata": {},
   "source": [
    "---\n",
    "### JSON"
   ]
  },
  {
   "cell_type": "code",
   "execution_count": 45,
   "metadata": {},
   "outputs": [],
   "source": [
    "import json"
   ]
  },
  {
   "cell_type": "code",
   "execution_count": 79,
   "metadata": {},
   "outputs": [
    {
     "name": "stdout",
     "output_type": "stream",
     "text": [
      "S001 박소명 컴퓨터공학과 \t 123-4567\n",
      "S002 최민국 컴퓨터공학과 \t 234-5678\n",
      "S003 이승호 국문학과 \t 345-6789\n",
      "S004 정수봉 국문학과 \t 456-7890\n",
      "S005 김상진 사학과 \t 567-8901\n",
      "S006 황정숙 사학과 \t 678-9012\n"
     ]
    }
   ],
   "source": [
    "url = 'https://zeushahn.github.io/Test/student.json'\n",
    "res = req.urlopen(url)\n",
    "soup = BeautifulSoup(res,\"html.parser\")\n",
    "# soup을 string으로 변형해서 json형태로 변형하기\n",
    "items = json.loads(str(soup))\n",
    "# print(items)\n",
    "s_info = {}\n",
    "\n",
    "for i in items['results']:\n",
    "    print(i['code'],i['name'],i['dept'],'\\t',i['phone'],)\n"
   ]
  },
  {
   "cell_type": "code",
   "execution_count": null,
   "metadata": {},
   "outputs": [],
   "source": []
  }
 ],
 "metadata": {
  "kernelspec": {
   "display_name": "tensorflow",
   "language": "python",
   "name": "python3"
  },
  "language_info": {
   "codemirror_mode": {
    "name": "ipython",
    "version": 3
   },
   "file_extension": ".py",
   "mimetype": "text/x-python",
   "name": "python",
   "nbconvert_exporter": "python",
   "pygments_lexer": "ipython3",
   "version": "3.9.13"
  },
  "orig_nbformat": 4,
  "vscode": {
   "interpreter": {
    "hash": "4d8b91bcbdb701e289b6a1d8c1277d30f7379cfd7af8489c64a2b22bf47c961d"
   }
  }
 },
 "nbformat": 4,
 "nbformat_minor": 2
}
