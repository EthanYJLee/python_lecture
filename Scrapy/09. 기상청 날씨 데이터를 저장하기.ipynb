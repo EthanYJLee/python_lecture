{
 "cells": [
  {
   "cell_type": "code",
   "execution_count": null,
   "metadata": {},
   "outputs": [],
   "source": [
    "import requests\n",
    "import urllib.request as req\n",
    "from bs4 import BeautifulSoup"
   ]
  },
  {
   "cell_type": "code",
   "execution_count": null,
   "metadata": {},
   "outputs": [],
   "source": [
    "url = 'https://www.kma.go.kr/weather/forecast/mid-term-rss3.jsp?stnId=108'\n",
    "\n",
    "res = req.urlopen(url)\n",
    "soup = BeautifulSoup(res,\"html.parser\")\n",
    "info = {}\n",
    "\n",
    "for i in soup.find_all(\"location\"):\n",
    "    print(i.find(\"city\"))"
   ]
  },
  {
   "cell_type": "code",
   "execution_count": null,
   "metadata": {},
   "outputs": [],
   "source": [
    "# 서울로 테스트\n",
    "seoul = soup.find(\"location\")\n",
    "# tmef: 날짜, wf: 날씨, tmn: 최저기온, tmx: 최고기온\n",
    "for i in seoul.find_all(\"data\"):\n",
    "    print(i.find(\"tmef\").text)\n",
    "    print(i.find(\"wf\").text)\n",
    "    print(i.find(\"tmn\").text)\n",
    "    print(i.find(\"tmx\").text)\n",
    "    "
   ]
  },
  {
   "cell_type": "code",
   "execution_count": null,
   "metadata": {},
   "outputs": [],
   "source": [
    "# 도시별 날씨 데이터 구축\n",
    "weather = {}\n",
    "for i in soup.find_all(\"location\"):\n",
    "    weather[i.find('city').text] = []\n",
    "    for j in i.find_all('data'):\n",
    "        temp = []\n",
    "        temp.append(j.find('tmef').text)\n",
    "        temp.append(j.find('wf').text)\n",
    "        temp.append(j.find('tmn').text)\n",
    "        temp.append(j.find('tmx').text)\n",
    "        weather[i.find('city').text].append(temp)"
   ]
  },
  {
   "cell_type": "code",
   "execution_count": null,
   "metadata": {},
   "outputs": [],
   "source": [
    "# 서울의 일주일치 날씨 data\n",
    "print(weather['서울'])"
   ]
  },
  {
   "cell_type": "code",
   "execution_count": null,
   "metadata": {},
   "outputs": [],
   "source": [
    "# 제주의 일주일치 날씨 data\n",
    "print(weather['제주'])"
   ]
  },
  {
   "cell_type": "code",
   "execution_count": null,
   "metadata": {},
   "outputs": [],
   "source": [
    "# csv file로 저장하기\n",
    "# 현재 dictionary로 되어있으나 csv로 저장하기 위해 list로 바꿔야 한다.\n",
    "for i in weather:\n",
    "    for j in weather[i]:\n",
    "        print(i, j[0],j[1],j[2],j[3])\n",
    "    print(\"-\"*30)\n"
   ]
  },
  {
   "cell_type": "code",
   "execution_count": null,
   "metadata": {},
   "outputs": [],
   "source": [
    "# List로 생성하기\n",
    "tempList = []\n",
    "for i in weather:\n",
    "    for j in weather[i]:\n",
    "        tempList.append((i, j[0],j[1],j[2],j[3]))\n",
    "tempList\n"
   ]
  },
  {
   "cell_type": "code",
   "execution_count": null,
   "metadata": {},
   "outputs": [],
   "source": [
    "import pandas as pd"
   ]
  },
  {
   "cell_type": "code",
   "execution_count": null,
   "metadata": {},
   "outputs": [],
   "source": [
    "weatherDataFrame = pd.DataFrame(tempList,columns=['지역','날짜','날씨','최저온도','최고온도'])\n",
    "weatherDataFrame"
   ]
  },
  {
   "cell_type": "code",
   "execution_count": null,
   "metadata": {},
   "outputs": [],
   "source": [
    "weatherDataFrame.to_csv(\"../Data/weatherList.csv\",index=False)"
   ]
  },
  {
   "cell_type": "code",
   "execution_count": null,
   "metadata": {},
   "outputs": [],
   "source": [
    "forecast = pd.read_csv(\"../Data/weatherList.csv\")\n",
    "forecast"
   ]
  },
  {
   "cell_type": "code",
   "execution_count": null,
   "metadata": {},
   "outputs": [],
   "source": [
    "# 파이썬 분석할 때 쓰는 코드\n",
    "forecast.describe()\n",
    "# 문자열은 나오지 않는다.\n",
    "# count, mean, std, min, max, 4분위"
   ]
  },
  {
   "attachments": {},
   "cell_type": "markdown",
   "metadata": {},
   "source": [
    "---\n",
    "# Sqlite로 저장"
   ]
  },
  {
   "cell_type": "code",
   "execution_count": null,
   "metadata": {},
   "outputs": [],
   "source": [
    "import sqlite3"
   ]
  },
  {
   "cell_type": "code",
   "execution_count": null,
   "metadata": {},
   "outputs": [],
   "source": [
    "# 저장경로 지정\n",
    "filePath = \"../Data/forecast.sqlite\"\n",
    "conn = sqlite3.connect(filePath)\n",
    "\n",
    "# 테이블을 생성하고 데이터 넣기\n",
    "curs = conn.cursor()\n",
    "# executescript는 여러개 실행할 때\n",
    "# 하나라면 execute\n",
    "curs.executescript(\n",
    "    \"\"\"\n",
    "    /* items 테이블이 이미 있다면 제거하기 */\n",
    "    DROP TABLE IF EXISTS forecast;\n",
    "\n",
    "    /* 테이블 생성하기 */\n",
    "    CREATE TABLE forecast(\n",
    "        seq INTEGER PRIMARY KEY AUTOINCREMENT,\n",
    "        city TEXT,\n",
    "        datetime TEXT,\n",
    "        weather TEXT,\n",
    "        min DOUBLE,\n",
    "        max DOUBLE\n",
    "    );\n",
    "    \"\"\"\n",
    ")\n",
    "\n",
    "# 위의 작업을 데이터베이스에 반영하기\n",
    "conn.commit()\n"
   ]
  },
  {
   "cell_type": "code",
   "execution_count": null,
   "metadata": {},
   "outputs": [],
   "source": [
    "# 데이터 넣기\n",
    "forecast = pd.read_csv(\"../Data/weatherList.csv\")\n",
    "forecast_dict = forecast.to_dict()\n",
    "city_list = list(forecast_dict['지역'].values())\n",
    "date_list = list(forecast_dict['날짜'].values())\n",
    "weather_list = list(forecast_dict['날씨'].values())\n",
    "min_list = list(forecast_dict['최저온도'].values())\n",
    "max_list = list(forecast_dict['최고온도'].values())\n",
    "\n",
    "# print(range(len(forecast)))\n",
    "for i in range(len(forecast)):\n",
    "    curs.execute(\"INSERT INTO forecast(city, datetime, weather, min, max) VALUES (?,?,?,?,?)\",(city_list[i],date_list[i],weather_list[i],min_list[i],max_list[i]))    \n",
    "    conn.commit()"
   ]
  },
  {
   "cell_type": "code",
   "execution_count": null,
   "metadata": {},
   "outputs": [],
   "source": [
    "# 데이터 들어갔는지 확인하기\n",
    "curs.execute(\"SELECT * FROM forecast\")\n",
    "forecast_list = curs.fetchall()\n",
    "# print(forecast_list)\n",
    "for i in forecast_list:\n",
    "    print(i[0],'\\t',i[1],'\\t',i[2],i[3],'    ',i[4],i[5])"
   ]
  },
  {
   "attachments": {},
   "cell_type": "markdown",
   "metadata": {},
   "source": [
    "---\n",
    "# MySQL로 저장"
   ]
  },
  {
   "cell_type": "code",
   "execution_count": 142,
   "metadata": {},
   "outputs": [],
   "source": [
    "import pymysql"
   ]
  },
  {
   "cell_type": "code",
   "execution_count": 143,
   "metadata": {},
   "outputs": [],
   "source": [
    "conn = pymysql.connect(\n",
    "    host = \"127.0.0.1\",\n",
    "    user = \"root\",\n",
    "    password = \"qwer1234\",\n",
    "    db = \"python\",\n",
    "    charset = \"utf8\"\n",
    ")"
   ]
  },
  {
   "cell_type": "code",
   "execution_count": 145,
   "metadata": {},
   "outputs": [],
   "source": [
    "# 쿼리를 실행할 커서 생성\n",
    "curs = conn.cursor()"
   ]
  },
  {
   "cell_type": "code",
   "execution_count": 146,
   "metadata": {},
   "outputs": [
    {
     "name": "stdout",
     "output_type": "stream",
     "text": [
      "[(1, '0    서울\\nName: 지역, dtype: object', '0    2023-01-23 00:00\\nName: 날짜, dtype: object', '0    구름많음\\nName: 날씨, dtype: object', -3.0, -1.0), (2, '1    서울\\nName: 지역, dtype: object', '1    2023-01-23 12:00\\nName: 날짜, dtype: object', '1    맑음\\nName: 날씨, dtype: object', -3.0, -1.0), (3, '2    서울\\nName: 지역, dtype: object', '2    2023-01-24 00:00\\nName: 날짜, dtype: object', '2    맑음\\nName: 날씨, dtype: object', -17.0, -10.0), (4, '3    서울\\nName: 지역, dtype: object', '3    2023-01-24 12:00\\nName: 날짜, dtype: object', '3    맑음\\nName: 날씨, dtype: object', -17.0, -10.0), (5, '4    서울\\nName: 지역, dtype: object', '4    2023-01-25 00:00\\nName: 날짜, dtype: object', '4    맑음\\nName: 날씨, dtype: object', -16.0, -6.0), (6, '5    서울\\nName: 지역, dtype: object', '5    2023-01-25 12:00\\nName: 날짜, dtype: object', '5    맑음\\nName: 날씨, dtype: object', -16.0, -6.0), (7, '6    서울\\nName: 지역, dtype: object', '6    2023-01-26 00:00\\nName: 날짜, dtype: object', '6    흐림\\nName: 날씨, dtype: object', -11.0, -2.0), (8, '7    서울\\nName: 지역, dtype: object', '7    2023-01-26 12:00\\nName: 날짜, dtype: object', '7    흐림\\nName: 날씨, dtype: object', -11.0, -2.0), (9, '8    서울\\nName: 지역, dtype: object', '8    2023-01-27 00:00\\nName: 날짜, dtype: object', '8    맑음\\nName: 날씨, dtype: object', -9.0, -3.0), (10, '9    서울\\nName: 지역, dtype: object', '9    2023-01-27 12:00\\nName: 날짜, dtype: object', '9    맑음\\nName: 날씨, dtype: object', -9.0, -3.0)]\n"
     ]
    }
   ],
   "source": [
    "select = \"select * from forecast\"\n",
    "curs.execute(select)\n",
    "rows = curs.fetchall()\n",
    "row_list = list(rows)\n",
    "print(row_list)\n"
   ]
  },
  {
   "cell_type": "code",
   "execution_count": 96,
   "metadata": {},
   "outputs": [],
   "source": [
    "insert = \"insert into forecast(city,date,weather,min,max) values(%s,%s,%s,%s,%s)\""
   ]
  },
  {
   "cell_type": "code",
   "execution_count": 157,
   "metadata": {},
   "outputs": [],
   "source": [
    "forecast = pd.read_csv(\"../Data/weatherList.csv\")\n",
    "forecast.describe()\n",
    "# count = 533\n",
    "\n",
    "# 지역,날짜,날씨,최저온도,최고온도\n",
    "\n",
    "for i in range(len(forecast)):\n",
    "    city = forecast.loc[i][0]\n",
    "    date = forecast.loc[i][1]\n",
    "    weather = forecast.loc[i][2]\n",
    "    min = float(forecast.loc[i][3])\n",
    "    max = float(forecast.loc[i][4])\n",
    "    curs.execute(insert,(city,date,weather,float(min),float(max)))\n",
    "\n",
    "    conn.commit()"
   ]
  },
  {
   "cell_type": "code",
   "execution_count": null,
   "metadata": {},
   "outputs": [],
   "source": []
  }
 ],
 "metadata": {
  "kernelspec": {
   "display_name": "tensorflow",
   "language": "python",
   "name": "python3"
  },
  "language_info": {
   "codemirror_mode": {
    "name": "ipython",
    "version": 3
   },
   "file_extension": ".py",
   "mimetype": "text/x-python",
   "name": "python",
   "nbconvert_exporter": "python",
   "pygments_lexer": "ipython3",
   "version": "3.9.13"
  },
  "orig_nbformat": 4,
  "vscode": {
   "interpreter": {
    "hash": "4d8b91bcbdb701e289b6a1d8c1277d30f7379cfd7af8489c64a2b22bf47c961d"
   }
  }
 },
 "nbformat": 4,
 "nbformat_minor": 2
}
