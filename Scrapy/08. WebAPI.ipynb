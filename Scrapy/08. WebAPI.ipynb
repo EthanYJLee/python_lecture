{
 "cells": [
  {
   "attachments": {},
   "cell_type": "markdown",
   "metadata": {},
   "source": [
    "### OpenWeatherMap\n",
    "http://openweathermap.org/      \n",
    "기본적으로 유료이지만, 현재 날씨와 5일까지의 날씨는 무료로 사용가능\n",
    "- json data"
   ]
  },
  {
   "cell_type": "code",
   "execution_count": 7,
   "metadata": {},
   "outputs": [],
   "source": [
    "import requests\n",
    "import json"
   ]
  },
  {
   "cell_type": "code",
   "execution_count": 51,
   "metadata": {},
   "outputs": [],
   "source": [
    "apikey = \"d5265640d43cf3f4ade53461a389e5fb\"\n",
    "# 날씨를 확인할 도시 지정하기\n",
    "cities = ['Seoul,KR','Tokyo,JP','New York,US','Beijing,CN']\n"
   ]
  },
  {
   "cell_type": "code",
   "execution_count": 52,
   "metadata": {},
   "outputs": [],
   "source": [
    "api = 'http://openweathermap.org/data/2.5/weather?1={city}&APPID={key}'"
   ]
  },
  {
   "cell_type": "code",
   "execution_count": 53,
   "metadata": {},
   "outputs": [],
   "source": [
    "# 켈빈 온도를 섭씨 온도로 변환\n",
    "k2c = lambda k: k -273.15"
   ]
  },
  {
   "cell_type": "code",
   "execution_count": 55,
   "metadata": {},
   "outputs": [
    {
     "ename": "KeyError",
     "evalue": "'name'",
     "output_type": "error",
     "traceback": [
      "\u001b[0;31m---------------------------------------------------------------------------\u001b[0m",
      "\u001b[0;31mKeyError\u001b[0m                                  Traceback (most recent call last)",
      "Cell \u001b[0;32mIn[55], line 5\u001b[0m\n\u001b[1;32m      3\u001b[0m data \u001b[39m=\u001b[39m json\u001b[39m.\u001b[39mloads(r\u001b[39m.\u001b[39mtext)\n\u001b[1;32m      4\u001b[0m \u001b[39m# print(data)\u001b[39;00m\n\u001b[0;32m----> 5\u001b[0m \u001b[39mprint\u001b[39m(\u001b[39m\"\u001b[39m\u001b[39m + 도시 = \u001b[39m\u001b[39m\"\u001b[39m, data[\u001b[39m'\u001b[39;49m\u001b[39mname\u001b[39;49m\u001b[39m'\u001b[39;49m])\n\u001b[1;32m      6\u001b[0m \u001b[39mprint\u001b[39m(\u001b[39m\"\u001b[39m\u001b[39m | 날씨 = \u001b[39m\u001b[39m\"\u001b[39m, data[\u001b[39m'\u001b[39m\u001b[39mweather\u001b[39m\u001b[39m'\u001b[39m][\u001b[39m0\u001b[39m][\u001b[39m'\u001b[39m\u001b[39mdescription\u001b[39m\u001b[39m'\u001b[39m])\n\u001b[1;32m      7\u001b[0m \u001b[39mprint\u001b[39m(\u001b[39m\"\u001b[39m\u001b[39m | 최저 기온 = \u001b[39m\u001b[39m\"\u001b[39m, k2c(data[\u001b[39m'\u001b[39m\u001b[39mmain\u001b[39m\u001b[39m'\u001b[39m][\u001b[39m'\u001b[39m\u001b[39mtemp_min\u001b[39m\u001b[39m'\u001b[39m]))\n",
      "\u001b[0;31mKeyError\u001b[0m: 'name'"
     ]
    }
   ],
   "source": [
    "url = api.format(city=cities[0],key=apikey)\n",
    "r = requests.get(url)\n",
    "data = json.loads(r.text)\n",
    "# print(data)\n",
    "print(\" + 도시 = \", data['name'])\n",
    "print(\" | 날씨 = \", data['weather'][0]['description'])\n",
    "print(\" | 최저 기온 = \", k2c(data['main']['temp_min']))"
   ]
  },
  {
   "attachments": {},
   "cell_type": "markdown",
   "metadata": {},
   "source": [
    "---\n",
    "### Naver API로 위도 경도 가져오기"
   ]
  },
  {
   "attachments": {},
   "cell_type": "markdown",
   "metadata": {},
   "source": [
    "Client ID: 8ql50uk6tx   \n",
    "Client Secret: X8wts2TLSDNGq843fmQEMw6uifYRhICmxlrDg0Fz"
   ]
  },
  {
   "cell_type": "code",
   "execution_count": 8,
   "metadata": {},
   "outputs": [],
   "source": [
    "import urllib.request\n",
    "import urllib"
   ]
  },
  {
   "cell_type": "code",
   "execution_count": null,
   "metadata": {},
   "outputs": [],
   "source": [
    "client_id = \"8ql50uk6tx\"\n",
    "client_secret = \"X8wts2TLSDNGq843fmQEMw6uifYRhICmxlrDg0Fz\""
   ]
  },
  {
   "attachments": {},
   "cell_type": "markdown",
   "metadata": {},
   "source": [
    "---\n",
    "### 주소 위도 경도 찾기\n",
    "- urllib.parse.quote(\"여기에 주소(지번)을 입력하면\")\n",
    "- 아래 process를 거쳐 위도 경도가 출력됨."
   ]
  },
  {
   "cell_type": "code",
   "execution_count": 59,
   "metadata": {},
   "outputs": [],
   "source": [
    "encText = urllib.parse.quote(\"서울시 영등포구 국회대로 608\")\n",
    "url = \"https://naveropenapi.apigw.ntruss.com/map-geocode/v2/geocode?query=\" + encText # json 결과\n",
    "request = urllib.request.Request(url)\n",
    "request.add_header(\"X-NCP-APIGW-API-KEY-ID\",client_id)\n",
    "request.add_header(\"X-NCP-APIGW-API-KEY\",client_secret)\n",
    "response = urllib.request.urlopen(request)\n",
    "rescode = response.getcode()\n",
    "if(rescode==200):\n",
    "    response_body = response.read()\n",
    "    entext = response_body.decode('utf-8')\n",
    "else:\n",
    "    print(\"Error Code:\" + rescode)"
   ]
  },
  {
   "cell_type": "code",
   "execution_count": null,
   "metadata": {},
   "outputs": [],
   "source": [
    "import json    \n",
    "data1 = json.loads(entext)\n",
    "# print(data1)\n",
    "data1"
   ]
  },
  {
   "cell_type": "code",
   "execution_count": 63,
   "metadata": {},
   "outputs": [
    {
     "name": "stdout",
     "output_type": "stream",
     "text": [
      "126.9009426 37.5258476\n"
     ]
    }
   ],
   "source": [
    "# 경도\n",
    "lng = data1['addresses'][0]['x']\n",
    "# 위도\n",
    "lat = data1['addresses'][0]['y']\n",
    "\n",
    "print(lng,lat)"
   ]
  },
  {
   "attachments": {},
   "cell_type": "markdown",
   "metadata": {},
   "source": [
    "# 주소 입력하면 경도 위도 반환하는 process"
   ]
  },
  {
   "cell_type": "code",
   "execution_count": 9,
   "metadata": {},
   "outputs": [],
   "source": [
    "import pandas as pd"
   ]
  },
  {
   "cell_type": "code",
   "execution_count": 10,
   "metadata": {},
   "outputs": [],
   "source": [
    "# 저장한 가장맛있는족발 지점 데이터 csv파일을 불러오기\n",
    "df = pd.read_csv(\"../Data/Gajok.csv\")\n",
    "df.reset_index(drop=True)\n",
    "address_list = [df.Address]\n",
    "\n",
    "name_list = [df.Branch]\n",
    "\n"
   ]
  },
  {
   "cell_type": "code",
   "execution_count": null,
   "metadata": {},
   "outputs": [],
   "source": [
    "# 가족 지점 주소 입력\n",
    "\n",
    "client_id = \"8ql50uk6tx\"\n",
    "client_secret = \"X8wts2TLSDNGq843fmQEMw6uifYRhICmxlrDg0Fz\"\n",
    "name_data = []\n",
    "address_data = []\n",
    "xy_data = []\n",
    "\n",
    "for i in range(len(df)):\n",
    "    name = name_list[0][i]\n",
    "    address = address_list[0][i]\n",
    "    try:\n",
    "        encText = urllib.parse.quote(address)\n",
    "        url = \"https://naveropenapi.apigw.ntruss.com/map-geocode/v2/geocode?query=\" + encText # json 결과\n",
    "        request = urllib.request.Request(url)\n",
    "        request.add_header(\"X-NCP-APIGW-API-KEY-ID\",client_id)\n",
    "        request.add_header(\"X-NCP-APIGW-API-KEY\",client_secret)\n",
    "        response = urllib.request.urlopen(request)\n",
    "        rescode = response.getcode()\n",
    "        if(rescode==200):\n",
    "            response_body = response.read()\n",
    "            entext = response_body.decode('utf-8')\n",
    "            \n",
    "            data = json.loads(entext)\n",
    "            # 경도\n",
    "            lng = data['addresses'][0]['x']\n",
    "            # 위도\n",
    "            lat = data['addresses'][0]['y']\n",
    "            # 경도 위도 한 컬럼으로 join\n",
    "            xy_join = [lng,lat]\n",
    "            xy = ', '.join(xy_join)\n",
    "\n",
    "            # 리스트에 추가\n",
    "            name_data.append(name)\n",
    "            address_data.append(address)\n",
    "            xy_data.append(xy)\n",
    "\n",
    "            # 지점명\n",
    "            print('------------------------------')\n",
    "            print('지점명: ',name,'\\n지점주소:\\t',address,'\\n위도/경도: ',lng,lat)\n",
    "\n",
    "        else:\n",
    "            print(\"Error Code:\" + rescode)\n",
    "    except:\n",
    "        print('---------------Error---------------')\n",
    "        print(name)\n",
    "        print(address)\n",
    "        print('---------------Error---------------')\n",
    "        pass\n",
    "\n",
    "gajok2 = pd.DataFrame(data=zip(name_data,address_data,xy_data), columns=[\"Branch\",\"Address\",\"Location\"], index=None)\n"
   ]
  },
  {
   "cell_type": "code",
   "execution_count": 27,
   "metadata": {},
   "outputs": [],
   "source": [
    "gajok2.to_csv(\"../Data/Gajok2.csv\",encoding=\"utf-8\",index=False)"
   ]
  },
  {
   "cell_type": "code",
   "execution_count": 28,
   "metadata": {},
   "outputs": [
    {
     "data": {
      "text/html": [
       "<div>\n",
       "<style scoped>\n",
       "    .dataframe tbody tr th:only-of-type {\n",
       "        vertical-align: middle;\n",
       "    }\n",
       "\n",
       "    .dataframe tbody tr th {\n",
       "        vertical-align: top;\n",
       "    }\n",
       "\n",
       "    .dataframe thead th {\n",
       "        text-align: right;\n",
       "    }\n",
       "</style>\n",
       "<table border=\"1\" class=\"dataframe\">\n",
       "  <thead>\n",
       "    <tr style=\"text-align: right;\">\n",
       "      <th></th>\n",
       "      <th>Branch</th>\n",
       "      <th>Address</th>\n",
       "      <th>Location</th>\n",
       "    </tr>\n",
       "  </thead>\n",
       "  <tbody>\n",
       "    <tr>\n",
       "      <th>0</th>\n",
       "      <td>강남1호점</td>\n",
       "      <td>서울시 서초구 서초대로73길 42(서초동)</td>\n",
       "      <td>127.0244570, 37.5012293</td>\n",
       "    </tr>\n",
       "    <tr>\n",
       "      <th>1</th>\n",
       "      <td>선정릉점</td>\n",
       "      <td>서울특별시 강남구 봉은사로57길 5(삼성동)</td>\n",
       "      <td>127.0451360, 37.5112143</td>\n",
       "    </tr>\n",
       "    <tr>\n",
       "      <th>2</th>\n",
       "      <td>한남오거리점</td>\n",
       "      <td>서울시 용산구 한남대로 21길 32(한남동)</td>\n",
       "      <td>127.0063017, 37.5334689</td>\n",
       "    </tr>\n",
       "    <tr>\n",
       "      <th>3</th>\n",
       "      <td>일원점</td>\n",
       "      <td>서울시 강남구 일원로 9길 55(일원동)</td>\n",
       "      <td>127.0859860, 37.4907614</td>\n",
       "    </tr>\n",
       "    <tr>\n",
       "      <th>4</th>\n",
       "      <td>뚝섬역점</td>\n",
       "      <td>서울시 성동구 상원1길 42(성수동)</td>\n",
       "      <td>127.0471344, 37.5470048</td>\n",
       "    </tr>\n",
       "    <tr>\n",
       "      <th>...</th>\n",
       "      <td>...</td>\n",
       "      <td>...</td>\n",
       "      <td>...</td>\n",
       "    </tr>\n",
       "    <tr>\n",
       "      <th>385</th>\n",
       "      <td>거제아주동점</td>\n",
       "      <td>경남 거제시 아주동 1688-10</td>\n",
       "      <td>128.6886626, 34.8665622</td>\n",
       "    </tr>\n",
       "    <tr>\n",
       "      <th>386</th>\n",
       "      <td>거제장승포점</td>\n",
       "      <td>경남 거제시 능포동 624-2</td>\n",
       "      <td>128.7319244, 34.8773676</td>\n",
       "    </tr>\n",
       "    <tr>\n",
       "      <th>387</th>\n",
       "      <td>제주삼화점</td>\n",
       "      <td>제주특별자치도 제주시 화북일동 1023-4</td>\n",
       "      <td>126.5757279, 33.5144570</td>\n",
       "    </tr>\n",
       "    <tr>\n",
       "      <th>388</th>\n",
       "      <td>제주이도점</td>\n",
       "      <td>제주특별자치도 제주시 승천로72(아라이동)</td>\n",
       "      <td>126.5424650, 33.4923034</td>\n",
       "    </tr>\n",
       "    <tr>\n",
       "      <th>389</th>\n",
       "      <td>전주송천점</td>\n",
       "      <td>전북 전주시 덕진구 송천동2가 523-14</td>\n",
       "      <td>127.1222885, 35.8667898</td>\n",
       "    </tr>\n",
       "  </tbody>\n",
       "</table>\n",
       "<p>390 rows × 3 columns</p>\n",
       "</div>"
      ],
      "text/plain": [
       "     Branch                    Address                 Location\n",
       "0     강남1호점   서울시 서초구 서초대로73길 42(서초동)   127.0244570, 37.5012293\n",
       "1      선정릉점  서울특별시 강남구 봉은사로57길 5(삼성동)   127.0451360, 37.5112143\n",
       "2    한남오거리점  서울시 용산구 한남대로 21길 32(한남동)   127.0063017, 37.5334689\n",
       "3       일원점    서울시 강남구 일원로 9길 55(일원동)   127.0859860, 37.4907614\n",
       "4      뚝섬역점      서울시 성동구 상원1길 42(성수동)   127.0471344, 37.5470048\n",
       "..      ...                        ...                      ...\n",
       "385  거제아주동점        경남 거제시 아주동 1688-10   128.6886626, 34.8665622\n",
       "386  거제장승포점          경남 거제시 능포동 624-2   128.7319244, 34.8773676\n",
       "387   제주삼화점   제주특별자치도 제주시 화북일동 1023-4   126.5757279, 33.5144570\n",
       "388   제주이도점   제주특별자치도 제주시 승천로72(아라이동)   126.5424650, 33.4923034\n",
       "389   전주송천점   전북 전주시 덕진구 송천동2가 523-14   127.1222885, 35.8667898\n",
       "\n",
       "[390 rows x 3 columns]"
      ]
     },
     "execution_count": 28,
     "metadata": {},
     "output_type": "execute_result"
    }
   ],
   "source": [
    "pd.read_csv(\"../Data/Gajok2.csv\")"
   ]
  },
  {
   "cell_type": "code",
   "execution_count": 37,
   "metadata": {},
   "outputs": [
    {
     "name": "stdout",
     "output_type": "stream",
     "text": [
      "(403, 3)\n",
      "(390, 3)\n",
      "(390, 4)\n"
     ]
    }
   ],
   "source": [
    "# 현재 df의 컬럼은 Branch, Address, Tel\n",
    "# gajok2의 컬럼은 Branch, Address, Location\n",
    "\n",
    "print(df.shape)\n",
    "# df: 403rows, 3cols\n",
    "\n",
    "print(gajok2.shape)\n",
    "# gajok2: 390rows, 3cols\n",
    "\n",
    "# merge를 통해 공통된 컬럼 (Branch, Address)를 기준으로 Dataframe 병합\n",
    "gajok3 = pd.merge(df,gajok2,on=(\"Branch\",\"Address\"))\n",
    "print(gajok3.shape)\n",
    "# gajok3 결과: 390rows, 4cols\n",
    "gajok3.to_csv(\"../Data/Gajok3.csv\",encoding=\"utf-8\",index=False)"
   ]
  },
  {
   "cell_type": "code",
   "execution_count": 38,
   "metadata": {},
   "outputs": [
    {
     "data": {
      "text/html": [
       "<div>\n",
       "<style scoped>\n",
       "    .dataframe tbody tr th:only-of-type {\n",
       "        vertical-align: middle;\n",
       "    }\n",
       "\n",
       "    .dataframe tbody tr th {\n",
       "        vertical-align: top;\n",
       "    }\n",
       "\n",
       "    .dataframe thead th {\n",
       "        text-align: right;\n",
       "    }\n",
       "</style>\n",
       "<table border=\"1\" class=\"dataframe\">\n",
       "  <thead>\n",
       "    <tr style=\"text-align: right;\">\n",
       "      <th></th>\n",
       "      <th>Branch</th>\n",
       "      <th>Address</th>\n",
       "      <th>Tel</th>\n",
       "      <th>Location</th>\n",
       "    </tr>\n",
       "  </thead>\n",
       "  <tbody>\n",
       "    <tr>\n",
       "      <th>0</th>\n",
       "      <td>강남1호점</td>\n",
       "      <td>서울시 서초구 서초대로73길 42(서초동)</td>\n",
       "      <td>02-595-5849</td>\n",
       "      <td>127.0244570, 37.5012293</td>\n",
       "    </tr>\n",
       "    <tr>\n",
       "      <th>1</th>\n",
       "      <td>선정릉점</td>\n",
       "      <td>서울특별시 강남구 봉은사로57길 5(삼성동)</td>\n",
       "      <td>02-543-5849</td>\n",
       "      <td>127.0451360, 37.5112143</td>\n",
       "    </tr>\n",
       "    <tr>\n",
       "      <th>2</th>\n",
       "      <td>한남오거리점</td>\n",
       "      <td>서울시 용산구 한남대로 21길 32(한남동)</td>\n",
       "      <td>02-797-1231</td>\n",
       "      <td>127.0063017, 37.5334689</td>\n",
       "    </tr>\n",
       "    <tr>\n",
       "      <th>3</th>\n",
       "      <td>일원점</td>\n",
       "      <td>서울시 강남구 일원로 9길 55(일원동)</td>\n",
       "      <td>02-3412-0070</td>\n",
       "      <td>127.0859860, 37.4907614</td>\n",
       "    </tr>\n",
       "    <tr>\n",
       "      <th>4</th>\n",
       "      <td>뚝섬역점</td>\n",
       "      <td>서울시 성동구 상원1길 42(성수동)</td>\n",
       "      <td>02-468-7535</td>\n",
       "      <td>127.0471344, 37.5470048</td>\n",
       "    </tr>\n",
       "    <tr>\n",
       "      <th>...</th>\n",
       "      <td>...</td>\n",
       "      <td>...</td>\n",
       "      <td>...</td>\n",
       "      <td>...</td>\n",
       "    </tr>\n",
       "    <tr>\n",
       "      <th>385</th>\n",
       "      <td>거제아주동점</td>\n",
       "      <td>경남 거제시 아주동 1688-10</td>\n",
       "      <td>055-681-8682</td>\n",
       "      <td>128.6886626, 34.8665622</td>\n",
       "    </tr>\n",
       "    <tr>\n",
       "      <th>386</th>\n",
       "      <td>거제장승포점</td>\n",
       "      <td>경남 거제시 능포동 624-2</td>\n",
       "      <td>055-681-5853</td>\n",
       "      <td>128.7319244, 34.8773676</td>\n",
       "    </tr>\n",
       "    <tr>\n",
       "      <th>387</th>\n",
       "      <td>제주삼화점</td>\n",
       "      <td>제주특별자치도 제주시 화북일동 1023-4</td>\n",
       "      <td>064-722-5849</td>\n",
       "      <td>126.5757279, 33.5144570</td>\n",
       "    </tr>\n",
       "    <tr>\n",
       "      <th>388</th>\n",
       "      <td>제주이도점</td>\n",
       "      <td>제주특별자치도 제주시 승천로72(아라이동)</td>\n",
       "      <td>064-723-5849</td>\n",
       "      <td>126.5424650, 33.4923034</td>\n",
       "    </tr>\n",
       "    <tr>\n",
       "      <th>389</th>\n",
       "      <td>전주송천점</td>\n",
       "      <td>전북 전주시 덕진구 송천동2가 523-14</td>\n",
       "      <td>063-255-5849</td>\n",
       "      <td>127.1222885, 35.8667898</td>\n",
       "    </tr>\n",
       "  </tbody>\n",
       "</table>\n",
       "<p>390 rows × 4 columns</p>\n",
       "</div>"
      ],
      "text/plain": [
       "     Branch                    Address            Tel                 Location\n",
       "0     강남1호점   서울시 서초구 서초대로73길 42(서초동)    02-595-5849   127.0244570, 37.5012293\n",
       "1      선정릉점  서울특별시 강남구 봉은사로57길 5(삼성동)    02-543-5849   127.0451360, 37.5112143\n",
       "2    한남오거리점  서울시 용산구 한남대로 21길 32(한남동)    02-797-1231   127.0063017, 37.5334689\n",
       "3       일원점    서울시 강남구 일원로 9길 55(일원동)   02-3412-0070   127.0859860, 37.4907614\n",
       "4      뚝섬역점      서울시 성동구 상원1길 42(성수동)    02-468-7535   127.0471344, 37.5470048\n",
       "..      ...                        ...            ...                      ...\n",
       "385  거제아주동점        경남 거제시 아주동 1688-10   055-681-8682   128.6886626, 34.8665622\n",
       "386  거제장승포점          경남 거제시 능포동 624-2   055-681-5853   128.7319244, 34.8773676\n",
       "387   제주삼화점   제주특별자치도 제주시 화북일동 1023-4   064-722-5849   126.5757279, 33.5144570\n",
       "388   제주이도점   제주특별자치도 제주시 승천로72(아라이동)   064-723-5849   126.5424650, 33.4923034\n",
       "389   전주송천점   전북 전주시 덕진구 송천동2가 523-14   063-255-5849   127.1222885, 35.8667898\n",
       "\n",
       "[390 rows x 4 columns]"
      ]
     },
     "execution_count": 38,
     "metadata": {},
     "output_type": "execute_result"
    }
   ],
   "source": [
    "pd.read_csv(\"../Data/Gajok3.csv\")"
   ]
  },
  {
   "cell_type": "code",
   "execution_count": null,
   "metadata": {},
   "outputs": [],
   "source": []
  }
 ],
 "metadata": {
  "kernelspec": {
   "display_name": "tensorflow",
   "language": "python",
   "name": "python3"
  },
  "language_info": {
   "codemirror_mode": {
    "name": "ipython",
    "version": 3
   },
   "file_extension": ".py",
   "mimetype": "text/x-python",
   "name": "python",
   "nbconvert_exporter": "python",
   "pygments_lexer": "ipython3",
   "version": "3.9.13"
  },
  "orig_nbformat": 4,
  "vscode": {
   "interpreter": {
    "hash": "4d8b91bcbdb701e289b6a1d8c1277d30f7379cfd7af8489c64a2b22bf47c961d"
   }
  }
 },
 "nbformat": 4,
 "nbformat_minor": 2
}
