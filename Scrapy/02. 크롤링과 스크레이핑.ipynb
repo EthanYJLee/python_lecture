{
 "cells": [
  {
   "attachments": {},
   "cell_type": "markdown",
   "metadata": {},
   "source": [
    "# requests\n",
    "\n",
    "응답코드\n",
    "\n",
    "1xx: 요청을 받았고 작업 진행중          \n",
    "2xx: 사용자의 요청이 성공적으로 수행됨          \n",
    "3xx: 요청은 완료되었으나 리다이렉션 (redirect)이 필요하다           \n",
    "4xx: 사용자의 요청이 잘못됨         \n",
    "5xx: 서버에 오류가 발생함           \n",
    "\n"
   ]
  },
  {
   "cell_type": "code",
   "execution_count": null,
   "metadata": {},
   "outputs": [],
   "source": [
    "import requests as req\n",
    "URL = \"https://www.naver.com\"\n",
    "response = req.get(URL)\n",
    "print(response.status_code)\n",
    "# 결과: 200\n",
    "# 1. 존재하는 사이트임\n",
    "# 2. 요청이 성공적으로 수행됨\n",
    "\n",
    "# HTML 출력\n",
    "print(response.text)"
   ]
  },
  {
   "cell_type": "code",
   "execution_count": null,
   "metadata": {},
   "outputs": [],
   "source": [
    "import requests as req\n",
    "URL = \"https://search.naver.com/search.naver\"\n",
    "params = {'query':'python'}\n",
    "response = req.get(URL, params=params)\n",
    "print(response.status_code)\n",
    "\n",
    "print(response.text)"
   ]
  },
  {
   "cell_type": "code",
   "execution_count": null,
   "metadata": {},
   "outputs": [],
   "source": [
    "import requests as req\n",
    "URL = \"https://comic.naver.com/webtoon/detail.nhn\"\n",
    "params = {'titleId':'681915','no':'157'}\n",
    "response = req.get(URL, params=params)\n",
    "print(response.status_code)\n",
    "print(response.text)"
   ]
  },
  {
   "cell_type": "code",
   "execution_count": null,
   "metadata": {},
   "outputs": [],
   "source": [
    "import requests as req\n",
    "# json 가져오기\n",
    "URL = \"https://raw.githubusercontent.com/naver/naver-openapi-guide/draft/naver-openapi-swagger.json\"\n",
    "response = req.get(URL)\n",
    "result = response.json()\n",
    "print(response.status_code)\n",
    "print(type(result))\n",
    "# dict type\n",
    "print(result)\n",
    "# json 형식"
   ]
  }
 ],
 "metadata": {
  "kernelspec": {
   "display_name": "tensorflow",
   "language": "python",
   "name": "python3"
  },
  "language_info": {
   "codemirror_mode": {
    "name": "ipython",
    "version": 3
   },
   "file_extension": ".py",
   "mimetype": "text/x-python",
   "name": "python",
   "nbconvert_exporter": "python",
   "pygments_lexer": "ipython3",
   "version": "3.9.13"
  },
  "orig_nbformat": 4,
  "vscode": {
   "interpreter": {
    "hash": "4d8b91bcbdb701e289b6a1d8c1277d30f7379cfd7af8489c64a2b22bf47c961d"
   }
  }
 },
 "nbformat": 4,
 "nbformat_minor": 2
}
