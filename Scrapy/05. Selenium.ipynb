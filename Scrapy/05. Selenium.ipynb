{
 "cells": [
  {
   "cell_type": "code",
   "execution_count": 6,
   "metadata": {},
   "outputs": [],
   "source": [
    "# !pip install selenium"
   ]
  },
  {
   "cell_type": "code",
   "execution_count": 7,
   "metadata": {},
   "outputs": [],
   "source": [
    "# !pip install webdriver-manager"
   ]
  },
  {
   "cell_type": "code",
   "execution_count": 8,
   "metadata": {},
   "outputs": [],
   "source": [
    "from selenium import webdriver\n",
    "from selenium.webdriver.chrome.service import Service\n",
    "from webdriver_manager.chrome import ChromeDriverManager\n",
    "from selenium.webdriver.common.by import By"
   ]
  },
  {
   "attachments": {},
   "cell_type": "markdown",
   "metadata": {},
   "source": [
    "---\n",
    "### 오피넷 유가정보"
   ]
  },
  {
   "cell_type": "code",
   "execution_count": 9,
   "metadata": {},
   "outputs": [],
   "source": [
    "# Chrome Browser과 Chrome Driver Version 확인하기\n",
    "chrom_options = webdriver.ChromeOptions()\n",
    "driver = webdriver.Chrome(service=Service(ChromeDriverManager().install()),options=chrom_options)\n",
    "driver.get(\"https://www.opinet.co.kr/searRgSelect.do\")"
   ]
  },
  {
   "cell_type": "code",
   "execution_count": 10,
   "metadata": {},
   "outputs": [
    {
     "data": {
      "text/plain": [
       "True"
      ]
     },
     "execution_count": 10,
     "metadata": {},
     "output_type": "execute_result"
    }
   ],
   "source": [
    "# 현재 화면 Capture하기\n",
    "# 나에게 제어되고 있는 브라우저인지 확인\n",
    "driver.save_screenshot(\"../Data/001.png\")"
   ]
  },
  {
   "attachments": {},
   "cell_type": "markdown",
   "metadata": {},
   "source": [
    "---\n",
    "# 서울시 유가 정보 획득을 위한 Test"
   ]
  },
  {
   "attachments": {},
   "cell_type": "markdown",
   "metadata": {},
   "source": [
    "### 자치구명 목록 가져오기"
   ]
  },
  {
   "cell_type": "code",
   "execution_count": null,
   "metadata": {},
   "outputs": [],
   "source": [
    "# 자치구명 정보 가져오기 (XPath): //*[@id=\"SIGUNGU_NM0\"]\n",
    "gu_list_raw = driver.find_element(By.XPATH, '//*[@id=\"SIGUNGU_NM0\"]')\n",
    "gu_list = gu_list_raw.find_elements(By.TAG_NAME,'option')\n",
    "gu_names = [option.get_attribute('value') for option in gu_list]\n",
    "gu_names.remove('')\n",
    "print(gu_names)\n"
   ]
  },
  {
   "attachments": {},
   "cell_type": "markdown",
   "metadata": {},
   "source": [
    "### 조회버튼 클릭"
   ]
  },
  {
   "cell_type": "code",
   "execution_count": null,
   "metadata": {},
   "outputs": [
    {
     "name": "stdout",
     "output_type": "stream",
     "text": [
      "['강남구', '강동구', '강북구', '강서구', '관악구', '광진구', '구로구', '금천구', '노원구', '도봉구', '동대문구', '동작구', '마포구', '서대문구', '서초구', '성동구', '성북구', '송파구', '양천구', '영등포구', '용산구', '은평구', '종로구', '중구', '중랑구']\n"
     ]
    }
   ],
   "source": [
    "# 조회버튼 click위해 XPath 가져오기: //*[@id=\"searRgSelect\"]/span\n",
    "xpath = '//*[@id=\"searRgSelect\"]/span'\n",
    "\n",
    "search = driver.find_element(By.XPATH, xpath).click()\n",
    "# 실행하면 조회버튼 클릭 실행됨\n",
    "\n",
    "print(gu_names)"
   ]
  },
  {
   "attachments": {},
   "cell_type": "markdown",
   "metadata": {},
   "source": [
    "### 자치구명 선택해서 전달"
   ]
  },
  {
   "cell_type": "code",
   "execution_count": null,
   "metadata": {},
   "outputs": [],
   "source": [
    "# 자치구 이름을 획득하여 1번 자치구를 실행\n",
    "element = driver.find_element(By.ID, 'SIGUNGU_NM0')\n",
    "# 드랍다운에 key값을 전해준다. (1번: 강동구)\n",
    "element.send_keys(gu_names[1])"
   ]
  },
  {
   "attachments": {},
   "cell_type": "markdown",
   "metadata": {},
   "source": [
    "### 엑셀 저장버튼 클릭"
   ]
  },
  {
   "cell_type": "code",
   "execution_count": null,
   "metadata": {},
   "outputs": [],
   "source": [
    "# 엑셀 저장버튼 클릭: //*[@id=\"glopopd_excel\"]/span\n",
    "save_path = '//*[@id=\"glopopd_excel\"]/span'\n",
    "save = driver.find_element(By.XPATH, save_path).click()"
   ]
  },
  {
   "attachments": {},
   "cell_type": "markdown",
   "metadata": {},
   "source": [
    "# 테스트 완료\n",
    "\n",
    "---"
   ]
  },
  {
   "attachments": {},
   "cell_type": "markdown",
   "metadata": {},
   "source": [
    "# 데이터 수집\n",
    "- 서울시 1번 ~ 25번 자치구별 주유소 조회 후 엑셀파일로 저장까지"
   ]
  },
  {
   "cell_type": "code",
   "execution_count": null,
   "metadata": {},
   "outputs": [],
   "source": [
    "# 화면에 그림을 그리는 시간이 필요하므로 이를 delay 시키도록 한다.\n",
    "# import time\n",
    "# for gu in gu_names:\n",
    "#     element = driver.find_element(By.ID, 'SIGUNGU_NM0')\n",
    "#     element.send_keys(gu)\n",
    "#     time.sleep(2)\n",
    "    \n",
    "#     xpath = '//*[@id=\"SIGUNGU_NM0\"]'\n",
    "#     gu_list_raw = driver.find_element(By.XPATH, xpath)\n",
    "#     time.sleep(1)\n",
    "\n",
    "#     xpath = '//*[@id=\"glopopd_excel\"]/span'\n",
    "#     element_get_excel = driver.find_element(By.XPATH, save_path).click()\n",
    "#     time.sleep(1)"
   ]
  },
  {
   "attachments": {},
   "cell_type": "markdown",
   "metadata": {},
   "source": [
    "---\n",
    "# 가장 맛있는 족발 매장정보\n",
    "- 매장명\n",
    "- 매장주소\n",
    "- 전화번호\n",
    "- 이미지\n"
   ]
  },
  {
   "cell_type": "code",
   "execution_count": 12,
   "metadata": {},
   "outputs": [],
   "source": [
    "from selenium import webdriver\n",
    "from selenium.webdriver.chrome.service import Service\n",
    "from webdriver_manager.chrome import ChromeDriverManager\n",
    "from selenium.webdriver.common.by import By\n",
    "import pandas as pd\n",
    "from bs4 import BeautifulSoup\n",
    "import urllib.request as req\n",
    "import time"
   ]
  },
  {
   "cell_type": "code",
   "execution_count": 13,
   "metadata": {},
   "outputs": [],
   "source": [
    "chrom_options = webdriver.ChromeOptions()\n",
    "driver = webdriver.Chrome(service=Service(ChromeDriverManager().install()),options=chrom_options)\n",
    "driver.get(\"https://gajok.kr/sub/store.php\")\n",
    "\n",
    "url = \"https://gajok.kr/sub/store.php\"\n",
    "res = req.urlopen(url)\n",
    "soup = BeautifulSoup(res,\"html.parser\")"
   ]
  },
  {
   "cell_type": "code",
   "execution_count": null,
   "metadata": {},
   "outputs": [],
   "source": [
    "names = []\n",
    "addresses = []\n",
    "tels = []\n",
    "# 상세정보 버튼 클릭\n",
    "for i in range(1,404):\n",
    "    try:\n",
    "        \n",
    "        driver.find_element(By.XPATH,f'//*[@id=\"result_store\"]/div[1]/ol/li[{i}]/a').click()\n",
    "        time.sleep(1)\n",
    "    \n",
    "        # 정보 dialog\n",
    "        info_list_raw = driver.find_element(By.XPATH, '//*[@id=\"map\"]/div[1]/div/div[6]/div[404]')\n",
    "    \n",
    "        # 지점명 가져오기\n",
    "        name_list = info_list_raw.find_element(By.TAG_NAME,'p').get_attribute('textContent')\n",
    "        print('지점명:\\t',name_list)\n",
    "        names.append(name_list)\n",
    "\n",
    "        # 주소 가져오기\n",
    "        address_list = info_list_raw.find_element(By.TAG_NAME,'li').get_attribute('textContent')\n",
    "        print('주소:\\t',address_list)\n",
    "        time.sleep(1)\n",
    "        addresses.append(address_list)\n",
    "\n",
    "        # tel_list = soup.find('#map > div > div > div > div > div > div.text > ul > li')\n",
    "        tel_list_raw = driver.find_element(By.XPATH,'//*[@id=\"map\"]/div[1]/div/div[6]/div[404]/div/div[2]/ul/li[2]')\n",
    "        tel_list = tel_list_raw.get_attribute(\"textContent\")\n",
    "        print('전화번호:\\t',tel_list)\n",
    "        tels.append(tel_list)\n",
    "\n",
    "        driver.find_element(By.XPATH,'//*[@id=\"title\"]/a/img').click()\n",
    "        time.sleep(1)\n",
    "    except:\n",
    "        print(\"----------\\n오류\\n----------\")\n",
    "        pass\n",
    "    \n"
   ]
  },
  {
   "cell_type": "code",
   "execution_count": null,
   "metadata": {},
   "outputs": [
    {
     "data": {
      "text/html": [
       "<div>\n",
       "<style scoped>\n",
       "    .dataframe tbody tr th:only-of-type {\n",
       "        vertical-align: middle;\n",
       "    }\n",
       "\n",
       "    .dataframe tbody tr th {\n",
       "        vertical-align: top;\n",
       "    }\n",
       "\n",
       "    .dataframe thead th {\n",
       "        text-align: right;\n",
       "    }\n",
       "</style>\n",
       "<table border=\"1\" class=\"dataframe\">\n",
       "  <thead>\n",
       "    <tr style=\"text-align: right;\">\n",
       "      <th></th>\n",
       "      <th>Branch</th>\n",
       "      <th>Address</th>\n",
       "      <th>Tel</th>\n",
       "    </tr>\n",
       "  </thead>\n",
       "  <tbody>\n",
       "    <tr>\n",
       "      <th>0</th>\n",
       "      <td>강남1호점</td>\n",
       "      <td>서울시 서초구 서초대로73길 42(서초동)</td>\n",
       "      <td>02-595-5849</td>\n",
       "    </tr>\n",
       "    <tr>\n",
       "      <th>1</th>\n",
       "      <td>선정릉점</td>\n",
       "      <td>서울특별시 강남구 봉은사로57길 5(삼성동)</td>\n",
       "      <td>02-543-5849</td>\n",
       "    </tr>\n",
       "    <tr>\n",
       "      <th>2</th>\n",
       "      <td>한남오거리점</td>\n",
       "      <td>서울시 용산구 한남대로 21길 32(한남동)</td>\n",
       "      <td>02-797-1231</td>\n",
       "    </tr>\n",
       "    <tr>\n",
       "      <th>3</th>\n",
       "      <td>일원점</td>\n",
       "      <td>서울시 강남구 일원로 9길 55(일원동)</td>\n",
       "      <td>02-3412-0070</td>\n",
       "    </tr>\n",
       "    <tr>\n",
       "      <th>4</th>\n",
       "      <td>뚝섬역점</td>\n",
       "      <td>서울시 성동구 상원1길 42(성수동)</td>\n",
       "      <td>02-468-7535</td>\n",
       "    </tr>\n",
       "    <tr>\n",
       "      <th>...</th>\n",
       "      <td>...</td>\n",
       "      <td>...</td>\n",
       "      <td>...</td>\n",
       "    </tr>\n",
       "    <tr>\n",
       "      <th>398</th>\n",
       "      <td>거제아주동점</td>\n",
       "      <td>경남 거제시 아주동 1688-10</td>\n",
       "      <td>055-681-8682</td>\n",
       "    </tr>\n",
       "    <tr>\n",
       "      <th>399</th>\n",
       "      <td>거제장승포점</td>\n",
       "      <td>경남 거제시 능포동 624-2</td>\n",
       "      <td>055-681-5853</td>\n",
       "    </tr>\n",
       "    <tr>\n",
       "      <th>400</th>\n",
       "      <td>제주삼화점</td>\n",
       "      <td>제주특별자치도 제주시 화북일동 1023-4</td>\n",
       "      <td>064-722-5849</td>\n",
       "    </tr>\n",
       "    <tr>\n",
       "      <th>401</th>\n",
       "      <td>제주이도점</td>\n",
       "      <td>제주특별자치도 제주시 승천로72(아라이동)</td>\n",
       "      <td>064-723-5849</td>\n",
       "    </tr>\n",
       "    <tr>\n",
       "      <th>402</th>\n",
       "      <td>전주송천점</td>\n",
       "      <td>전북 전주시 덕진구 송천동2가 523-14</td>\n",
       "      <td>063-255-5849</td>\n",
       "    </tr>\n",
       "  </tbody>\n",
       "</table>\n",
       "<p>403 rows × 3 columns</p>\n",
       "</div>"
      ],
      "text/plain": [
       "     Branch                    Address            Tel\n",
       "0     강남1호점   서울시 서초구 서초대로73길 42(서초동)    02-595-5849 \n",
       "1      선정릉점  서울특별시 강남구 봉은사로57길 5(삼성동)    02-543-5849 \n",
       "2    한남오거리점  서울시 용산구 한남대로 21길 32(한남동)    02-797-1231 \n",
       "3       일원점    서울시 강남구 일원로 9길 55(일원동)   02-3412-0070 \n",
       "4      뚝섬역점      서울시 성동구 상원1길 42(성수동)    02-468-7535 \n",
       "..      ...                        ...            ...\n",
       "398  거제아주동점        경남 거제시 아주동 1688-10   055-681-8682 \n",
       "399  거제장승포점          경남 거제시 능포동 624-2   055-681-5853 \n",
       "400   제주삼화점   제주특별자치도 제주시 화북일동 1023-4   064-722-5849 \n",
       "401   제주이도점   제주특별자치도 제주시 승천로72(아라이동)   064-723-5849 \n",
       "402   전주송천점   전북 전주시 덕진구 송천동2가 523-14   063-255-5849 \n",
       "\n",
       "[403 rows x 3 columns]"
      ]
     },
     "execution_count": 373,
     "metadata": {},
     "output_type": "execute_result"
    }
   ],
   "source": [
    "df = pd.DataFrame(data=zip(names,addresses,tels), columns=[\"Branch\",\"Address\",\"Tel\"], index=None)\n",
    "df\n",
    "df.to_csv(\"../Data/Gajok.csv\",encoding=\"utf-8\",index=False)\n",
    "df"
   ]
  }
 ],
 "metadata": {
  "kernelspec": {
   "display_name": "tensorflow",
   "language": "python",
   "name": "python3"
  },
  "language_info": {
   "codemirror_mode": {
    "name": "ipython",
    "version": 3
   },
   "file_extension": ".py",
   "mimetype": "text/x-python",
   "name": "python",
   "nbconvert_exporter": "python",
   "pygments_lexer": "ipython3",
   "version": "3.9.13"
  },
  "orig_nbformat": 4,
  "vscode": {
   "interpreter": {
    "hash": "4d8b91bcbdb701e289b6a1d8c1277d30f7379cfd7af8489c64a2b22bf47c961d"
   }
  }
 },
 "nbformat": 4,
 "nbformat_minor": 2
}
